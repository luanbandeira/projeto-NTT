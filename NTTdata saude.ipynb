{
 "cells": [
  {
   "cell_type": "markdown",
   "metadata": {
    "application/vnd.databricks.v1+cell": {
     "cellMetadata": {},
     "inputWidgets": {},
     "nuid": "96816ed7-b08a-4ca3-abb9-f99880c3535d",
     "showTitle": false,
     "tableResultSettingsMap": {},
     "title": ""
    }
   },
   "source": [
    "# 🪐 Projeto - Pipeline Bronze , Silver e Gold no Databricks\n",
    "\n",
    "🥉 A camada Bronze consiste em **armazenar os arquivos brutos exatamente como recebidos**, sem qualquer tratamento, limpeza ou parsing.  \n",
    "\n",
    "🥈 A camada Silver consiste no tratamento e padronização dos arquivos, para facilitar a sua leitura.\n",
    "\n",
    "🥇 A camada Gold consiste na visualização dos dados através de gráficos e os respectivos dados ja tratado na camada silver.\n",
    "\n",
    "- O objetivo aqui é **preservar a integridade dos dados originais**, sem alterá-los.  \n",
    "- No Databricks, utilizamos o método `text()` para armazenar os dados como linhas de texto puro, mantendo os acentos e caracteres como estão no arquivo de origem."
   ]
  },
  {
   "cell_type": "code",
   "execution_count": 0,
   "metadata": {
    "application/vnd.databricks.v1+cell": {
     "cellMetadata": {
      "byteLimit": 2048000,
      "rowLimit": 10000
     },
     "collapsed": true,
     "inputWidgets": {},
     "nuid": "6482be4c-f067-47c9-b0ac-35c938b94601",
     "showTitle": false,
     "tableResultSettingsMap": {},
     "title": ""
    }
   },
   "outputs": [
    {
     "output_type": "stream",
     "name": "stdout",
     "output_type": "stream",
     "text": [
      "Atendimentos - Bronze (dados brutos):\n+--------------------------------------------------------------------------------------------------------------------------------------------------------------------------------------------+\n|value                                                                                                                                                                                       |\n+--------------------------------------------------------------------------------------------------------------------------------------------------------------------------------------------+\n|atendimento_id,paciente_id,nome_paciente,doenca,localidade,especialidade,local_atendimento,data_atendimento,data_consulta,medico                                                            |\n|60cd2245-b9c8-48cb-a48f-927efaad3509,8b34bd8e-e008-4e80-820f-9f55950a521b,Ana Julia Sousa,deserunt,Farias de Peixoto,repellendus,Alves Vasconcelos - EI,2021-06-02,2023-10-02,Francisco Lima|\n|cc56033d-9d04-4aae-a00b-4062d983b1b0,5230cac3-ca7a-4664-a7eb-ddf8ac566ff9,Srta. Maria Flor Casa Grande,laudantium,Sá das Flores,quasi,Porto S/A,2022-09-30,2023-05-10,Dom Peixoto           |\n|e6b37369-6cff-4ae8-ac0c-e26bd9d64f09,a397f8be-faee-4367-a076-63128eaaaf11,Liam Moura,laborum,Pastor,ex,Costa - EI,2020-11-26,2022-06-28,Léo Fernandes                                       |\n|320f82d0-1832-456e-a3fa-93ed95d87821,c86209f6-ef67-4635-9c88-3ea84a4eae0b,Carolina Guerra,molestiae,Porto,inventore,da Costa,2022-06-18,2022-11-13,Stella Martins                           |\n+--------------------------------------------------------------------------------------------------------------------------------------------------------------------------------------------+\nonly showing top 5 rows\n\nCirurgias - Bronze (dados brutos):\n+-------------------------------------------------------------------------------------------------------------------------------------------------------+\n|value                                                                                                                                                  |\n+-------------------------------------------------------------------------------------------------------------------------------------------------------+\n|nome_paciente,data_cirurgia,cod_paciente,tipo_cirurgia,doenca,hospital,tipo_procedimento,nome_medico,resultado_cirurgia                                |\n|Igor Lopes,2023-11-28,892256,Cirurgia torácica,Fratura óssea,Hospital São Paulo,Procedimento não invasivo,Rodrigo da Mota,Falha                        |\n|João Miguel Ramos,2022-01-08,925794,Cirurgia ortopédica,Fratura óssea,Hospital Albert Einstein,Procedimento invasivo,Ana Lívia das Neves,Falha         |\n|Anna Liz Costa,2022-12-09,663278,Cirurgia plástica,Queimadura,Hospital Sírio-Libanês,Procedimento invasivo,Pedro da Mata,Complicações                  |\n|Mirella Marques,2022-08-29,920507,Cirurgia plástica,Doença cardíaca,Hospital Albert Einstein,Procedimento invasivo,Sr. Pedro Henrique Fernandes,Sucesso|\n+-------------------------------------------------------------------------------------------------------------------------------------------------------+\nonly showing top 5 rows\n\nExames - Bronze (dados brutos):\n+--------------------------------------------------------------------------------------------------------------------------------------------------+\n|value                                                                                                                                             |\n+--------------------------------------------------------------------------------------------------------------------------------------------------+\n|exame_id,paciente_id,nome_paciente,nome_exame,data_realizacao,solicitante,localidade,especialidade_solicitante                                    |\n|545c41de-d297-41b4-a429-84fd052cb8bb,dcc3dd51-60a2-47cf-8a56-4de21f6af200,Pedro Lucas Abreu,veniam,2024-03-21,Nicole Almeida,Guerra,necessitatibus|\n|5e808b6d-df45-4d75-9ed7-ceb322127915,058fe562-c221-4210-821f-5a48b7ced8d4,Raquel Pacheco,dolor,2020-07-18,Isabelly Fernandes,Rios,suscipit        |\n|994e5797-88dc-485a-af62-bfe1407ba1c7,3f5756f9-d00c-4248-bd91-8c8b6edfa290,Dr. Caio Silveira,nam,2023-03-20,Ísis Montenegro,Jesus,odit             |\n|23384a8b-d852-4880-8487-9c4412cc2d6f,4d2bcb72-6251-4e08-9f06-ebac80402304,João Vitor Fernandes,voluptatem,2024-09-02,Bruno Guerra,Moraes,possimus |\n+--------------------------------------------------------------------------------------------------------------------------------------------------+\nonly showing top 5 rows\n\nOut[1]: True"
     ]
    }
   ],
   "source": [
    "# 🥉 Bronze - Exibir o conteúdo bruto do arquivo, sem tratamento\n",
    "\n",
    "# Leitura de cada arquivo como texto (linha a linha, sem parsear CSV)\n",
    "df_atendimentos_bronze = spark.read.text(\"dbfs:/FileStore/tables/atendimentos.csv\")\n",
    "df_cirurgias_bronze = spark.read.text(\"dbfs:/FileStore/tables/cirurgias_sus.csv\")\n",
    "df_exames_bronze = spark.read.text(\"dbfs:/FileStore/tables/exames.csv\")\n",
    "\n",
    "# Mostrar uma amostra das linhas brutas (cada linha como uma string)\n",
    "print(\"Atendimentos - Bronze (dados brutos):\")\n",
    "df_atendimentos_bronze.show(5, truncate=False)\n",
    "\n",
    "print(\"Cirurgias - Bronze (dados brutos):\")\n",
    "df_cirurgias_bronze.show(5, truncate=False)\n",
    "\n",
    "print(\"Exames - Bronze (dados brutos):\")\n",
    "df_exames_bronze.show(5, truncate=False)\n",
    "\n",
    "# Copiar os arquivos originais para a camada Bronze, como foram recebidos\n",
    "dbutils.fs.cp(\"dbfs:/FileStore/tables/atendimentos.csv\", \"dbfs:/mnt/bronze/atendimentos.csv\")\n",
    "dbutils.fs.cp(\"dbfs:/FileStore/tables/cirurgias_sus.csv\", \"dbfs:/mnt/bronze/cirurgias_sus.csv\")\n",
    "dbutils.fs.cp(\"dbfs:/FileStore/tables/exames.csv\", \"dbfs:/mnt/bronze/exames.csv\")\n"
   ]
  },
  {
   "cell_type": "code",
   "execution_count": 0,
   "metadata": {
    "application/vnd.databricks.v1+cell": {
     "cellMetadata": {
      "byteLimit": 2048000,
      "rowLimit": 10000
     },
     "collapsed": true,
     "inputWidgets": {},
     "nuid": "bd82bb99-1479-4d5c-be10-8c36df0f1d44",
     "showTitle": false,
     "tableResultSettingsMap": {},
     "title": ""
    }
   },
   "outputs": [
    {
     "output_type": "stream",
     "name": "stdout",
     "output_type": "stream",
     "text": [
      "Atendimentos - Silver:\n"
     ]
    },
    {
     "output_type": "display_data",
     "data": {
      "text/html": [
       "<style scoped>\n",
       "  .table-result-container {\n",
       "    max-height: 300px;\n",
       "    overflow: auto;\n",
       "  }\n",
       "  table, th, td {\n",
       "    border: 1px solid black;\n",
       "    border-collapse: collapse;\n",
       "  }\n",
       "  th, td {\n",
       "    padding: 5px;\n",
       "  }\n",
       "  th {\n",
       "    text-align: left;\n",
       "  }\n",
       "</style><div class='table-result-container'><table class='table-result'><thead style='background-color: white'><tr><th>atendimento_id</th><th>paciente_id</th><th>nome_paciente</th><th>doenca</th><th>localidade</th><th>especialidade</th><th>local_atendimento</th><th>data_atendimento</th><th>data_consulta</th><th>medico</th></tr></thead><tbody><tr><td>60cd2245-b9c8-48cb-a48f-927efaad3509</td><td>8b34bd8e-e008-4e80-820f-9f55950a521b</td><td>Ana Julia Sousa</td><td>deserunt</td><td>Farias de Peixoto</td><td>repellendus</td><td>Alves Vasconcelos - EI</td><td>2021-06-02</td><td>2023-10-02</td><td>Francisco Lima</td></tr><tr><td>cc56033d-9d04-4aae-a00b-4062d983b1b0</td><td>5230cac3-ca7a-4664-a7eb-ddf8ac566ff9</td><td>Srta. Maria Flor Casa Grande</td><td>laudantium</td><td>Sá das Flores</td><td>quasi</td><td>Porto S/A</td><td>2022-09-30</td><td>2023-05-10</td><td>Dom Peixoto</td></tr><tr><td>e6b37369-6cff-4ae8-ac0c-e26bd9d64f09</td><td>a397f8be-faee-4367-a076-63128eaaaf11</td><td>Liam Moura</td><td>laborum</td><td>Pastor</td><td>ex</td><td>Costa - EI</td><td>2020-11-26</td><td>2022-06-28</td><td>Léo Fernandes</td></tr><tr><td>320f82d0-1832-456e-a3fa-93ed95d87821</td><td>c86209f6-ef67-4635-9c88-3ea84a4eae0b</td><td>Carolina Guerra</td><td>molestiae</td><td>Porto</td><td>inventore</td><td>da Costa</td><td>2022-06-18</td><td>2022-11-13</td><td>Stella Martins</td></tr><tr><td>70da2315-da79-4c45-9067-170f2d1d4e8f</td><td>0d972679-1452-420d-ac57-ab57cc28cf77</td><td>Benjamim Costela</td><td>laboriosam</td><td>da Costa Paulista</td><td>ullam</td><td>Machado - EI</td><td>2022-07-10</td><td>2024-01-14</td><td>Eduardo Oliveira</td></tr><tr><td>62a8fd77-85a6-4a18-994e-55ff9b8ddb11</td><td>dde3531c-5ed3-4509-bead-8f9fba487a02</td><td>Benjamin Nogueira</td><td>sequi</td><td>Ramos da Serra</td><td>a</td><td>Pinto</td><td>2020-12-28</td><td>2023-07-08</td><td>Carolina Azevedo</td></tr><tr><td>103c6bae-c036-490b-ba3a-c1e1105fe5c7</td><td>4a4eaced-332c-4730-bde9-22233dfe0277</td><td>Dr. Nathan Teixeira</td><td>optio</td><td>da Mota da Prata</td><td>ut</td><td>Correia</td><td>2023-06-11</td><td>2023-02-23</td><td>Valentina da Mata</td></tr><tr><td>a5ff6485-8173-42ff-b8fd-a39a27e12871</td><td>72b9a4c1-8946-4589-964c-ad4ccd7657cc</td><td>Sophie Gomes</td><td>laboriosam</td><td>Peixoto de Goiás</td><td>eligendi</td><td>da Cunha S.A.</td><td>2024-06-24</td><td>2022-07-15</td><td>Rodrigo Fonseca</td></tr><tr><td>94622a23-d9b8-4e46-80ba-3cbc6d0ad364</td><td>5d71c509-66c5-44b9-b75b-2f5e1d894edc</td><td>Bruna da Mata</td><td>voluptates</td><td>Martins</td><td>laudantium</td><td>Siqueira e Filhos</td><td>2024-04-07</td><td>2022-12-13</td><td>Luiz Gustavo Rios</td></tr><tr><td>3178c253-427e-44cb-823b-7d6c7b7137f0</td><td>b24de0ea-b39b-4ac5-a5b1-e0cfdd1146bb</td><td>Gael Henrique Almeida</td><td>animi</td><td>Mendonça</td><td>tenetur</td><td>Viana</td><td>2020-07-29</td><td>2021-08-16</td><td>Aylla Melo</td></tr><tr><td>f8f025dc-d7bf-4475-a247-4b6f913a9f87</td><td>70708392-6179-4d1f-9f0a-f6af9c65e021</td><td>Luna Rodrigues</td><td>officiis</td><td>Pacheco</td><td>quibusdam</td><td>Aparecida Lopes Ltda.</td><td>2024-08-12</td><td>2021-05-27</td><td>Luna da Costa</td></tr><tr><td>b5042552-ccbf-4770-9401-00a3bb3a377f</td><td>aa0b1219-7be0-4dea-b065-3b78e61117f6</td><td>Dra. Maria Flor Pacheco</td><td>earum</td><td>Cunha</td><td>optio</td><td>Duarte e Filhos</td><td>2022-12-20</td><td>2023-08-17</td><td>Ana Sophia Ferreira</td></tr><tr><td>53f93d99-b91f-4787-91c3-b30d8497b26a</td><td>14e913b8-1817-4a29-89af-f9e415f07c2e</td><td>Maria Luísa Cavalcante</td><td>ea</td><td>Mendonça Paulista</td><td>voluptates</td><td>Rezende</td><td>2021-01-25</td><td>2024-10-05</td><td>Sr. Luiz Felipe Fernandes</td></tr><tr><td>727271c5-1ded-4198-8441-dbe687c67807</td><td>77d49427-6b75-41ea-be26-389ac0a43c2b</td><td>Ana Lívia Macedo</td><td>magnam</td><td>Garcia da Mata</td><td>numquam</td><td>Sales</td><td>2021-07-21</td><td>2020-12-08</td><td>Dra. Giovanna Ferreira</td></tr><tr><td>0b89a1e3-de4b-4a40-afff-99a42506b4cd</td><td>4289ed4c-4f4e-4c79-a2c4-3f1dce0002ac</td><td>Hadassa Vieira</td><td>dicta</td><td>Pimenta</td><td>quasi</td><td>Rocha</td><td>2024-07-09</td><td>2022-11-28</td><td>Emanuel Mendonça</td></tr><tr><td>22faa153-b748-40ec-a4c5-5e7315d6e8e8</td><td>c09d4b80-4726-4c5e-b383-621c0002a1e8</td><td>Ana Lívia Duarte</td><td>laudantium</td><td>Leão da Serra</td><td>voluptates</td><td>Jesus da Paz - EI</td><td>2024-05-16</td><td>2022-02-15</td><td>Daniela Pires</td></tr><tr><td>b18b604e-19bb-43b2-b151-5a867f6c9d3d</td><td>50bd70ef-ce89-41cf-889b-88b74b47961c</td><td>Yasmin Pinto</td><td>quod</td><td>Rocha da Praia</td><td>magnam</td><td>Caldeira Duarte S/A</td><td>2021-05-13</td><td>2021-08-30</td><td>Luara Sampaio</td></tr><tr><td>e176f0be-7ff7-40d2-8e73-66a0bae20d61</td><td>0da2868b-44e7-43d3-8d44-1090f036f11b</td><td>Luiz Fernando Martins</td><td>saepe</td><td>Vasconcelos de Lopes</td><td>nesciunt</td><td>Vargas</td><td>2021-02-03</td><td>2023-12-28</td><td>Nathan Castro</td></tr><tr><td>1333bf24-288a-40c7-9a2d-3f4bc7e0b212</td><td>f68858a9-28f8-4d02-8fec-64c1070f214f</td><td>Calebe Abreu</td><td>corporis</td><td>Teixeira</td><td>nam</td><td>Freitas S/A</td><td>2023-12-20</td><td>2025-04-26</td><td>Davi Lucca Nunes</td></tr><tr><td>ebeeade7-1e28-4b8a-a416-73632511b728</td><td>86ebc288-73e2-4e3a-b18e-747a51ece19b</td><td>Milena Moraes</td><td>ab</td><td>Pires Grande</td><td>dicta</td><td>Abreu S.A.</td><td>2024-03-13</td><td>2022-08-29</td><td>Stella Pimenta</td></tr><tr><td>ed6a2d47-7d38-46e7-b9d9-d32922fbf61a</td><td>dd8e45de-3fa5-4845-83b9-c544b7d8c4c2</td><td>Sophie Ferreira</td><td>magnam</td><td>Albuquerque do Campo</td><td>natus</td><td>da Conceição Albuquerque S/A</td><td>2024-05-11</td><td>2025-01-17</td><td>Luísa Melo</td></tr><tr><td>ebfd3f5c-e908-4ef2-b844-b333cdcf3b78</td><td>c991e888-7e8b-4f15-893c-1737bb0baf41</td><td>Danilo Alves</td><td>omnis</td><td>Vargas</td><td>quod</td><td>da Mota e Filhos</td><td>2022-12-16</td><td>2024-10-27</td><td>Maria Helena da Costa</td></tr><tr><td>a8c56da6-3ad1-47f5-9508-aa937201fb22</td><td>160948e8-0350-4f92-9cae-63104e0e3b54</td><td>Antônio Pereira</td><td>facere</td><td>Araújo das Flores</td><td>voluptas</td><td>Carvalho Nogueira Ltda.</td><td>2020-08-17</td><td>2024-07-12</td><td>Emilly Leão</td></tr><tr><td>28d78093-4e6b-40d8-a7fb-9e907149303c</td><td>05f504e4-4bed-4efc-aa1a-0d4f96ab8f4d</td><td>Isadora Correia</td><td>labore</td><td>Garcia de Duarte</td><td>omnis</td><td>Novais</td><td>2025-05-13</td><td>2023-11-26</td><td>Dom Sales</td></tr><tr><td>87483306-ddbf-43c8-b381-8a78698c041b</td><td>2604f2e3-a07f-458b-a305-81cf99a3350e</td><td>Mathias da Cruz</td><td>aut</td><td>Araújo</td><td>iusto</td><td>Correia - ME</td><td>2021-08-26</td><td>2023-02-15</td><td>Luara Moreira</td></tr><tr><td>c276352d-c8c0-477c-844c-2e7085640d6c</td><td>1ecb7b5b-c3b1-44b1-bed1-50e8e7abdf86</td><td>Dr. Raul Peixoto</td><td>voluptatem</td><td>Lima</td><td>minus</td><td>da Paz da Mota - ME</td><td>2023-04-15</td><td>2023-01-21</td><td>Eloah Abreu</td></tr><tr><td>8ef8fefd-c3fc-48de-92c9-51b1d3f9948e</td><td>67608eb8-1c56-4857-87c8-f9caa74da789</td><td>Clara Porto</td><td>ducimus</td><td>da Mata de Marques</td><td>veritatis</td><td>Montenegro</td><td>2021-12-11</td><td>2021-03-31</td><td>Srta. Olivia Oliveira</td></tr><tr><td>f1468614-cfa0-4d93-b8b5-e1658bfb8fa4</td><td>d3f51d24-384e-482d-a3b8-36fd0c84c6a3</td><td>Kevin Camargo</td><td>unde</td><td>Brito do Campo</td><td>sit</td><td>Pimenta</td><td>2025-01-30</td><td>2024-02-21</td><td>Bernardo Moura</td></tr><tr><td>5e9b0a04-1d33-4f2c-acf9-b297088a27ce</td><td>688e99a0-1729-40de-a325-41a0d6caa3e0</td><td>Maysa Rezende</td><td>optio</td><td>da Conceição</td><td>impedit</td><td>Câmara</td><td>2023-01-13</td><td>2024-05-10</td><td>Murilo Ribeiro</td></tr><tr><td>66eef200-9e14-4be9-9176-8909752eb6f5</td><td>3aa85e9f-3326-4b01-87dc-466daff364e8</td><td>Léo da Rocha</td><td>iure</td><td>da Cunha</td><td>qui</td><td>Farias Ltda.</td><td>2022-06-24</td><td>2023-06-25</td><td>Isadora Teixeira</td></tr><tr><td>1c88c573-5f6e-4dd6-bb98-24418df55a2b</td><td>75e29124-af6c-4422-ba59-a96be9641f02</td><td>Dra. Caroline Siqueira</td><td>blanditiis</td><td>Siqueira Verde</td><td>vero</td><td>Silva - EI</td><td>2023-07-24</td><td>2023-06-17</td><td>Dr. Benício Campos</td></tr><tr><td>9e446229-8016-4f8b-9a60-261d4d1e2b33</td><td>f7f21ccb-7d8d-423a-98bb-12096f93e28c</td><td>Ana Clara Cirino</td><td>libero</td><td>Siqueira Grande</td><td>nulla</td><td>Aparecida Ltda.</td><td>2024-04-26</td><td>2021-06-16</td><td>Isabel Pires</td></tr><tr><td>febd0c45-3dd8-4a26-9a9a-7e92ec98457f</td><td>3b12177f-daad-47fe-b21a-56dc92ed3ac7</td><td>Lunna Moreira</td><td>natus</td><td>Castro</td><td>impedit</td><td>Silva</td><td>2021-04-24</td><td>2024-10-20</td><td>Carlos Eduardo Duarte</td></tr><tr><td>198f038a-1f9a-486e-b33b-1c0397f3b1ba</td><td>1405af4c-4f51-4533-94b7-c964cac53606</td><td>Isis Abreu</td><td>adipisci</td><td>das Neves de da Cunha</td><td>exercitationem</td><td>Mendonça</td><td>2022-01-26</td><td>2022-10-11</td><td>Laura Sousa</td></tr><tr><td>89ac6792-19a0-42c1-8abc-e3677d0d7751</td><td>0d09f860-34c1-406e-8a7e-fdde2f7f53d6</td><td>Dante Pastor</td><td>quasi</td><td>Macedo de Silva</td><td>labore</td><td>Mendes Pacheco S.A.</td><td>2020-05-25</td><td>2023-11-15</td><td>Maria Clara Melo</td></tr><tr><td>37c88d48-3d53-475b-aa78-18812e3c96b3</td><td>2ef1ddc9-0664-4de0-aa68-36de45039653</td><td>Levi Pimenta</td><td>dolorem</td><td>das Neves</td><td>enim</td><td>Melo</td><td>2023-11-16</td><td>2024-02-12</td><td>Dra. Laura Correia</td></tr><tr><td>aec4cceb-e748-4cc1-bcec-bd8ba9c9ef74</td><td>9744f2c3-fc3e-413d-9cbf-906e8e97702a</td><td>Maria Júlia Pereira</td><td>accusamus</td><td>Oliveira</td><td>dolor</td><td>Vasconcelos</td><td>2024-12-20</td><td>2025-02-28</td><td>Pietro Montenegro</td></tr><tr><td>c25a22ab-0778-4bb3-994d-38d4176fd459</td><td>ce2760fd-d31b-4f26-a1d6-bd7a497de4f9</td><td>Júlia Costela</td><td>aliquid</td><td>Peixoto</td><td>debitis</td><td>Garcia Ltda.</td><td>2023-10-08</td><td>2020-08-21</td><td>Erick Novais</td></tr><tr><td>291013b8-4164-4d17-8fc5-76384932f10b</td><td>416f067c-d222-4048-9124-7e0b87a135dd</td><td>Dra. Eloah Sampaio</td><td>beatae</td><td>Vieira da Serra</td><td>ut</td><td>Rocha - EI</td><td>2023-03-24</td><td>2022-12-31</td><td>Dra. Ísis Siqueira</td></tr><tr><td>24c62366-b240-4c19-97ce-5cc5e3ad435d</td><td>b9bb782c-3840-4e0f-b849-682fcd6835e4</td><td>Noah Correia</td><td>vel</td><td>Casa Grande</td><td>reprehenderit</td><td>das Neves da Costa - EI</td><td>2021-08-16</td><td>2023-08-11</td><td>Alana Camargo</td></tr><tr><td>9f8ce134-c7ca-424b-adc8-f15c61073c8a</td><td>a4e26109-2b2d-4f9f-b934-7fea1e6369d2</td><td>Bárbara Cunha</td><td>adipisci</td><td>Viana</td><td>quos</td><td>Carvalho</td><td>2020-05-27</td><td>2023-10-31</td><td>Vinícius Casa Grande</td></tr><tr><td>0db906a0-39fb-422d-b852-df0d45d3c403</td><td>a0192b5b-6169-4ff3-858a-e1360f0bde70</td><td>Lorenzo Novaes</td><td>mollitia</td><td>Ramos de Azevedo</td><td>nisi</td><td>Sousa</td><td>2022-04-21</td><td>2022-03-23</td><td>Benjamin Nunes</td></tr><tr><td>36a8f0d8-90ea-4353-8bb4-21be1880e484</td><td>cb9b214b-932d-4ce1-ad5f-90cf31050dcf</td><td>Bento Ferreira</td><td>sunt</td><td>Rocha do Oeste</td><td>magnam</td><td>Gonçalves S.A.</td><td>2020-10-21</td><td>2023-06-13</td><td>Yan Mendes</td></tr><tr><td>e9d1c913-0407-494d-b235-7a19c7e49f9c</td><td>b473374b-fd97-46c0-9f46-10d2aa04a757</td><td>Thomas Fogaça</td><td>eos</td><td>Costela</td><td>placeat</td><td>Sampaio - ME</td><td>2023-04-10</td><td>2024-08-27</td><td>Maria Cecília Vieira</td></tr><tr><td>6a9ea50c-cf48-4e8c-b378-c85296c9b045</td><td>ef6c8c77-88bf-4686-9c32-65a297bfa7ea</td><td>Aurora da Rosa</td><td>natus</td><td>da Cruz de Sales</td><td>corrupti</td><td>Peixoto S.A.</td><td>2023-11-01</td><td>2022-01-13</td><td>Brenda Novais</td></tr><tr><td>816530a8-30d2-40f0-95b3-9eef16808e47</td><td>95ab31f0-6c7f-49c5-8ffb-b83ae15efb0a</td><td>Dra. Melina Costela</td><td>veniam</td><td>Cunha</td><td>distinctio</td><td>Camargo</td><td>2024-09-16</td><td>2021-10-23</td><td>Nicole da Rosa</td></tr><tr><td>19e9cbec-29b5-4123-9b64-3c11968955e5</td><td>cb3f83dd-857a-483d-9d92-0f67f681b830</td><td>Cecília Nascimento</td><td>tempora</td><td>da Luz de Goiás</td><td>laboriosam</td><td>Souza</td><td>2023-07-11</td><td>2025-02-13</td><td>Giovanna Novaes</td></tr><tr><td>23940c42-6a9f-4e5d-ad35-1e8d07bc1f70</td><td>8569952b-b97f-4166-bfa2-d3970aaa68f0</td><td>Vitor Hugo Sales</td><td>maxime</td><td>Aparecida</td><td>sapiente</td><td>Gonçalves</td><td>2024-09-24</td><td>2025-01-24</td><td>Pedro Cardoso</td></tr><tr><td>e8ca3c7e-abe9-470a-99de-7a58020f9553</td><td>a00999d2-033e-42de-b684-f158f88a2c35</td><td>Lorena Rezende</td><td>corporis</td><td>da Mata do Norte</td><td>exercitationem</td><td>Fonseca Ltda.</td><td>2024-02-27</td><td>2022-04-01</td><td>Felipe Sales</td></tr><tr><td>a14da012-9107-4f4b-9808-e150f823fa36</td><td>3dee2e8a-1780-4a01-bc4f-a2656f960f79</td><td>Enrico Rocha</td><td>fuga</td><td>Viana Paulista</td><td>ea</td><td>Barros Mendes S.A.</td><td>2021-03-23</td><td>2021-03-20</td><td>João Lucas Camargo</td></tr><tr><td>af52ee12-14eb-4de4-bef9-1962d271e605</td><td>13cdd6e5-7c20-4698-87b7-3cbd61a3df6f</td><td>Srta. Yasmin Porto</td><td>excepturi</td><td>Viana do Oeste</td><td>illo</td><td>Câmara - EI</td><td>2021-12-03</td><td>2021-02-24</td><td>Ana Luiza Sousa</td></tr><tr><td>fbd7985d-cdcb-4269-845d-d39a250d8d97</td><td>d9e84f4d-94f6-48a0-adde-399f416da7e9</td><td>Srta. Isabela da Paz</td><td>autem</td><td>Nascimento do Oeste</td><td>voluptatum</td><td>Rocha</td><td>2022-07-14</td><td>2024-09-17</td><td>Laís Machado</td></tr><tr><td>25390034-df22-43ed-8443-2fc7b264ffdd</td><td>666e280a-de46-4730-9f61-a7ee24812fc8</td><td>Maria Sophia das Neves</td><td>maxime</td><td>Oliveira</td><td>fugit</td><td>Barbosa S.A.</td><td>2025-02-13</td><td>2023-05-19</td><td>Nicole Campos</td></tr><tr><td>bf6bd144-f22f-4dee-a086-90a6f11b00d2</td><td>4f2e2be1-1d88-4a0e-b08c-c3ef2d81ca81</td><td>Dr. Ian Alves</td><td>voluptas</td><td>Vargas de Moraes</td><td>dolores</td><td>Melo</td><td>2023-02-18</td><td>2021-10-24</td><td>Laís Teixeira</td></tr><tr><td>a7004fa2-7194-4db1-ad2e-539c63ae3abd</td><td>438d6523-e400-4c5e-9115-a08f526b457e</td><td>Pietra Garcia</td><td>voluptas</td><td>da Mota da Serra</td><td>magni</td><td>Moreira Campos - ME</td><td>2023-03-12</td><td>2023-02-16</td><td>Mariah Cavalcante</td></tr><tr><td>359b8da6-f61c-4e7b-bdbe-c519b86b96fe</td><td>741ce49a-47ad-4a88-a2f4-862ed02ba802</td><td>Olivia Silva</td><td>consequatur</td><td>Ramos</td><td>nostrum</td><td>Santos</td><td>2024-01-17</td><td>2023-03-21</td><td>Helena Azevedo</td></tr><tr><td>5ee3affb-cb34-4a90-a1cd-02746ad67dc4</td><td>72f632f8-d7c3-4d60-a253-b66686e8bb44</td><td>Théo Cavalcanti</td><td>rerum</td><td>Barbosa</td><td>ipsum</td><td>Silveira S/A</td><td>2021-11-23</td><td>2020-05-23</td><td>Vicente Moura</td></tr><tr><td>cab5bc48-36a4-47c1-8893-74a27b8ac724</td><td>5531b490-b58d-49a0-aaef-569c18d42e6a</td><td>Dra. Elisa Silveira</td><td>qui</td><td>Almeida do Amparo</td><td>aliquid</td><td>Souza</td><td>2021-09-28</td><td>2024-06-21</td><td>Carlos Eduardo Araújo</td></tr><tr><td>d513d87b-db91-4061-abca-ec658b2fa81f</td><td>7ccf1018-8059-497a-a603-918fa1b7eeb5</td><td>Lívia Sousa</td><td>fugit</td><td>da Conceição</td><td>tempore</td><td>Barbosa</td><td>2022-12-21</td><td>2025-04-23</td><td>Bryan Câmara</td></tr><tr><td>d1be0c08-1b41-452d-b362-40ee51993733</td><td>1d258cfe-95db-4675-b9b3-b8eb9ec47fb8</td><td>Sr. Caio Mendes</td><td>modi</td><td>Martins</td><td>labore</td><td>das Neves</td><td>2022-11-30</td><td>2024-10-10</td><td>Danilo Cavalcanti</td></tr><tr><td>661f2230-8a8d-4bab-99d7-80357109e8fc</td><td>cf4482e6-504c-470a-b70a-09fc713a4676</td><td>Anthony Novais</td><td>quibusdam</td><td>Brito da Mata</td><td>molestiae</td><td>da Rosa</td><td>2023-04-17</td><td>2024-02-18</td><td>Alice Caldeira</td></tr><tr><td>5e70b4c0-c963-423c-8826-de08aabe73a5</td><td>da019c09-ee79-49f7-856d-65d637184785</td><td>Dr. Antony Brito</td><td>alias</td><td>Vargas</td><td>culpa</td><td>da Luz</td><td>2021-09-10</td><td>2024-03-04</td><td>Maria Liz Campos</td></tr><tr><td>12cee579-c8cd-4c1f-b4ec-db01cc8a3582</td><td>24f527d6-3c0d-4885-9327-eff907d57e7b</td><td>Natália Cavalcante</td><td>ab</td><td>Lima do Campo</td><td>quod</td><td>Pinto Garcia S/A</td><td>2024-08-31</td><td>2023-10-21</td><td>Agatha Azevedo</td></tr><tr><td>5212d945-7f2f-4ff6-b065-f9a2d717d6d5</td><td>bee38ff1-ce68-48e4-acff-59928999d081</td><td>Dr. Arthur Gabriel Aragão</td><td>temporibus</td><td>Jesus</td><td>numquam</td><td>Aparecida</td><td>2023-11-17</td><td>2023-10-01</td><td>Natália Vieira</td></tr><tr><td>cfe4f34f-df98-403c-ad6f-cf136ac4a350</td><td>756f73bd-6430-4032-b250-beb6e79211c0</td><td>Stella Almeida</td><td>soluta</td><td>Aparecida do Norte</td><td>aperiam</td><td>Macedo S.A.</td><td>2020-08-27</td><td>2024-01-30</td><td>Luiz Felipe Dias</td></tr><tr><td>5350bd1b-01c4-4a38-b597-e3dba66daa1c</td><td>95c15923-1c0f-4cfe-8b5e-2ed3c2540afa</td><td>Dante Nogueira</td><td>ratione</td><td>Pastor</td><td>dolor</td><td>da Paz - EI</td><td>2023-05-18</td><td>2020-05-22</td><td>Sra. Allana Correia</td></tr><tr><td>9ab91652-a3f5-4208-95a2-799b02e7ef6b</td><td>f44f2781-1946-4539-bc78-73ef557a2a94</td><td>Maria Clara Oliveira</td><td>ex</td><td>Fonseca de Sousa</td><td>molestiae</td><td>Jesus</td><td>2022-10-26</td><td>2022-05-03</td><td>Maria Fernanda Gonçalves</td></tr><tr><td>8de46470-1871-4e82-999b-8dd5e86d0096</td><td>755e6e78-baeb-48f4-a29b-d6da80859ad8</td><td>Antonella Porto</td><td>possimus</td><td>Montenegro</td><td>soluta</td><td>Albuquerque - EI</td><td>2021-09-29</td><td>2021-01-29</td><td>Dra. Marcela Borges</td></tr><tr><td>ae219011-a3c0-4356-b42c-b157b68c7ac3</td><td>4ec9ba4a-40e6-4047-9aec-53dd6db0f9a3</td><td>Sr. Luigi Vasconcelos</td><td>quam</td><td>Viana do Galho</td><td>sunt</td><td>Pinto S.A.</td><td>2021-08-16</td><td>2020-11-25</td><td>Theo Gomes</td></tr><tr><td>ccd67979-2b93-47f9-b260-c710d1e840ca</td><td>03198e52-e7e3-4add-9a4f-f45f8c749845</td><td>Bárbara Duarte</td><td>saepe</td><td>Costela das Flores</td><td>vitae</td><td>Sampaio e Filhos</td><td>2023-12-06</td><td>2024-07-04</td><td>Rafaela da Paz</td></tr><tr><td>7c935fe9-1c71-41be-a94c-49b204c9c5ed</td><td>b711e488-db85-4633-9d3e-ec3b38f1e578</td><td>Srta. Laura Cassiano</td><td>dolore</td><td>Rodrigues do Campo</td><td>voluptas</td><td>da Paz</td><td>2025-02-20</td><td>2024-10-04</td><td>Dr. Apollo Brito</td></tr><tr><td>06bd97bc-6c3f-4921-af4c-62b1002eb1c1</td><td>8018e764-7c20-4135-88cc-9d3a91b01aa9</td><td>Bento da Rocha</td><td>dolor</td><td>Vasconcelos de Minas</td><td>corporis</td><td>Barros</td><td>2023-06-15</td><td>2021-12-14</td><td>Emanuel Vieira</td></tr><tr><td>13318181-65bf-4797-8d29-5ebbac019441</td><td>4a3406e9-95be-43d7-bfbe-41f23e5c7b51</td><td>Maria Eduarda Borges</td><td>nostrum</td><td>da Cruz</td><td>natus</td><td>Pires Freitas S/A</td><td>2022-03-15</td><td>2022-04-16</td><td>Luigi Farias</td></tr><tr><td>59df0e9d-ed88-4e56-b394-a602ac92c0d6</td><td>311395a3-54d7-4119-a932-461001dae3eb</td><td>Sabrina Montenegro</td><td>facere</td><td>Castro dos Dourados</td><td>sequi</td><td>Nogueira da Rocha e Filhos</td><td>2023-05-04</td><td>2021-09-03</td><td>Théo da Conceição</td></tr><tr><td>730f6423-6558-495b-8ed9-fc74b2ad2c30</td><td>d08e385f-6d89-447a-b8d7-82fb724ba31b</td><td>Sabrina Barbosa</td><td>soluta</td><td>Azevedo</td><td>labore</td><td>Vasconcelos</td><td>2023-08-01</td><td>2024-10-10</td><td>Sra. Raquel Aparecida</td></tr><tr><td>98e9948f-3e2c-4adc-b350-f805bd0f787e</td><td>caae15a2-7830-4253-bfce-30e32e56c6a3</td><td>Antony da Cunha</td><td>unde</td><td>Teixeira Verde</td><td>ipsa</td><td>Cassiano</td><td>2020-06-03</td><td>2022-10-05</td><td>Beatriz Cavalcante</td></tr><tr><td>b26b37b8-1bb1-4a7b-a287-acd19dc29361</td><td>d3f18769-8f83-4675-aff3-6c864a609068</td><td>Sr. Daniel da Cunha</td><td>modi</td><td>Leão</td><td>veniam</td><td>Gonçalves S/A</td><td>2025-02-28</td><td>2021-05-13</td><td>Manuela Caldeira</td></tr><tr><td>3d5544e3-7a96-407a-bf73-1bb7d0cfed8f</td><td>d0038deb-4833-487f-b01d-85e95d5b08b4</td><td>Amanda Guerra</td><td>dignissimos</td><td>Farias</td><td>in</td><td>da Mota S/A</td><td>2024-10-10</td><td>2021-07-23</td><td>Guilherme Melo</td></tr><tr><td>b99bc774-ccc2-405c-a142-c1157f695a36</td><td>ad8fce9c-d1c4-4b12-9c7f-5d1f1c12e39f</td><td>Isis Sales</td><td>voluptas</td><td>Leão de Cirino</td><td>consequatur</td><td>Viana</td><td>2020-07-03</td><td>2025-02-28</td><td>Dra. Stephany da Rocha</td></tr><tr><td>d5f43e97-83ab-4fb6-b44c-935665ce4533</td><td>7bb81cf4-4d71-4f19-a162-2dd5ef5f3af7</td><td>Maria Rios</td><td>sunt</td><td>Pereira do Amparo</td><td>molestiae</td><td>Cavalcante</td><td>2020-08-04</td><td>2024-08-24</td><td>Rael Marques</td></tr><tr><td>4597eb1f-f501-4456-8765-23340c086275</td><td>711d2cac-680d-4bc6-9969-be7f900593b1</td><td>Maria Clara Almeida</td><td>perferendis</td><td>Siqueira</td><td>dolorem</td><td>Andrade - ME</td><td>2022-02-19</td><td>2020-06-29</td><td>Otávio Alves</td></tr><tr><td>f7f0f92d-03ed-4bd6-85a5-c9bb0bbaecf1</td><td>72109cea-4d45-4b36-814e-e6cc85e36d22</td><td>Sra. Bárbara Ribeiro</td><td>occaecati</td><td>da Cunha do Campo</td><td>iusto</td><td>Sousa</td><td>2023-04-09</td><td>2021-12-06</td><td>Maria Vitória Gonçalves</td></tr><tr><td>bcc86d0b-bbc5-4e81-8edf-d88b6ce8fcb9</td><td>931befb9-1a69-40f4-85d6-1f9232ee74f3</td><td>José Miguel da Conceição</td><td>deleniti</td><td>Brito</td><td>neque</td><td>Moraes Ltda.</td><td>2023-04-01</td><td>2020-12-03</td><td>Luiz Miguel Montenegro</td></tr><tr><td>b1e4eaba-6e03-45e8-aebf-6f18f6029a56</td><td>286331b3-00e3-4931-bff8-63e109ace66d</td><td>Emanuella Ramos</td><td>quaerat</td><td>Jesus de Montenegro</td><td>fuga</td><td>Melo</td><td>2021-12-26</td><td>2020-10-28</td><td>Maria Isis Costa</td></tr><tr><td>4dcf8f41-8886-4f83-aa1a-4dd45310db56</td><td>860cb746-2d3e-4a30-8828-b1390e8bc556</td><td>Sr. Emanuel Pacheco</td><td>cum</td><td>da Conceição</td><td>dolorum</td><td>Melo Costela - EI</td><td>2021-09-20</td><td>2021-10-19</td><td>Mateus Pastor</td></tr><tr><td>9c117bd2-7db0-4f68-9074-23cffccff3cb</td><td>f5ac8a91-520c-4e2d-8ce2-0ab6af466a12</td><td>Dr. Pedro Pacheco</td><td>dignissimos</td><td>Cassiano</td><td>saepe</td><td>Alves</td><td>2024-03-07</td><td>2020-08-03</td><td>Sabrina Rodrigues</td></tr><tr><td>90d642a7-68d0-4477-965f-b97bd37dce83</td><td>577e170e-6a28-4e36-a223-d32e4d036e8f</td><td>Lorenzo da Paz</td><td>autem</td><td>Gomes das Flores</td><td>voluptate</td><td>Oliveira Silva S.A.</td><td>2020-06-02</td><td>2025-02-17</td><td>Allana Rezende</td></tr><tr><td>6e438419-b915-4c6a-a2c8-abce463f7e56</td><td>db346d14-32fc-4fb4-8417-38357858c676</td><td>Marcos Vinicius Monteiro</td><td>pariatur</td><td>Dias da Prata</td><td>animi</td><td>Aparecida - ME</td><td>2023-04-21</td><td>2023-03-21</td><td>Maria Laura Santos</td></tr><tr><td>b9b19eda-0d97-422b-99c0-6ae589cf8ca9</td><td>3d415c84-fc19-4cfc-9042-a9ebc29ed28b</td><td>Clara Pinto</td><td>quae</td><td>Carvalho</td><td>rem</td><td>Duarte</td><td>2021-01-26</td><td>2025-02-19</td><td>Sra. Ana Júlia Santos</td></tr><tr><td>bfcf1b7b-364f-4c70-b08f-b9d39d39de15</td><td>871ba431-3236-4d7c-896a-6d98661a7600</td><td>Ana Pereira</td><td>molestiae</td><td>Abreu de Goiás</td><td>dolorem</td><td>Vasconcelos</td><td>2023-05-24</td><td>2024-08-10</td><td>Caio Marques</td></tr><tr><td>4a988bb9-6e66-429b-bae7-c18e3b4a218b</td><td>c6b68027-149a-4f75-9bfb-0e987d7efbfe</td><td>Isis Barbosa</td><td>dolorem</td><td>Campos</td><td>nostrum</td><td>Caldeira - EI</td><td>2023-03-10</td><td>2022-07-03</td><td>Miguel Rios</td></tr><tr><td>af9fa214-0f3a-4ea6-8ebb-26801f1e07db</td><td>ab886875-eeab-47c0-9115-c036cf2eda11</td><td>Sr. Brayan Peixoto</td><td>quae</td><td>Rios</td><td>doloribus</td><td>Peixoto</td><td>2021-09-14</td><td>2025-02-22</td><td>Ana Liz Gomes</td></tr><tr><td>02619c69-5a73-4175-aca9-ab2ec19b0d0c</td><td>35d0f1f0-72f5-4e5f-bf70-415d2a79fd1e</td><td>Evelyn da Mata</td><td>placeat</td><td>Fogaça</td><td>vitae</td><td>da Mota Campos e Filhos</td><td>2020-07-06</td><td>2020-09-04</td><td>Dra. Maria Eduarda Mendes</td></tr><tr><td>c4966c8f-19e7-4eb3-a0f0-4c8ff4bb7ddd</td><td>5b114049-063b-4cf7-93e4-5daa233548de</td><td>Enzo Carvalho</td><td>unde</td><td>Barbosa</td><td>est</td><td>Albuquerque Fernandes e Filhos</td><td>2023-06-20</td><td>2024-02-20</td><td>Luiz Henrique Azevedo</td></tr><tr><td>c1f88f9b-f0c5-4c37-aafb-e46e883eecaa</td><td>c87a6cb1-46a9-4142-bf0c-937fd7b7f291</td><td>Pedro Henrique Dias</td><td>laborum</td><td>da Rocha de Garcia</td><td>corrupti</td><td>Vasconcelos</td><td>2025-02-20</td><td>2020-12-14</td><td>Natália Santos</td></tr><tr><td>4d6f99a9-4c24-4f43-85bd-b275d0bf24cd</td><td>f1a97ea4-35cc-4383-9e52-82ff2078ec34</td><td>Lívia Costa</td><td>sequi</td><td>Sá do Galho</td><td>enim</td><td>Araújo Cassiano Ltda.</td><td>2020-12-13</td><td>2024-11-21</td><td>Alexandre Pires</td></tr><tr><td>3e848fbf-3934-475f-b1a3-ded401f4f4e6</td><td>6264a47a-4b49-42f6-a07b-f56d1cb86731</td><td>Otto da Conceição</td><td>suscipit</td><td>Jesus</td><td>corporis</td><td>Sales</td><td>2023-12-05</td><td>2021-10-17</td><td>Diogo Rocha</td></tr><tr><td>2727bf7b-7aa4-46f3-9b56-e4c72f69ef6c</td><td>726efc56-bbe3-41af-bb61-15a941461300</td><td>Antonella Farias</td><td>vitae</td><td>Azevedo das Flores</td><td>voluptas</td><td>Aparecida</td><td>2023-08-07</td><td>2023-10-07</td><td>Vitória Sales</td></tr><tr><td>ae8f7dec-91fd-48c8-b594-344ab4c8bb8b</td><td>fe2e76e7-c19a-4043-a769-b67e47f4254a</td><td>Diego Vargas</td><td>repellat</td><td>Lima de Fernandes</td><td>tempora</td><td>Caldeira S.A.</td><td>2020-10-29</td><td>2024-01-28</td><td>Maria Fernanda Aragão</td></tr><tr><td>38519001-7957-4843-8830-78cfd57d9fa0</td><td>68ce62df-2a72-47d9-b4f7-0797c911c420</td><td>Gabriela Araújo</td><td>nostrum</td><td>Rocha de Minas</td><td>nobis</td><td>Vasconcelos</td><td>2021-03-28</td><td>2022-11-22</td><td>Letícia Azevedo</td></tr></tbody></table></div>"
      ]
     },
     "metadata": {
      "application/vnd.databricks.v1+output": {
       "addedWidgets": {},
       "aggData": [],
       "aggError": "",
       "aggOverflow": false,
       "aggSchema": [],
       "aggSeriesLimitReached": false,
       "aggType": "",
       "arguments": {},
       "columnCustomDisplayInfos": {},
       "data": [
        [
         "60cd2245-b9c8-48cb-a48f-927efaad3509",
         "8b34bd8e-e008-4e80-820f-9f55950a521b",
         "Ana Julia Sousa",
         "deserunt",
         "Farias de Peixoto",
         "repellendus",
         "Alves Vasconcelos - EI",
         "2021-06-02",
         "2023-10-02",
         "Francisco Lima"
        ],
        [
         "cc56033d-9d04-4aae-a00b-4062d983b1b0",
         "5230cac3-ca7a-4664-a7eb-ddf8ac566ff9",
         "Srta. Maria Flor Casa Grande",
         "laudantium",
         "Sá das Flores",
         "quasi",
         "Porto S/A",
         "2022-09-30",
         "2023-05-10",
         "Dom Peixoto"
        ],
        [
         "e6b37369-6cff-4ae8-ac0c-e26bd9d64f09",
         "a397f8be-faee-4367-a076-63128eaaaf11",
         "Liam Moura",
         "laborum",
         "Pastor",
         "ex",
         "Costa - EI",
         "2020-11-26",
         "2022-06-28",
         "Léo Fernandes"
        ],
        [
         "320f82d0-1832-456e-a3fa-93ed95d87821",
         "c86209f6-ef67-4635-9c88-3ea84a4eae0b",
         "Carolina Guerra",
         "molestiae",
         "Porto",
         "inventore",
         "da Costa",
         "2022-06-18",
         "2022-11-13",
         "Stella Martins"
        ],
        [
         "70da2315-da79-4c45-9067-170f2d1d4e8f",
         "0d972679-1452-420d-ac57-ab57cc28cf77",
         "Benjamim Costela",
         "laboriosam",
         "da Costa Paulista",
         "ullam",
         "Machado - EI",
         "2022-07-10",
         "2024-01-14",
         "Eduardo Oliveira"
        ],
        [
         "62a8fd77-85a6-4a18-994e-55ff9b8ddb11",
         "dde3531c-5ed3-4509-bead-8f9fba487a02",
         "Benjamin Nogueira",
         "sequi",
         "Ramos da Serra",
         "a",
         "Pinto",
         "2020-12-28",
         "2023-07-08",
         "Carolina Azevedo"
        ],
        [
         "103c6bae-c036-490b-ba3a-c1e1105fe5c7",
         "4a4eaced-332c-4730-bde9-22233dfe0277",
         "Dr. Nathan Teixeira",
         "optio",
         "da Mota da Prata",
         "ut",
         "Correia",
         "2023-06-11",
         "2023-02-23",
         "Valentina da Mata"
        ],
        [
         "a5ff6485-8173-42ff-b8fd-a39a27e12871",
         "72b9a4c1-8946-4589-964c-ad4ccd7657cc",
         "Sophie Gomes",
         "laboriosam",
         "Peixoto de Goiás",
         "eligendi",
         "da Cunha S.A.",
         "2024-06-24",
         "2022-07-15",
         "Rodrigo Fonseca"
        ],
        [
         "94622a23-d9b8-4e46-80ba-3cbc6d0ad364",
         "5d71c509-66c5-44b9-b75b-2f5e1d894edc",
         "Bruna da Mata",
         "voluptates",
         "Martins",
         "laudantium",
         "Siqueira e Filhos",
         "2024-04-07",
         "2022-12-13",
         "Luiz Gustavo Rios"
        ],
        [
         "3178c253-427e-44cb-823b-7d6c7b7137f0",
         "b24de0ea-b39b-4ac5-a5b1-e0cfdd1146bb",
         "Gael Henrique Almeida",
         "animi",
         "Mendonça",
         "tenetur",
         "Viana",
         "2020-07-29",
         "2021-08-16",
         "Aylla Melo"
        ],
        [
         "f8f025dc-d7bf-4475-a247-4b6f913a9f87",
         "70708392-6179-4d1f-9f0a-f6af9c65e021",
         "Luna Rodrigues",
         "officiis",
         "Pacheco",
         "quibusdam",
         "Aparecida Lopes Ltda.",
         "2024-08-12",
         "2021-05-27",
         "Luna da Costa"
        ],
        [
         "b5042552-ccbf-4770-9401-00a3bb3a377f",
         "aa0b1219-7be0-4dea-b065-3b78e61117f6",
         "Dra. Maria Flor Pacheco",
         "earum",
         "Cunha",
         "optio",
         "Duarte e Filhos",
         "2022-12-20",
         "2023-08-17",
         "Ana Sophia Ferreira"
        ],
        [
         "53f93d99-b91f-4787-91c3-b30d8497b26a",
         "14e913b8-1817-4a29-89af-f9e415f07c2e",
         "Maria Luísa Cavalcante",
         "ea",
         "Mendonça Paulista",
         "voluptates",
         "Rezende",
         "2021-01-25",
         "2024-10-05",
         "Sr. Luiz Felipe Fernandes"
        ],
        [
         "727271c5-1ded-4198-8441-dbe687c67807",
         "77d49427-6b75-41ea-be26-389ac0a43c2b",
         "Ana Lívia Macedo",
         "magnam",
         "Garcia da Mata",
         "numquam",
         "Sales",
         "2021-07-21",
         "2020-12-08",
         "Dra. Giovanna Ferreira"
        ],
        [
         "0b89a1e3-de4b-4a40-afff-99a42506b4cd",
         "4289ed4c-4f4e-4c79-a2c4-3f1dce0002ac",
         "Hadassa Vieira",
         "dicta",
         "Pimenta",
         "quasi",
         "Rocha",
         "2024-07-09",
         "2022-11-28",
         "Emanuel Mendonça"
        ],
        [
         "22faa153-b748-40ec-a4c5-5e7315d6e8e8",
         "c09d4b80-4726-4c5e-b383-621c0002a1e8",
         "Ana Lívia Duarte",
         "laudantium",
         "Leão da Serra",
         "voluptates",
         "Jesus da Paz - EI",
         "2024-05-16",
         "2022-02-15",
         "Daniela Pires"
        ],
        [
         "b18b604e-19bb-43b2-b151-5a867f6c9d3d",
         "50bd70ef-ce89-41cf-889b-88b74b47961c",
         "Yasmin Pinto",
         "quod",
         "Rocha da Praia",
         "magnam",
         "Caldeira Duarte S/A",
         "2021-05-13",
         "2021-08-30",
         "Luara Sampaio"
        ],
        [
         "e176f0be-7ff7-40d2-8e73-66a0bae20d61",
         "0da2868b-44e7-43d3-8d44-1090f036f11b",
         "Luiz Fernando Martins",
         "saepe",
         "Vasconcelos de Lopes",
         "nesciunt",
         "Vargas",
         "2021-02-03",
         "2023-12-28",
         "Nathan Castro"
        ],
        [
         "1333bf24-288a-40c7-9a2d-3f4bc7e0b212",
         "f68858a9-28f8-4d02-8fec-64c1070f214f",
         "Calebe Abreu",
         "corporis",
         "Teixeira",
         "nam",
         "Freitas S/A",
         "2023-12-20",
         "2025-04-26",
         "Davi Lucca Nunes"
        ],
        [
         "ebeeade7-1e28-4b8a-a416-73632511b728",
         "86ebc288-73e2-4e3a-b18e-747a51ece19b",
         "Milena Moraes",
         "ab",
         "Pires Grande",
         "dicta",
         "Abreu S.A.",
         "2024-03-13",
         "2022-08-29",
         "Stella Pimenta"
        ],
        [
         "ed6a2d47-7d38-46e7-b9d9-d32922fbf61a",
         "dd8e45de-3fa5-4845-83b9-c544b7d8c4c2",
         "Sophie Ferreira",
         "magnam",
         "Albuquerque do Campo",
         "natus",
         "da Conceição Albuquerque S/A",
         "2024-05-11",
         "2025-01-17",
         "Luísa Melo"
        ],
        [
         "ebfd3f5c-e908-4ef2-b844-b333cdcf3b78",
         "c991e888-7e8b-4f15-893c-1737bb0baf41",
         "Danilo Alves",
         "omnis",
         "Vargas",
         "quod",
         "da Mota e Filhos",
         "2022-12-16",
         "2024-10-27",
         "Maria Helena da Costa"
        ],
        [
         "a8c56da6-3ad1-47f5-9508-aa937201fb22",
         "160948e8-0350-4f92-9cae-63104e0e3b54",
         "Antônio Pereira",
         "facere",
         "Araújo das Flores",
         "voluptas",
         "Carvalho Nogueira Ltda.",
         "2020-08-17",
         "2024-07-12",
         "Emilly Leão"
        ],
        [
         "28d78093-4e6b-40d8-a7fb-9e907149303c",
         "05f504e4-4bed-4efc-aa1a-0d4f96ab8f4d",
         "Isadora Correia",
         "labore",
         "Garcia de Duarte",
         "omnis",
         "Novais",
         "2025-05-13",
         "2023-11-26",
         "Dom Sales"
        ],
        [
         "87483306-ddbf-43c8-b381-8a78698c041b",
         "2604f2e3-a07f-458b-a305-81cf99a3350e",
         "Mathias da Cruz",
         "aut",
         "Araújo",
         "iusto",
         "Correia - ME",
         "2021-08-26",
         "2023-02-15",
         "Luara Moreira"
        ],
        [
         "c276352d-c8c0-477c-844c-2e7085640d6c",
         "1ecb7b5b-c3b1-44b1-bed1-50e8e7abdf86",
         "Dr. Raul Peixoto",
         "voluptatem",
         "Lima",
         "minus",
         "da Paz da Mota - ME",
         "2023-04-15",
         "2023-01-21",
         "Eloah Abreu"
        ],
        [
         "8ef8fefd-c3fc-48de-92c9-51b1d3f9948e",
         "67608eb8-1c56-4857-87c8-f9caa74da789",
         "Clara Porto",
         "ducimus",
         "da Mata de Marques",
         "veritatis",
         "Montenegro",
         "2021-12-11",
         "2021-03-31",
         "Srta. Olivia Oliveira"
        ],
        [
         "f1468614-cfa0-4d93-b8b5-e1658bfb8fa4",
         "d3f51d24-384e-482d-a3b8-36fd0c84c6a3",
         "Kevin Camargo",
         "unde",
         "Brito do Campo",
         "sit",
         "Pimenta",
         "2025-01-30",
         "2024-02-21",
         "Bernardo Moura"
        ],
        [
         "5e9b0a04-1d33-4f2c-acf9-b297088a27ce",
         "688e99a0-1729-40de-a325-41a0d6caa3e0",
         "Maysa Rezende",
         "optio",
         "da Conceição",
         "impedit",
         "Câmara",
         "2023-01-13",
         "2024-05-10",
         "Murilo Ribeiro"
        ],
        [
         "66eef200-9e14-4be9-9176-8909752eb6f5",
         "3aa85e9f-3326-4b01-87dc-466daff364e8",
         "Léo da Rocha",
         "iure",
         "da Cunha",
         "qui",
         "Farias Ltda.",
         "2022-06-24",
         "2023-06-25",
         "Isadora Teixeira"
        ],
        [
         "1c88c573-5f6e-4dd6-bb98-24418df55a2b",
         "75e29124-af6c-4422-ba59-a96be9641f02",
         "Dra. Caroline Siqueira",
         "blanditiis",
         "Siqueira Verde",
         "vero",
         "Silva - EI",
         "2023-07-24",
         "2023-06-17",
         "Dr. Benício Campos"
        ],
        [
         "9e446229-8016-4f8b-9a60-261d4d1e2b33",
         "f7f21ccb-7d8d-423a-98bb-12096f93e28c",
         "Ana Clara Cirino",
         "libero",
         "Siqueira Grande",
         "nulla",
         "Aparecida Ltda.",
         "2024-04-26",
         "2021-06-16",
         "Isabel Pires"
        ],
        [
         "febd0c45-3dd8-4a26-9a9a-7e92ec98457f",
         "3b12177f-daad-47fe-b21a-56dc92ed3ac7",
         "Lunna Moreira",
         "natus",
         "Castro",
         "impedit",
         "Silva",
         "2021-04-24",
         "2024-10-20",
         "Carlos Eduardo Duarte"
        ],
        [
         "198f038a-1f9a-486e-b33b-1c0397f3b1ba",
         "1405af4c-4f51-4533-94b7-c964cac53606",
         "Isis Abreu",
         "adipisci",
         "das Neves de da Cunha",
         "exercitationem",
         "Mendonça",
         "2022-01-26",
         "2022-10-11",
         "Laura Sousa"
        ],
        [
         "89ac6792-19a0-42c1-8abc-e3677d0d7751",
         "0d09f860-34c1-406e-8a7e-fdde2f7f53d6",
         "Dante Pastor",
         "quasi",
         "Macedo de Silva",
         "labore",
         "Mendes Pacheco S.A.",
         "2020-05-25",
         "2023-11-15",
         "Maria Clara Melo"
        ],
        [
         "37c88d48-3d53-475b-aa78-18812e3c96b3",
         "2ef1ddc9-0664-4de0-aa68-36de45039653",
         "Levi Pimenta",
         "dolorem",
         "das Neves",
         "enim",
         "Melo",
         "2023-11-16",
         "2024-02-12",
         "Dra. Laura Correia"
        ],
        [
         "aec4cceb-e748-4cc1-bcec-bd8ba9c9ef74",
         "9744f2c3-fc3e-413d-9cbf-906e8e97702a",
         "Maria Júlia Pereira",
         "accusamus",
         "Oliveira",
         "dolor",
         "Vasconcelos",
         "2024-12-20",
         "2025-02-28",
         "Pietro Montenegro"
        ],
        [
         "c25a22ab-0778-4bb3-994d-38d4176fd459",
         "ce2760fd-d31b-4f26-a1d6-bd7a497de4f9",
         "Júlia Costela",
         "aliquid",
         "Peixoto",
         "debitis",
         "Garcia Ltda.",
         "2023-10-08",
         "2020-08-21",
         "Erick Novais"
        ],
        [
         "291013b8-4164-4d17-8fc5-76384932f10b",
         "416f067c-d222-4048-9124-7e0b87a135dd",
         "Dra. Eloah Sampaio",
         "beatae",
         "Vieira da Serra",
         "ut",
         "Rocha - EI",
         "2023-03-24",
         "2022-12-31",
         "Dra. Ísis Siqueira"
        ],
        [
         "24c62366-b240-4c19-97ce-5cc5e3ad435d",
         "b9bb782c-3840-4e0f-b849-682fcd6835e4",
         "Noah Correia",
         "vel",
         "Casa Grande",
         "reprehenderit",
         "das Neves da Costa - EI",
         "2021-08-16",
         "2023-08-11",
         "Alana Camargo"
        ],
        [
         "9f8ce134-c7ca-424b-adc8-f15c61073c8a",
         "a4e26109-2b2d-4f9f-b934-7fea1e6369d2",
         "Bárbara Cunha",
         "adipisci",
         "Viana",
         "quos",
         "Carvalho",
         "2020-05-27",
         "2023-10-31",
         "Vinícius Casa Grande"
        ],
        [
         "0db906a0-39fb-422d-b852-df0d45d3c403",
         "a0192b5b-6169-4ff3-858a-e1360f0bde70",
         "Lorenzo Novaes",
         "mollitia",
         "Ramos de Azevedo",
         "nisi",
         "Sousa",
         "2022-04-21",
         "2022-03-23",
         "Benjamin Nunes"
        ],
        [
         "36a8f0d8-90ea-4353-8bb4-21be1880e484",
         "cb9b214b-932d-4ce1-ad5f-90cf31050dcf",
         "Bento Ferreira",
         "sunt",
         "Rocha do Oeste",
         "magnam",
         "Gonçalves S.A.",
         "2020-10-21",
         "2023-06-13",
         "Yan Mendes"
        ],
        [
         "e9d1c913-0407-494d-b235-7a19c7e49f9c",
         "b473374b-fd97-46c0-9f46-10d2aa04a757",
         "Thomas Fogaça",
         "eos",
         "Costela",
         "placeat",
         "Sampaio - ME",
         "2023-04-10",
         "2024-08-27",
         "Maria Cecília Vieira"
        ],
        [
         "6a9ea50c-cf48-4e8c-b378-c85296c9b045",
         "ef6c8c77-88bf-4686-9c32-65a297bfa7ea",
         "Aurora da Rosa",
         "natus",
         "da Cruz de Sales",
         "corrupti",
         "Peixoto S.A.",
         "2023-11-01",
         "2022-01-13",
         "Brenda Novais"
        ],
        [
         "816530a8-30d2-40f0-95b3-9eef16808e47",
         "95ab31f0-6c7f-49c5-8ffb-b83ae15efb0a",
         "Dra. Melina Costela",
         "veniam",
         "Cunha",
         "distinctio",
         "Camargo",
         "2024-09-16",
         "2021-10-23",
         "Nicole da Rosa"
        ],
        [
         "19e9cbec-29b5-4123-9b64-3c11968955e5",
         "cb3f83dd-857a-483d-9d92-0f67f681b830",
         "Cecília Nascimento",
         "tempora",
         "da Luz de Goiás",
         "laboriosam",
         "Souza",
         "2023-07-11",
         "2025-02-13",
         "Giovanna Novaes"
        ],
        [
         "23940c42-6a9f-4e5d-ad35-1e8d07bc1f70",
         "8569952b-b97f-4166-bfa2-d3970aaa68f0",
         "Vitor Hugo Sales",
         "maxime",
         "Aparecida",
         "sapiente",
         "Gonçalves",
         "2024-09-24",
         "2025-01-24",
         "Pedro Cardoso"
        ],
        [
         "e8ca3c7e-abe9-470a-99de-7a58020f9553",
         "a00999d2-033e-42de-b684-f158f88a2c35",
         "Lorena Rezende",
         "corporis",
         "da Mata do Norte",
         "exercitationem",
         "Fonseca Ltda.",
         "2024-02-27",
         "2022-04-01",
         "Felipe Sales"
        ],
        [
         "a14da012-9107-4f4b-9808-e150f823fa36",
         "3dee2e8a-1780-4a01-bc4f-a2656f960f79",
         "Enrico Rocha",
         "fuga",
         "Viana Paulista",
         "ea",
         "Barros Mendes S.A.",
         "2021-03-23",
         "2021-03-20",
         "João Lucas Camargo"
        ],
        [
         "af52ee12-14eb-4de4-bef9-1962d271e605",
         "13cdd6e5-7c20-4698-87b7-3cbd61a3df6f",
         "Srta. Yasmin Porto",
         "excepturi",
         "Viana do Oeste",
         "illo",
         "Câmara - EI",
         "2021-12-03",
         "2021-02-24",
         "Ana Luiza Sousa"
        ],
        [
         "fbd7985d-cdcb-4269-845d-d39a250d8d97",
         "d9e84f4d-94f6-48a0-adde-399f416da7e9",
         "Srta. Isabela da Paz",
         "autem",
         "Nascimento do Oeste",
         "voluptatum",
         "Rocha",
         "2022-07-14",
         "2024-09-17",
         "Laís Machado"
        ],
        [
         "25390034-df22-43ed-8443-2fc7b264ffdd",
         "666e280a-de46-4730-9f61-a7ee24812fc8",
         "Maria Sophia das Neves",
         "maxime",
         "Oliveira",
         "fugit",
         "Barbosa S.A.",
         "2025-02-13",
         "2023-05-19",
         "Nicole Campos"
        ],
        [
         "bf6bd144-f22f-4dee-a086-90a6f11b00d2",
         "4f2e2be1-1d88-4a0e-b08c-c3ef2d81ca81",
         "Dr. Ian Alves",
         "voluptas",
         "Vargas de Moraes",
         "dolores",
         "Melo",
         "2023-02-18",
         "2021-10-24",
         "Laís Teixeira"
        ],
        [
         "a7004fa2-7194-4db1-ad2e-539c63ae3abd",
         "438d6523-e400-4c5e-9115-a08f526b457e",
         "Pietra Garcia",
         "voluptas",
         "da Mota da Serra",
         "magni",
         "Moreira Campos - ME",
         "2023-03-12",
         "2023-02-16",
         "Mariah Cavalcante"
        ],
        [
         "359b8da6-f61c-4e7b-bdbe-c519b86b96fe",
         "741ce49a-47ad-4a88-a2f4-862ed02ba802",
         "Olivia Silva",
         "consequatur",
         "Ramos",
         "nostrum",
         "Santos",
         "2024-01-17",
         "2023-03-21",
         "Helena Azevedo"
        ],
        [
         "5ee3affb-cb34-4a90-a1cd-02746ad67dc4",
         "72f632f8-d7c3-4d60-a253-b66686e8bb44",
         "Théo Cavalcanti",
         "rerum",
         "Barbosa",
         "ipsum",
         "Silveira S/A",
         "2021-11-23",
         "2020-05-23",
         "Vicente Moura"
        ],
        [
         "cab5bc48-36a4-47c1-8893-74a27b8ac724",
         "5531b490-b58d-49a0-aaef-569c18d42e6a",
         "Dra. Elisa Silveira",
         "qui",
         "Almeida do Amparo",
         "aliquid",
         "Souza",
         "2021-09-28",
         "2024-06-21",
         "Carlos Eduardo Araújo"
        ],
        [
         "d513d87b-db91-4061-abca-ec658b2fa81f",
         "7ccf1018-8059-497a-a603-918fa1b7eeb5",
         "Lívia Sousa",
         "fugit",
         "da Conceição",
         "tempore",
         "Barbosa",
         "2022-12-21",
         "2025-04-23",
         "Bryan Câmara"
        ],
        [
         "d1be0c08-1b41-452d-b362-40ee51993733",
         "1d258cfe-95db-4675-b9b3-b8eb9ec47fb8",
         "Sr. Caio Mendes",
         "modi",
         "Martins",
         "labore",
         "das Neves",
         "2022-11-30",
         "2024-10-10",
         "Danilo Cavalcanti"
        ],
        [
         "661f2230-8a8d-4bab-99d7-80357109e8fc",
         "cf4482e6-504c-470a-b70a-09fc713a4676",
         "Anthony Novais",
         "quibusdam",
         "Brito da Mata",
         "molestiae",
         "da Rosa",
         "2023-04-17",
         "2024-02-18",
         "Alice Caldeira"
        ],
        [
         "5e70b4c0-c963-423c-8826-de08aabe73a5",
         "da019c09-ee79-49f7-856d-65d637184785",
         "Dr. Antony Brito",
         "alias",
         "Vargas",
         "culpa",
         "da Luz",
         "2021-09-10",
         "2024-03-04",
         "Maria Liz Campos"
        ],
        [
         "12cee579-c8cd-4c1f-b4ec-db01cc8a3582",
         "24f527d6-3c0d-4885-9327-eff907d57e7b",
         "Natália Cavalcante",
         "ab",
         "Lima do Campo",
         "quod",
         "Pinto Garcia S/A",
         "2024-08-31",
         "2023-10-21",
         "Agatha Azevedo"
        ],
        [
         "5212d945-7f2f-4ff6-b065-f9a2d717d6d5",
         "bee38ff1-ce68-48e4-acff-59928999d081",
         "Dr. Arthur Gabriel Aragão",
         "temporibus",
         "Jesus",
         "numquam",
         "Aparecida",
         "2023-11-17",
         "2023-10-01",
         "Natália Vieira"
        ],
        [
         "cfe4f34f-df98-403c-ad6f-cf136ac4a350",
         "756f73bd-6430-4032-b250-beb6e79211c0",
         "Stella Almeida",
         "soluta",
         "Aparecida do Norte",
         "aperiam",
         "Macedo S.A.",
         "2020-08-27",
         "2024-01-30",
         "Luiz Felipe Dias"
        ],
        [
         "5350bd1b-01c4-4a38-b597-e3dba66daa1c",
         "95c15923-1c0f-4cfe-8b5e-2ed3c2540afa",
         "Dante Nogueira",
         "ratione",
         "Pastor",
         "dolor",
         "da Paz - EI",
         "2023-05-18",
         "2020-05-22",
         "Sra. Allana Correia"
        ],
        [
         "9ab91652-a3f5-4208-95a2-799b02e7ef6b",
         "f44f2781-1946-4539-bc78-73ef557a2a94",
         "Maria Clara Oliveira",
         "ex",
         "Fonseca de Sousa",
         "molestiae",
         "Jesus",
         "2022-10-26",
         "2022-05-03",
         "Maria Fernanda Gonçalves"
        ],
        [
         "8de46470-1871-4e82-999b-8dd5e86d0096",
         "755e6e78-baeb-48f4-a29b-d6da80859ad8",
         "Antonella Porto",
         "possimus",
         "Montenegro",
         "soluta",
         "Albuquerque - EI",
         "2021-09-29",
         "2021-01-29",
         "Dra. Marcela Borges"
        ],
        [
         "ae219011-a3c0-4356-b42c-b157b68c7ac3",
         "4ec9ba4a-40e6-4047-9aec-53dd6db0f9a3",
         "Sr. Luigi Vasconcelos",
         "quam",
         "Viana do Galho",
         "sunt",
         "Pinto S.A.",
         "2021-08-16",
         "2020-11-25",
         "Theo Gomes"
        ],
        [
         "ccd67979-2b93-47f9-b260-c710d1e840ca",
         "03198e52-e7e3-4add-9a4f-f45f8c749845",
         "Bárbara Duarte",
         "saepe",
         "Costela das Flores",
         "vitae",
         "Sampaio e Filhos",
         "2023-12-06",
         "2024-07-04",
         "Rafaela da Paz"
        ],
        [
         "7c935fe9-1c71-41be-a94c-49b204c9c5ed",
         "b711e488-db85-4633-9d3e-ec3b38f1e578",
         "Srta. Laura Cassiano",
         "dolore",
         "Rodrigues do Campo",
         "voluptas",
         "da Paz",
         "2025-02-20",
         "2024-10-04",
         "Dr. Apollo Brito"
        ],
        [
         "06bd97bc-6c3f-4921-af4c-62b1002eb1c1",
         "8018e764-7c20-4135-88cc-9d3a91b01aa9",
         "Bento da Rocha",
         "dolor",
         "Vasconcelos de Minas",
         "corporis",
         "Barros",
         "2023-06-15",
         "2021-12-14",
         "Emanuel Vieira"
        ],
        [
         "13318181-65bf-4797-8d29-5ebbac019441",
         "4a3406e9-95be-43d7-bfbe-41f23e5c7b51",
         "Maria Eduarda Borges",
         "nostrum",
         "da Cruz",
         "natus",
         "Pires Freitas S/A",
         "2022-03-15",
         "2022-04-16",
         "Luigi Farias"
        ],
        [
         "59df0e9d-ed88-4e56-b394-a602ac92c0d6",
         "311395a3-54d7-4119-a932-461001dae3eb",
         "Sabrina Montenegro",
         "facere",
         "Castro dos Dourados",
         "sequi",
         "Nogueira da Rocha e Filhos",
         "2023-05-04",
         "2021-09-03",
         "Théo da Conceição"
        ],
        [
         "730f6423-6558-495b-8ed9-fc74b2ad2c30",
         "d08e385f-6d89-447a-b8d7-82fb724ba31b",
         "Sabrina Barbosa",
         "soluta",
         "Azevedo",
         "labore",
         "Vasconcelos",
         "2023-08-01",
         "2024-10-10",
         "Sra. Raquel Aparecida"
        ],
        [
         "98e9948f-3e2c-4adc-b350-f805bd0f787e",
         "caae15a2-7830-4253-bfce-30e32e56c6a3",
         "Antony da Cunha",
         "unde",
         "Teixeira Verde",
         "ipsa",
         "Cassiano",
         "2020-06-03",
         "2022-10-05",
         "Beatriz Cavalcante"
        ],
        [
         "b26b37b8-1bb1-4a7b-a287-acd19dc29361",
         "d3f18769-8f83-4675-aff3-6c864a609068",
         "Sr. Daniel da Cunha",
         "modi",
         "Leão",
         "veniam",
         "Gonçalves S/A",
         "2025-02-28",
         "2021-05-13",
         "Manuela Caldeira"
        ],
        [
         "3d5544e3-7a96-407a-bf73-1bb7d0cfed8f",
         "d0038deb-4833-487f-b01d-85e95d5b08b4",
         "Amanda Guerra",
         "dignissimos",
         "Farias",
         "in",
         "da Mota S/A",
         "2024-10-10",
         "2021-07-23",
         "Guilherme Melo"
        ],
        [
         "b99bc774-ccc2-405c-a142-c1157f695a36",
         "ad8fce9c-d1c4-4b12-9c7f-5d1f1c12e39f",
         "Isis Sales",
         "voluptas",
         "Leão de Cirino",
         "consequatur",
         "Viana",
         "2020-07-03",
         "2025-02-28",
         "Dra. Stephany da Rocha"
        ],
        [
         "d5f43e97-83ab-4fb6-b44c-935665ce4533",
         "7bb81cf4-4d71-4f19-a162-2dd5ef5f3af7",
         "Maria Rios",
         "sunt",
         "Pereira do Amparo",
         "molestiae",
         "Cavalcante",
         "2020-08-04",
         "2024-08-24",
         "Rael Marques"
        ],
        [
         "4597eb1f-f501-4456-8765-23340c086275",
         "711d2cac-680d-4bc6-9969-be7f900593b1",
         "Maria Clara Almeida",
         "perferendis",
         "Siqueira",
         "dolorem",
         "Andrade - ME",
         "2022-02-19",
         "2020-06-29",
         "Otávio Alves"
        ],
        [
         "f7f0f92d-03ed-4bd6-85a5-c9bb0bbaecf1",
         "72109cea-4d45-4b36-814e-e6cc85e36d22",
         "Sra. Bárbara Ribeiro",
         "occaecati",
         "da Cunha do Campo",
         "iusto",
         "Sousa",
         "2023-04-09",
         "2021-12-06",
         "Maria Vitória Gonçalves"
        ],
        [
         "bcc86d0b-bbc5-4e81-8edf-d88b6ce8fcb9",
         "931befb9-1a69-40f4-85d6-1f9232ee74f3",
         "José Miguel da Conceição",
         "deleniti",
         "Brito",
         "neque",
         "Moraes Ltda.",
         "2023-04-01",
         "2020-12-03",
         "Luiz Miguel Montenegro"
        ],
        [
         "b1e4eaba-6e03-45e8-aebf-6f18f6029a56",
         "286331b3-00e3-4931-bff8-63e109ace66d",
         "Emanuella Ramos",
         "quaerat",
         "Jesus de Montenegro",
         "fuga",
         "Melo",
         "2021-12-26",
         "2020-10-28",
         "Maria Isis Costa"
        ],
        [
         "4dcf8f41-8886-4f83-aa1a-4dd45310db56",
         "860cb746-2d3e-4a30-8828-b1390e8bc556",
         "Sr. Emanuel Pacheco",
         "cum",
         "da Conceição",
         "dolorum",
         "Melo Costela - EI",
         "2021-09-20",
         "2021-10-19",
         "Mateus Pastor"
        ],
        [
         "9c117bd2-7db0-4f68-9074-23cffccff3cb",
         "f5ac8a91-520c-4e2d-8ce2-0ab6af466a12",
         "Dr. Pedro Pacheco",
         "dignissimos",
         "Cassiano",
         "saepe",
         "Alves",
         "2024-03-07",
         "2020-08-03",
         "Sabrina Rodrigues"
        ],
        [
         "90d642a7-68d0-4477-965f-b97bd37dce83",
         "577e170e-6a28-4e36-a223-d32e4d036e8f",
         "Lorenzo da Paz",
         "autem",
         "Gomes das Flores",
         "voluptate",
         "Oliveira Silva S.A.",
         "2020-06-02",
         "2025-02-17",
         "Allana Rezende"
        ],
        [
         "6e438419-b915-4c6a-a2c8-abce463f7e56",
         "db346d14-32fc-4fb4-8417-38357858c676",
         "Marcos Vinicius Monteiro",
         "pariatur",
         "Dias da Prata",
         "animi",
         "Aparecida - ME",
         "2023-04-21",
         "2023-03-21",
         "Maria Laura Santos"
        ],
        [
         "b9b19eda-0d97-422b-99c0-6ae589cf8ca9",
         "3d415c84-fc19-4cfc-9042-a9ebc29ed28b",
         "Clara Pinto",
         "quae",
         "Carvalho",
         "rem",
         "Duarte",
         "2021-01-26",
         "2025-02-19",
         "Sra. Ana Júlia Santos"
        ],
        [
         "bfcf1b7b-364f-4c70-b08f-b9d39d39de15",
         "871ba431-3236-4d7c-896a-6d98661a7600",
         "Ana Pereira",
         "molestiae",
         "Abreu de Goiás",
         "dolorem",
         "Vasconcelos",
         "2023-05-24",
         "2024-08-10",
         "Caio Marques"
        ],
        [
         "4a988bb9-6e66-429b-bae7-c18e3b4a218b",
         "c6b68027-149a-4f75-9bfb-0e987d7efbfe",
         "Isis Barbosa",
         "dolorem",
         "Campos",
         "nostrum",
         "Caldeira - EI",
         "2023-03-10",
         "2022-07-03",
         "Miguel Rios"
        ],
        [
         "af9fa214-0f3a-4ea6-8ebb-26801f1e07db",
         "ab886875-eeab-47c0-9115-c036cf2eda11",
         "Sr. Brayan Peixoto",
         "quae",
         "Rios",
         "doloribus",
         "Peixoto",
         "2021-09-14",
         "2025-02-22",
         "Ana Liz Gomes"
        ],
        [
         "02619c69-5a73-4175-aca9-ab2ec19b0d0c",
         "35d0f1f0-72f5-4e5f-bf70-415d2a79fd1e",
         "Evelyn da Mata",
         "placeat",
         "Fogaça",
         "vitae",
         "da Mota Campos e Filhos",
         "2020-07-06",
         "2020-09-04",
         "Dra. Maria Eduarda Mendes"
        ],
        [
         "c4966c8f-19e7-4eb3-a0f0-4c8ff4bb7ddd",
         "5b114049-063b-4cf7-93e4-5daa233548de",
         "Enzo Carvalho",
         "unde",
         "Barbosa",
         "est",
         "Albuquerque Fernandes e Filhos",
         "2023-06-20",
         "2024-02-20",
         "Luiz Henrique Azevedo"
        ],
        [
         "c1f88f9b-f0c5-4c37-aafb-e46e883eecaa",
         "c87a6cb1-46a9-4142-bf0c-937fd7b7f291",
         "Pedro Henrique Dias",
         "laborum",
         "da Rocha de Garcia",
         "corrupti",
         "Vasconcelos",
         "2025-02-20",
         "2020-12-14",
         "Natália Santos"
        ],
        [
         "4d6f99a9-4c24-4f43-85bd-b275d0bf24cd",
         "f1a97ea4-35cc-4383-9e52-82ff2078ec34",
         "Lívia Costa",
         "sequi",
         "Sá do Galho",
         "enim",
         "Araújo Cassiano Ltda.",
         "2020-12-13",
         "2024-11-21",
         "Alexandre Pires"
        ],
        [
         "3e848fbf-3934-475f-b1a3-ded401f4f4e6",
         "6264a47a-4b49-42f6-a07b-f56d1cb86731",
         "Otto da Conceição",
         "suscipit",
         "Jesus",
         "corporis",
         "Sales",
         "2023-12-05",
         "2021-10-17",
         "Diogo Rocha"
        ],
        [
         "2727bf7b-7aa4-46f3-9b56-e4c72f69ef6c",
         "726efc56-bbe3-41af-bb61-15a941461300",
         "Antonella Farias",
         "vitae",
         "Azevedo das Flores",
         "voluptas",
         "Aparecida",
         "2023-08-07",
         "2023-10-07",
         "Vitória Sales"
        ],
        [
         "ae8f7dec-91fd-48c8-b594-344ab4c8bb8b",
         "fe2e76e7-c19a-4043-a769-b67e47f4254a",
         "Diego Vargas",
         "repellat",
         "Lima de Fernandes",
         "tempora",
         "Caldeira S.A.",
         "2020-10-29",
         "2024-01-28",
         "Maria Fernanda Aragão"
        ],
        [
         "38519001-7957-4843-8830-78cfd57d9fa0",
         "68ce62df-2a72-47d9-b4f7-0797c911c420",
         "Gabriela Araújo",
         "nostrum",
         "Rocha de Minas",
         "nobis",
         "Vasconcelos",
         "2021-03-28",
         "2022-11-22",
         "Letícia Azevedo"
        ]
       ],
       "datasetInfos": [],
       "dbfsResultPath": null,
       "isJsonSchema": true,
       "metadata": {},
       "overflow": false,
       "plotOptions": {
        "customPlotOptions": {},
        "displayType": "table",
        "pivotAggregation": null,
        "pivotColumns": null,
        "xColumns": null,
        "yColumns": null
       },
       "removedWidgets": [],
       "schema": [
        {
         "metadata": "{}",
         "name": "atendimento_id",
         "type": "\"string\""
        },
        {
         "metadata": "{}",
         "name": "paciente_id",
         "type": "\"string\""
        },
        {
         "metadata": "{}",
         "name": "nome_paciente",
         "type": "\"string\""
        },
        {
         "metadata": "{}",
         "name": "doenca",
         "type": "\"string\""
        },
        {
         "metadata": "{}",
         "name": "localidade",
         "type": "\"string\""
        },
        {
         "metadata": "{}",
         "name": "especialidade",
         "type": "\"string\""
        },
        {
         "metadata": "{}",
         "name": "local_atendimento",
         "type": "\"string\""
        },
        {
         "metadata": "{}",
         "name": "data_atendimento",
         "type": "\"string\""
        },
        {
         "metadata": "{}",
         "name": "data_consulta",
         "type": "\"string\""
        },
        {
         "metadata": "{}",
         "name": "medico",
         "type": "\"string\""
        }
       ],
       "type": "table"
      }
     },
     "output_type": "display_data"
    },
    {
     "output_type": "stream",
     "name": "stdout",
     "output_type": "stream",
     "text": [
      "Cirurgias - Silver:\n"
     ]
    },
    {
     "output_type": "display_data",
     "data": {
      "text/html": [
       "<style scoped>\n",
       "  .table-result-container {\n",
       "    max-height: 300px;\n",
       "    overflow: auto;\n",
       "  }\n",
       "  table, th, td {\n",
       "    border: 1px solid black;\n",
       "    border-collapse: collapse;\n",
       "  }\n",
       "  th, td {\n",
       "    padding: 5px;\n",
       "  }\n",
       "  th {\n",
       "    text-align: left;\n",
       "  }\n",
       "</style><div class='table-result-container'><table class='table-result'><thead style='background-color: white'><tr><th>nome_paciente</th><th>data_cirurgia</th><th>cod_paciente</th><th>tipo_cirurgia</th><th>doenca</th><th>hospital</th><th>tipo_procedimento</th><th>nome_medico</th><th>resultado_cirurgia</th></tr></thead><tbody><tr><td>Igor Lopes</td><td>2023-11-28</td><td>892256</td><td>Cirurgia torácica</td><td>Fratura óssea</td><td>Hospital São Paulo</td><td>Procedimento não invasivo</td><td>Rodrigo da Mota</td><td>Falha</td></tr><tr><td>João Miguel Ramos</td><td>2022-01-08</td><td>925794</td><td>Cirurgia ortopédica</td><td>Fratura óssea</td><td>Hospital Albert Einstein</td><td>Procedimento invasivo</td><td>Ana Lívia das Neves</td><td>Falha</td></tr><tr><td>Anna Liz Costa</td><td>2022-12-09</td><td>663278</td><td>Cirurgia plástica</td><td>Queimadura</td><td>Hospital Sírio-Libanês</td><td>Procedimento invasivo</td><td>Pedro da Mata</td><td>Complicações</td></tr><tr><td>Mirella Marques</td><td>2022-08-29</td><td>920507</td><td>Cirurgia plástica</td><td>Doença cardíaca</td><td>Hospital Albert Einstein</td><td>Procedimento invasivo</td><td>Sr. Pedro Henrique Fernandes</td><td>Sucesso</td></tr><tr><td>João Miguel da Mota</td><td>2023-08-03</td><td>494736</td><td>Cirurgia plástica</td><td>Doença pulmonar</td><td>Hospital Albert Einstein</td><td>Procedimento não invasivo</td><td>Benjamim Machado</td><td>Complicações</td></tr><tr><td>Sra. Raquel Azevedo</td><td>2024-10-23</td><td>640912</td><td>Cirurgia neurológica</td><td>Fratura óssea</td><td>Hospital Albert Einstein</td><td>Procedimento invasivo</td><td>Sr. Thales Dias</td><td>Falha</td></tr><tr><td>Maysa Nascimento</td><td>2024-03-08</td><td>866365</td><td>Cirurgia torácica</td><td>Queimadura</td><td>Hospital Sírio-Libanês</td><td>Procedimento não invasivo</td><td>Sra. Carolina Vargas</td><td>Complicações</td></tr><tr><td>Leandro Caldeira</td><td>2021-01-09</td><td>117949</td><td>Cirurgia neurológica</td><td>Doença pulmonar</td><td>Hospital das Clínicas</td><td>Procedimento não invasivo</td><td>Arthur Miguel Dias</td><td>Falha</td></tr><tr><td>João Pedro Novais</td><td>2022-05-25</td><td>367734</td><td>Cirurgia cardíaca</td><td>Doença pulmonar</td><td>Hospital São Paulo</td><td>Procedimento invasivo</td><td>Allana da Mota</td><td>Complicações</td></tr><tr><td>Fernando Novaes</td><td>2024-02-02</td><td>616787</td><td>Cirurgia plástica</td><td>Doença pulmonar</td><td>Hospital São Paulo</td><td>Procedimento não invasivo</td><td>Heloisa Costa</td><td>Falha</td></tr><tr><td>Pietro Siqueira</td><td>2025-04-02</td><td>436089</td><td>Cirurgia plástica</td><td>Queimadura</td><td>Hospital do Coração</td><td>Procedimento invasivo</td><td>Esther Viana</td><td>Falha</td></tr><tr><td>Antonella Barbosa</td><td>2023-04-26</td><td>794444</td><td>Cirurgia ortopédica</td><td>Queimadura</td><td>Hospital Sírio-Libanês</td><td>Procedimento não invasivo</td><td>Davi Lucca Gomes</td><td>Falha</td></tr><tr><td>Natália da Luz</td><td>2025-03-14</td><td>224328</td><td>Cirurgia neurológica</td><td>Doença cardíaca</td><td>Hospital do Coração</td><td>Procedimento não invasivo</td><td>Srta. Isadora Teixeira</td><td>Complicações</td></tr><tr><td>Arthur Gabriel da Mota</td><td>2023-08-27</td><td>510933</td><td>Cirurgia ortopédica</td><td>Tumor cerebral</td><td>Hospital do Coração</td><td>Procedimento invasivo</td><td>João Pedro Nunes</td><td>Complicações</td></tr><tr><td>Sofia Barros</td><td>2023-06-15</td><td>744729</td><td>Cirurgia torácica</td><td>Tumor cerebral</td><td>Hospital Sírio-Libanês</td><td>Procedimento não invasivo</td><td>Olivia Sampaio</td><td>Sucesso</td></tr><tr><td>Rael Alves</td><td>2022-10-21</td><td>327532</td><td>Cirurgia ortopédica</td><td>Tumor cerebral</td><td>Hospital Sírio-Libanês</td><td>Procedimento invasivo</td><td>Srta. Aylla Vargas</td><td>Complicações</td></tr><tr><td>Davi Lucca Souza</td><td>2020-10-09</td><td>688430</td><td>Cirurgia neurológica</td><td>Doença cardíaca</td><td>Hospital do Coração</td><td>Procedimento não invasivo</td><td>Daniela Borges</td><td>Sucesso</td></tr><tr><td>Rebeca Mendes</td><td>2025-05-16</td><td>728991</td><td>Cirurgia neurológica</td><td>Fratura óssea</td><td>Hospital Sírio-Libanês</td><td>Procedimento invasivo</td><td>Dr. Bento da Cunha</td><td>Complicações</td></tr><tr><td>Maria Helena Cavalcante</td><td>2022-12-30</td><td>505205</td><td>Cirurgia plástica</td><td>Doença pulmonar</td><td>Hospital das Clínicas</td><td>Procedimento invasivo</td><td>Beatriz Silveira</td><td>Complicações</td></tr><tr><td>Emanuella Cunha</td><td>2021-04-29</td><td>597785</td><td>Cirurgia ortopédica</td><td>Queimadura</td><td>Hospital Albert Einstein</td><td>Procedimento não invasivo</td><td>Yasmin Nascimento</td><td>Falha</td></tr><tr><td>Sara da Mata</td><td>2022-03-13</td><td>807190</td><td>Cirurgia plástica</td><td>Queimadura</td><td>Hospital das Clínicas</td><td>Procedimento invasivo</td><td>Heitor Gomes</td><td>Sucesso</td></tr><tr><td>Sr. Lucas da Cruz</td><td>2025-04-24</td><td>843433</td><td>Cirurgia ortopédica</td><td>Queimadura</td><td>Hospital São Paulo</td><td>Procedimento não invasivo</td><td>Srta. Agatha Jesus</td><td>Sucesso</td></tr><tr><td>Rael Cardoso</td><td>2024-10-20</td><td>520772</td><td>Cirurgia ortopédica</td><td>Tumor cerebral</td><td>Hospital do Coração</td><td>Procedimento invasivo</td><td>Clarice da Costa</td><td>Falha</td></tr><tr><td>Eduardo Marques</td><td>2022-06-17</td><td>992386</td><td>Cirurgia torácica</td><td>Doença pulmonar</td><td>Hospital das Clínicas</td><td>Procedimento não invasivo</td><td>Benício Marques</td><td>Complicações</td></tr><tr><td>Dr. Igor Peixoto</td><td>2020-07-03</td><td>105006</td><td>Cirurgia ortopédica</td><td>Tumor cerebral</td><td>Hospital São Paulo</td><td>Procedimento não invasivo</td><td>Dra. Brenda Vieira</td><td>Complicações</td></tr><tr><td>Davi Cassiano</td><td>2021-11-09</td><td>310279</td><td>Cirurgia cardíaca</td><td>Queimadura</td><td>Hospital Sírio-Libanês</td><td>Procedimento não invasivo</td><td>Sr. Gustavo Henrique Teixeira</td><td>Complicações</td></tr><tr><td>Nicole Pereira</td><td>2022-04-29</td><td>329521</td><td>Cirurgia torácica</td><td>Fratura óssea</td><td>Hospital Albert Einstein</td><td>Procedimento não invasivo</td><td>Anthony Monteiro</td><td>Sucesso</td></tr><tr><td>Olivia Moraes</td><td>2021-03-21</td><td>497869</td><td>Cirurgia neurológica</td><td>Queimadura</td><td>Hospital das Clínicas</td><td>Procedimento não invasivo</td><td>Raul Almeida</td><td>Falha</td></tr><tr><td>Vitória Jesus</td><td>2024-05-09</td><td>685917</td><td>Cirurgia cardíaca</td><td>Doença cardíaca</td><td>Hospital do Coração</td><td>Procedimento invasivo</td><td>Srta. Helena Leão</td><td>Complicações</td></tr><tr><td>Dom Vasconcelos</td><td>2022-06-14</td><td>751874</td><td>Cirurgia torácica</td><td>Doença pulmonar</td><td>Hospital Sírio-Libanês</td><td>Procedimento invasivo</td><td>Eduardo Leão</td><td>Falha</td></tr><tr><td>Arthur da Cruz</td><td>2023-05-17</td><td>630725</td><td>Cirurgia neurológica</td><td>Doença cardíaca</td><td>Hospital São Paulo</td><td>Procedimento invasivo</td><td>Sra. Cecilia Freitas</td><td>Falha</td></tr><tr><td>Dr. Noah Alves</td><td>2022-10-19</td><td>139801</td><td>Cirurgia ortopédica</td><td>Tumor cerebral</td><td>Hospital Sírio-Libanês</td><td>Procedimento invasivo</td><td>Bruno Borges</td><td>Sucesso</td></tr><tr><td>Bento Pereira</td><td>2020-10-04</td><td>105272</td><td>Cirurgia plástica</td><td>Doença cardíaca</td><td>Hospital Albert Einstein</td><td>Procedimento não invasivo</td><td>Letícia Costa</td><td>Complicações</td></tr><tr><td>Emanuella Alves</td><td>2024-06-17</td><td>628416</td><td>Cirurgia cardíaca</td><td>Tumor cerebral</td><td>Hospital São Paulo</td><td>Procedimento invasivo</td><td>Lunna Rocha</td><td>Sucesso</td></tr><tr><td>Nicole das Neves</td><td>2024-04-15</td><td>144925</td><td>Cirurgia cardíaca</td><td>Queimadura</td><td>Hospital São Paulo</td><td>Procedimento invasivo</td><td>Zoe Ramos</td><td>Complicações</td></tr><tr><td>Ísis Borges</td><td>2024-01-09</td><td>645173</td><td>Cirurgia cardíaca</td><td>Doença cardíaca</td><td>Hospital Sírio-Libanês</td><td>Procedimento invasivo</td><td>João Lucas Brito</td><td>Complicações</td></tr><tr><td>Josué Marques</td><td>2021-12-04</td><td>915326</td><td>Cirurgia neurológica</td><td>Doença cardíaca</td><td>Hospital Sírio-Libanês</td><td>Procedimento não invasivo</td><td>Enrico Jesus</td><td>Sucesso</td></tr><tr><td>Alexia da Cruz</td><td>2024-01-30</td><td>948419</td><td>Cirurgia plástica</td><td>Doença pulmonar</td><td>Hospital Albert Einstein</td><td>Procedimento invasivo</td><td>Dr. Vitor Gabriel Cunha</td><td>Sucesso</td></tr><tr><td>Sra. Sophia Pinto</td><td>2020-08-29</td><td>592825</td><td>Cirurgia cardíaca</td><td>Queimadura</td><td>Hospital São Paulo</td><td>Procedimento invasivo</td><td>Sara Vasconcelos</td><td>Complicações</td></tr><tr><td>Carlos Eduardo Cirino</td><td>2021-09-11</td><td>568111</td><td>Cirurgia ortopédica</td><td>Queimadura</td><td>Hospital Albert Einstein</td><td>Procedimento não invasivo</td><td>Léo Pires</td><td>Falha</td></tr><tr><td>Ana Vitória Silveira</td><td>2024-07-14</td><td>929050</td><td>Cirurgia torácica</td><td>Fratura óssea</td><td>Hospital das Clínicas</td><td>Procedimento não invasivo</td><td>Maria Luísa Fernandes</td><td>Complicações</td></tr><tr><td>Sr. Luan Vasconcelos</td><td>2022-12-04</td><td>546860</td><td>Cirurgia ortopédica</td><td>Tumor cerebral</td><td>Hospital Sírio-Libanês</td><td>Procedimento invasivo</td><td>Alícia Melo</td><td>Sucesso</td></tr><tr><td>João Vitor Nascimento</td><td>2022-07-08</td><td>324411</td><td>Cirurgia torácica</td><td>Queimadura</td><td>Hospital Sírio-Libanês</td><td>Procedimento não invasivo</td><td>Sra. Lorena Machado</td><td>Complicações</td></tr><tr><td>Ana Luiza da Rocha</td><td>2022-07-29</td><td>547387</td><td>Cirurgia neurológica</td><td>Doença cardíaca</td><td>Hospital das Clínicas</td><td>Procedimento invasivo</td><td>Juan Peixoto</td><td>Sucesso</td></tr><tr><td>Laura Gonçalves</td><td>2023-01-22</td><td>680818</td><td>Cirurgia ortopédica</td><td>Tumor cerebral</td><td>Hospital Albert Einstein</td><td>Procedimento invasivo</td><td>Manuella Garcia</td><td>Falha</td></tr><tr><td>Daniel da Cruz</td><td>2022-11-13</td><td>927529</td><td>Cirurgia neurológica</td><td>Doença cardíaca</td><td>Hospital do Coração</td><td>Procedimento não invasivo</td><td>Alexia Barros</td><td>Complicações</td></tr><tr><td>Sophie Vargas</td><td>2022-06-11</td><td>668559</td><td>Cirurgia ortopédica</td><td>Doença pulmonar</td><td>Hospital Sírio-Libanês</td><td>Procedimento invasivo</td><td>Diogo Machado</td><td>Falha</td></tr><tr><td>Fernando Martins</td><td>2025-03-27</td><td>667245</td><td>Cirurgia cardíaca</td><td>Fratura óssea</td><td>Hospital das Clínicas</td><td>Procedimento invasivo</td><td>João Gabriel Sousa</td><td>Complicações</td></tr><tr><td>Apollo Montenegro</td><td>2023-02-28</td><td>244995</td><td>Cirurgia cardíaca</td><td>Queimadura</td><td>Hospital São Paulo</td><td>Procedimento invasivo</td><td>Hellena Freitas</td><td>Sucesso</td></tr><tr><td>Arthur Gabriel da Costa</td><td>2020-08-31</td><td>384781</td><td>Cirurgia cardíaca</td><td>Queimadura</td><td>Hospital Albert Einstein</td><td>Procedimento não invasivo</td><td>Brayan Barros</td><td>Falha</td></tr><tr><td>Amanda Pinto</td><td>2022-08-22</td><td>262370</td><td>Cirurgia plástica</td><td>Fratura óssea</td><td>Hospital das Clínicas</td><td>Procedimento invasivo</td><td>Mateus das Neves</td><td>Complicações</td></tr><tr><td>Dr. João Miguel Aparecida</td><td>2024-08-12</td><td>521444</td><td>Cirurgia torácica</td><td>Fratura óssea</td><td>Hospital São Paulo</td><td>Procedimento não invasivo</td><td>Eduarda Lopes</td><td>Falha</td></tr><tr><td>Lucas Pimenta</td><td>2024-12-08</td><td>876587</td><td>Cirurgia cardíaca</td><td>Tumor cerebral</td><td>Hospital Albert Einstein</td><td>Procedimento não invasivo</td><td>Ana Beatriz Moreira</td><td>Sucesso</td></tr><tr><td>Liam Albuquerque</td><td>2025-04-29</td><td>456647</td><td>Cirurgia ortopédica</td><td>Tumor cerebral</td><td>Hospital Sírio-Libanês</td><td>Procedimento não invasivo</td><td>Pedro Henrique Oliveira</td><td>Sucesso</td></tr><tr><td>Evelyn das Neves</td><td>2022-12-07</td><td>645080</td><td>Cirurgia cardíaca</td><td>Doença pulmonar</td><td>Hospital Albert Einstein</td><td>Procedimento invasivo</td><td>Maria Laura Dias</td><td>Falha</td></tr><tr><td>Pedro Miguel Garcia</td><td>2025-02-08</td><td>491289</td><td>Cirurgia cardíaca</td><td>Fratura óssea</td><td>Hospital Sírio-Libanês</td><td>Procedimento não invasivo</td><td>Eduardo Cassiano</td><td>Falha</td></tr><tr><td>Emanuella Macedo</td><td>2020-12-03</td><td>969448</td><td>Cirurgia ortopédica</td><td>Fratura óssea</td><td>Hospital Albert Einstein</td><td>Procedimento não invasivo</td><td>Thiago Porto</td><td>Complicações</td></tr><tr><td>Sarah Dias</td><td>2020-10-04</td><td>241438</td><td>Cirurgia cardíaca</td><td>Queimadura</td><td>Hospital do Coração</td><td>Procedimento invasivo</td><td>Danilo Pinto</td><td>Complicações</td></tr><tr><td>Dra. Kamilly Ramos</td><td>2022-07-17</td><td>371160</td><td>Cirurgia plástica</td><td>Tumor cerebral</td><td>Hospital São Paulo</td><td>Procedimento invasivo</td><td>Luiza Fonseca</td><td>Falha</td></tr><tr><td>Ana Vitória Ferreira</td><td>2022-06-11</td><td>656760</td><td>Cirurgia neurológica</td><td>Doença cardíaca</td><td>Hospital das Clínicas</td><td>Procedimento não invasivo</td><td>Laura Pimenta</td><td>Complicações</td></tr><tr><td>Lucas Farias</td><td>2022-05-27</td><td>348119</td><td>Cirurgia ortopédica</td><td>Tumor cerebral</td><td>Hospital São Paulo</td><td>Procedimento não invasivo</td><td>Miguel Aparecida</td><td>Complicações</td></tr><tr><td>Nicolas Nascimento</td><td>2024-11-02</td><td>797646</td><td>Cirurgia plástica</td><td>Queimadura</td><td>Hospital Albert Einstein</td><td>Procedimento não invasivo</td><td>Stella da Mata</td><td>Falha</td></tr><tr><td>Luigi Machado</td><td>2020-11-21</td><td>467684</td><td>Cirurgia ortopédica</td><td>Fratura óssea</td><td>Hospital Sírio-Libanês</td><td>Procedimento não invasivo</td><td>Jade Rios</td><td>Complicações</td></tr><tr><td>Sr. Oliver Garcia</td><td>2023-01-24</td><td>919367</td><td>Cirurgia ortopédica</td><td>Doença pulmonar</td><td>Hospital São Paulo</td><td>Procedimento invasivo</td><td>Bruno Pires</td><td>Sucesso</td></tr><tr><td>Sr. Ravi Lucca Ramos</td><td>2024-11-11</td><td>176226</td><td>Cirurgia neurológica</td><td>Fratura óssea</td><td>Hospital Sírio-Libanês</td><td>Procedimento não invasivo</td><td>Rebeca da Rocha</td><td>Complicações</td></tr><tr><td>Emanuelly Sampaio</td><td>2024-02-02</td><td>841691</td><td>Cirurgia plástica</td><td>Queimadura</td><td>Hospital São Paulo</td><td>Procedimento não invasivo</td><td>Henrique Nascimento</td><td>Sucesso</td></tr><tr><td>Isabelly Melo</td><td>2023-05-13</td><td>612475</td><td>Cirurgia ortopédica</td><td>Queimadura</td><td>Hospital das Clínicas</td><td>Procedimento invasivo</td><td>Júlia Sousa</td><td>Sucesso</td></tr><tr><td>Ravi Lucca Martins</td><td>2020-06-24</td><td>997100</td><td>Cirurgia torácica</td><td>Doença pulmonar</td><td>Hospital Sírio-Libanês</td><td>Procedimento não invasivo</td><td>Joaquim Albuquerque</td><td>Falha</td></tr><tr><td>Dr. Otto Mendes</td><td>2023-06-20</td><td>633083</td><td>Cirurgia ortopédica</td><td>Doença cardíaca</td><td>Hospital das Clínicas</td><td>Procedimento não invasivo</td><td>Leonardo Freitas</td><td>Sucesso</td></tr><tr><td>Ana Beatriz Martins</td><td>2021-10-21</td><td>380690</td><td>Cirurgia torácica</td><td>Queimadura</td><td>Hospital Sírio-Libanês</td><td>Procedimento não invasivo</td><td>Sophie Ferreira</td><td>Complicações</td></tr><tr><td>Pedro Miguel da Rosa</td><td>2021-07-21</td><td>604187</td><td>Cirurgia torácica</td><td>Doença pulmonar</td><td>Hospital Albert Einstein</td><td>Procedimento invasivo</td><td>Mathias das Neves</td><td>Falha</td></tr><tr><td>Ravy Albuquerque</td><td>2024-06-10</td><td>730578</td><td>Cirurgia plástica</td><td>Doença cardíaca</td><td>Hospital do Coração</td><td>Procedimento não invasivo</td><td>Vitor Melo</td><td>Complicações</td></tr><tr><td>Maria Alice Brito</td><td>2022-01-31</td><td>658017</td><td>Cirurgia ortopédica</td><td>Fratura óssea</td><td>Hospital São Paulo</td><td>Procedimento invasivo</td><td>Dra. Luiza da Rocha</td><td>Complicações</td></tr><tr><td>Arthur Miguel Borges</td><td>2022-04-20</td><td>303609</td><td>Cirurgia neurológica</td><td>Tumor cerebral</td><td>Hospital São Paulo</td><td>Procedimento invasivo</td><td>Sophie Rodrigues</td><td>Falha</td></tr><tr><td>Vicente Ramos</td><td>2021-09-04</td><td>502940</td><td>Cirurgia ortopédica</td><td>Doença cardíaca</td><td>Hospital do Coração</td><td>Procedimento invasivo</td><td>Raul Pastor</td><td>Complicações</td></tr><tr><td>Isaac Rodrigues</td><td>2025-02-11</td><td>907204</td><td>Cirurgia neurológica</td><td>Fratura óssea</td><td>Hospital do Coração</td><td>Procedimento invasivo</td><td>Nicole Camargo</td><td>Sucesso</td></tr><tr><td>Dr. Enrico Jesus</td><td>2020-11-01</td><td>978689</td><td>Cirurgia plástica</td><td>Queimadura</td><td>Hospital São Paulo</td><td>Procedimento não invasivo</td><td>Raul da Cruz</td><td>Complicações</td></tr><tr><td>Murilo Mendonça</td><td>2025-02-10</td><td>359013</td><td>Cirurgia cardíaca</td><td>Doença pulmonar</td><td>Hospital das Clínicas</td><td>Procedimento não invasivo</td><td>Calebe Jesus</td><td>Sucesso</td></tr><tr><td>Dr. Rodrigo Novaes</td><td>2025-02-04</td><td>708533</td><td>Cirurgia torácica</td><td>Doença cardíaca</td><td>Hospital Albert Einstein</td><td>Procedimento não invasivo</td><td>Srta. Isabella Casa Grande</td><td>Sucesso</td></tr><tr><td>Léo Gomes</td><td>2022-01-22</td><td>417707</td><td>Cirurgia ortopédica</td><td>Fratura óssea</td><td>Hospital das Clínicas</td><td>Procedimento invasivo</td><td>Oliver Mendonça</td><td>Sucesso</td></tr><tr><td>João Felipe Nunes</td><td>2022-12-08</td><td>129350</td><td>Cirurgia torácica</td><td>Tumor cerebral</td><td>Hospital das Clínicas</td><td>Procedimento não invasivo</td><td>Ana Vitória da Conceição</td><td>Sucesso</td></tr><tr><td>Brayan Silveira</td><td>2023-01-27</td><td>792986</td><td>Cirurgia ortopédica</td><td>Doença pulmonar</td><td>Hospital São Paulo</td><td>Procedimento invasivo</td><td>Erick Novaes</td><td>Complicações</td></tr><tr><td>Dra. Alexia Fogaça</td><td>2023-02-03</td><td>124798</td><td>Cirurgia torácica</td><td>Tumor cerebral</td><td>Hospital Albert Einstein</td><td>Procedimento não invasivo</td><td>Caleb Aragão</td><td>Complicações</td></tr><tr><td>Sr. João Felipe Brito</td><td>2022-01-08</td><td>773408</td><td>Cirurgia torácica</td><td>Doença pulmonar</td><td>Hospital Sírio-Libanês</td><td>Procedimento invasivo</td><td>Yago Moura</td><td>Sucesso</td></tr><tr><td>Ísis Ramos</td><td>2023-04-30</td><td>811804</td><td>Cirurgia neurológica</td><td>Doença cardíaca</td><td>Hospital das Clínicas</td><td>Procedimento invasivo</td><td>Isabella Farias</td><td>Sucesso</td></tr><tr><td>Maria Laura da Cunha</td><td>2023-03-17</td><td>355511</td><td>Cirurgia cardíaca</td><td>Fratura óssea</td><td>Hospital do Coração</td><td>Procedimento invasivo</td><td>Kamilly da Costa</td><td>Sucesso</td></tr><tr><td>Sr. Ravi Casa Grande</td><td>2022-08-15</td><td>834347</td><td>Cirurgia cardíaca</td><td>Doença cardíaca</td><td>Hospital São Paulo</td><td>Procedimento invasivo</td><td>Eduardo Melo</td><td>Complicações</td></tr><tr><td>Pedro Miguel Teixeira</td><td>2021-03-20</td><td>124244</td><td>Cirurgia cardíaca</td><td>Queimadura</td><td>Hospital Sírio-Libanês</td><td>Procedimento invasivo</td><td>Marcos Vinicius Rezende</td><td>Falha</td></tr><tr><td>Sra. Letícia Araújo</td><td>2022-01-19</td><td>624653</td><td>Cirurgia ortopédica</td><td>Doença cardíaca</td><td>Hospital Albert Einstein</td><td>Procedimento não invasivo</td><td>Elisa Casa Grande</td><td>Falha</td></tr><tr><td>Caleb Machado</td><td>2022-05-09</td><td>301206</td><td>Cirurgia cardíaca</td><td>Tumor cerebral</td><td>Hospital Albert Einstein</td><td>Procedimento invasivo</td><td>Erick Rios</td><td>Falha</td></tr><tr><td>Dr. José Miguel Guerra</td><td>2021-03-18</td><td>589693</td><td>Cirurgia plástica</td><td>Queimadura</td><td>Hospital Sírio-Libanês</td><td>Procedimento não invasivo</td><td>Olivia Rocha</td><td>Falha</td></tr><tr><td>Aylla Fonseca</td><td>2023-03-21</td><td>528872</td><td>Cirurgia torácica</td><td>Fratura óssea</td><td>Hospital das Clínicas</td><td>Procedimento não invasivo</td><td>Hellena das Neves</td><td>Complicações</td></tr><tr><td>Lucca da Cruz</td><td>2020-09-07</td><td>687375</td><td>Cirurgia cardíaca</td><td>Doença pulmonar</td><td>Hospital do Coração</td><td>Procedimento não invasivo</td><td>Caleb da Mata</td><td>Complicações</td></tr><tr><td>Sr. Anthony Gabriel Fogaça</td><td>2022-01-06</td><td>692210</td><td>Cirurgia plástica</td><td>Queimadura</td><td>Hospital do Coração</td><td>Procedimento não invasivo</td><td>Isadora Rocha</td><td>Complicações</td></tr><tr><td>João Pedro Oliveira</td><td>2023-01-17</td><td>701702</td><td>Cirurgia cardíaca</td><td>Doença cardíaca</td><td>Hospital do Coração</td><td>Procedimento invasivo</td><td>Melina Fernandes</td><td>Complicações</td></tr><tr><td>Bruna Sousa</td><td>2021-07-17</td><td>600554</td><td>Cirurgia neurológica</td><td>Tumor cerebral</td><td>Hospital das Clínicas</td><td>Procedimento invasivo</td><td>Alana Melo</td><td>Falha</td></tr><tr><td>Mateus Cirino</td><td>2021-02-25</td><td>263507</td><td>Cirurgia neurológica</td><td>Doença cardíaca</td><td>Hospital do Coração</td><td>Procedimento invasivo</td><td>Gustavo Henrique da Mota</td><td>Sucesso</td></tr><tr><td>Stella Rocha</td><td>2025-01-21</td><td>231378</td><td>Cirurgia plástica</td><td>Queimadura</td><td>Hospital São Paulo</td><td>Procedimento não invasivo</td><td>Helena Caldeira</td><td>Complicações</td></tr><tr><td>Emilly Ribeiro</td><td>2023-10-01</td><td>918882</td><td>Cirurgia torácica</td><td>Fratura óssea</td><td>Hospital do Coração</td><td>Procedimento invasivo</td><td>Olívia da Mata</td><td>Falha</td></tr><tr><td>Luiz Miguel Andrade</td><td>2023-03-03</td><td>909705</td><td>Cirurgia cardíaca</td><td>Doença cardíaca</td><td>Hospital das Clínicas</td><td>Procedimento não invasivo</td><td>Gabrielly Ribeiro</td><td>Sucesso</td></tr></tbody></table></div>"
      ]
     },
     "metadata": {
      "application/vnd.databricks.v1+output": {
       "addedWidgets": {},
       "aggData": [],
       "aggError": "",
       "aggOverflow": false,
       "aggSchema": [],
       "aggSeriesLimitReached": false,
       "aggType": "",
       "arguments": {},
       "columnCustomDisplayInfos": {},
       "data": [
        [
         "Igor Lopes",
         "2023-11-28",
         "892256",
         "Cirurgia torácica",
         "Fratura óssea",
         "Hospital São Paulo",
         "Procedimento não invasivo",
         "Rodrigo da Mota",
         "Falha"
        ],
        [
         "João Miguel Ramos",
         "2022-01-08",
         "925794",
         "Cirurgia ortopédica",
         "Fratura óssea",
         "Hospital Albert Einstein",
         "Procedimento invasivo",
         "Ana Lívia das Neves",
         "Falha"
        ],
        [
         "Anna Liz Costa",
         "2022-12-09",
         "663278",
         "Cirurgia plástica",
         "Queimadura",
         "Hospital Sírio-Libanês",
         "Procedimento invasivo",
         "Pedro da Mata",
         "Complicações"
        ],
        [
         "Mirella Marques",
         "2022-08-29",
         "920507",
         "Cirurgia plástica",
         "Doença cardíaca",
         "Hospital Albert Einstein",
         "Procedimento invasivo",
         "Sr. Pedro Henrique Fernandes",
         "Sucesso"
        ],
        [
         "João Miguel da Mota",
         "2023-08-03",
         "494736",
         "Cirurgia plástica",
         "Doença pulmonar",
         "Hospital Albert Einstein",
         "Procedimento não invasivo",
         "Benjamim Machado",
         "Complicações"
        ],
        [
         "Sra. Raquel Azevedo",
         "2024-10-23",
         "640912",
         "Cirurgia neurológica",
         "Fratura óssea",
         "Hospital Albert Einstein",
         "Procedimento invasivo",
         "Sr. Thales Dias",
         "Falha"
        ],
        [
         "Maysa Nascimento",
         "2024-03-08",
         "866365",
         "Cirurgia torácica",
         "Queimadura",
         "Hospital Sírio-Libanês",
         "Procedimento não invasivo",
         "Sra. Carolina Vargas",
         "Complicações"
        ],
        [
         "Leandro Caldeira",
         "2021-01-09",
         "117949",
         "Cirurgia neurológica",
         "Doença pulmonar",
         "Hospital das Clínicas",
         "Procedimento não invasivo",
         "Arthur Miguel Dias",
         "Falha"
        ],
        [
         "João Pedro Novais",
         "2022-05-25",
         "367734",
         "Cirurgia cardíaca",
         "Doença pulmonar",
         "Hospital São Paulo",
         "Procedimento invasivo",
         "Allana da Mota",
         "Complicações"
        ],
        [
         "Fernando Novaes",
         "2024-02-02",
         "616787",
         "Cirurgia plástica",
         "Doença pulmonar",
         "Hospital São Paulo",
         "Procedimento não invasivo",
         "Heloisa Costa",
         "Falha"
        ],
        [
         "Pietro Siqueira",
         "2025-04-02",
         "436089",
         "Cirurgia plástica",
         "Queimadura",
         "Hospital do Coração",
         "Procedimento invasivo",
         "Esther Viana",
         "Falha"
        ],
        [
         "Antonella Barbosa",
         "2023-04-26",
         "794444",
         "Cirurgia ortopédica",
         "Queimadura",
         "Hospital Sírio-Libanês",
         "Procedimento não invasivo",
         "Davi Lucca Gomes",
         "Falha"
        ],
        [
         "Natália da Luz",
         "2025-03-14",
         "224328",
         "Cirurgia neurológica",
         "Doença cardíaca",
         "Hospital do Coração",
         "Procedimento não invasivo",
         "Srta. Isadora Teixeira",
         "Complicações"
        ],
        [
         "Arthur Gabriel da Mota",
         "2023-08-27",
         "510933",
         "Cirurgia ortopédica",
         "Tumor cerebral",
         "Hospital do Coração",
         "Procedimento invasivo",
         "João Pedro Nunes",
         "Complicações"
        ],
        [
         "Sofia Barros",
         "2023-06-15",
         "744729",
         "Cirurgia torácica",
         "Tumor cerebral",
         "Hospital Sírio-Libanês",
         "Procedimento não invasivo",
         "Olivia Sampaio",
         "Sucesso"
        ],
        [
         "Rael Alves",
         "2022-10-21",
         "327532",
         "Cirurgia ortopédica",
         "Tumor cerebral",
         "Hospital Sírio-Libanês",
         "Procedimento invasivo",
         "Srta. Aylla Vargas",
         "Complicações"
        ],
        [
         "Davi Lucca Souza",
         "2020-10-09",
         "688430",
         "Cirurgia neurológica",
         "Doença cardíaca",
         "Hospital do Coração",
         "Procedimento não invasivo",
         "Daniela Borges",
         "Sucesso"
        ],
        [
         "Rebeca Mendes",
         "2025-05-16",
         "728991",
         "Cirurgia neurológica",
         "Fratura óssea",
         "Hospital Sírio-Libanês",
         "Procedimento invasivo",
         "Dr. Bento da Cunha",
         "Complicações"
        ],
        [
         "Maria Helena Cavalcante",
         "2022-12-30",
         "505205",
         "Cirurgia plástica",
         "Doença pulmonar",
         "Hospital das Clínicas",
         "Procedimento invasivo",
         "Beatriz Silveira",
         "Complicações"
        ],
        [
         "Emanuella Cunha",
         "2021-04-29",
         "597785",
         "Cirurgia ortopédica",
         "Queimadura",
         "Hospital Albert Einstein",
         "Procedimento não invasivo",
         "Yasmin Nascimento",
         "Falha"
        ],
        [
         "Sara da Mata",
         "2022-03-13",
         "807190",
         "Cirurgia plástica",
         "Queimadura",
         "Hospital das Clínicas",
         "Procedimento invasivo",
         "Heitor Gomes",
         "Sucesso"
        ],
        [
         "Sr. Lucas da Cruz",
         "2025-04-24",
         "843433",
         "Cirurgia ortopédica",
         "Queimadura",
         "Hospital São Paulo",
         "Procedimento não invasivo",
         "Srta. Agatha Jesus",
         "Sucesso"
        ],
        [
         "Rael Cardoso",
         "2024-10-20",
         "520772",
         "Cirurgia ortopédica",
         "Tumor cerebral",
         "Hospital do Coração",
         "Procedimento invasivo",
         "Clarice da Costa",
         "Falha"
        ],
        [
         "Eduardo Marques",
         "2022-06-17",
         "992386",
         "Cirurgia torácica",
         "Doença pulmonar",
         "Hospital das Clínicas",
         "Procedimento não invasivo",
         "Benício Marques",
         "Complicações"
        ],
        [
         "Dr. Igor Peixoto",
         "2020-07-03",
         "105006",
         "Cirurgia ortopédica",
         "Tumor cerebral",
         "Hospital São Paulo",
         "Procedimento não invasivo",
         "Dra. Brenda Vieira",
         "Complicações"
        ],
        [
         "Davi Cassiano",
         "2021-11-09",
         "310279",
         "Cirurgia cardíaca",
         "Queimadura",
         "Hospital Sírio-Libanês",
         "Procedimento não invasivo",
         "Sr. Gustavo Henrique Teixeira",
         "Complicações"
        ],
        [
         "Nicole Pereira",
         "2022-04-29",
         "329521",
         "Cirurgia torácica",
         "Fratura óssea",
         "Hospital Albert Einstein",
         "Procedimento não invasivo",
         "Anthony Monteiro",
         "Sucesso"
        ],
        [
         "Olivia Moraes",
         "2021-03-21",
         "497869",
         "Cirurgia neurológica",
         "Queimadura",
         "Hospital das Clínicas",
         "Procedimento não invasivo",
         "Raul Almeida",
         "Falha"
        ],
        [
         "Vitória Jesus",
         "2024-05-09",
         "685917",
         "Cirurgia cardíaca",
         "Doença cardíaca",
         "Hospital do Coração",
         "Procedimento invasivo",
         "Srta. Helena Leão",
         "Complicações"
        ],
        [
         "Dom Vasconcelos",
         "2022-06-14",
         "751874",
         "Cirurgia torácica",
         "Doença pulmonar",
         "Hospital Sírio-Libanês",
         "Procedimento invasivo",
         "Eduardo Leão",
         "Falha"
        ],
        [
         "Arthur da Cruz",
         "2023-05-17",
         "630725",
         "Cirurgia neurológica",
         "Doença cardíaca",
         "Hospital São Paulo",
         "Procedimento invasivo",
         "Sra. Cecilia Freitas",
         "Falha"
        ],
        [
         "Dr. Noah Alves",
         "2022-10-19",
         "139801",
         "Cirurgia ortopédica",
         "Tumor cerebral",
         "Hospital Sírio-Libanês",
         "Procedimento invasivo",
         "Bruno Borges",
         "Sucesso"
        ],
        [
         "Bento Pereira",
         "2020-10-04",
         "105272",
         "Cirurgia plástica",
         "Doença cardíaca",
         "Hospital Albert Einstein",
         "Procedimento não invasivo",
         "Letícia Costa",
         "Complicações"
        ],
        [
         "Emanuella Alves",
         "2024-06-17",
         "628416",
         "Cirurgia cardíaca",
         "Tumor cerebral",
         "Hospital São Paulo",
         "Procedimento invasivo",
         "Lunna Rocha",
         "Sucesso"
        ],
        [
         "Nicole das Neves",
         "2024-04-15",
         "144925",
         "Cirurgia cardíaca",
         "Queimadura",
         "Hospital São Paulo",
         "Procedimento invasivo",
         "Zoe Ramos",
         "Complicações"
        ],
        [
         "Ísis Borges",
         "2024-01-09",
         "645173",
         "Cirurgia cardíaca",
         "Doença cardíaca",
         "Hospital Sírio-Libanês",
         "Procedimento invasivo",
         "João Lucas Brito",
         "Complicações"
        ],
        [
         "Josué Marques",
         "2021-12-04",
         "915326",
         "Cirurgia neurológica",
         "Doença cardíaca",
         "Hospital Sírio-Libanês",
         "Procedimento não invasivo",
         "Enrico Jesus",
         "Sucesso"
        ],
        [
         "Alexia da Cruz",
         "2024-01-30",
         "948419",
         "Cirurgia plástica",
         "Doença pulmonar",
         "Hospital Albert Einstein",
         "Procedimento invasivo",
         "Dr. Vitor Gabriel Cunha",
         "Sucesso"
        ],
        [
         "Sra. Sophia Pinto",
         "2020-08-29",
         "592825",
         "Cirurgia cardíaca",
         "Queimadura",
         "Hospital São Paulo",
         "Procedimento invasivo",
         "Sara Vasconcelos",
         "Complicações"
        ],
        [
         "Carlos Eduardo Cirino",
         "2021-09-11",
         "568111",
         "Cirurgia ortopédica",
         "Queimadura",
         "Hospital Albert Einstein",
         "Procedimento não invasivo",
         "Léo Pires",
         "Falha"
        ],
        [
         "Ana Vitória Silveira",
         "2024-07-14",
         "929050",
         "Cirurgia torácica",
         "Fratura óssea",
         "Hospital das Clínicas",
         "Procedimento não invasivo",
         "Maria Luísa Fernandes",
         "Complicações"
        ],
        [
         "Sr. Luan Vasconcelos",
         "2022-12-04",
         "546860",
         "Cirurgia ortopédica",
         "Tumor cerebral",
         "Hospital Sírio-Libanês",
         "Procedimento invasivo",
         "Alícia Melo",
         "Sucesso"
        ],
        [
         "João Vitor Nascimento",
         "2022-07-08",
         "324411",
         "Cirurgia torácica",
         "Queimadura",
         "Hospital Sírio-Libanês",
         "Procedimento não invasivo",
         "Sra. Lorena Machado",
         "Complicações"
        ],
        [
         "Ana Luiza da Rocha",
         "2022-07-29",
         "547387",
         "Cirurgia neurológica",
         "Doença cardíaca",
         "Hospital das Clínicas",
         "Procedimento invasivo",
         "Juan Peixoto",
         "Sucesso"
        ],
        [
         "Laura Gonçalves",
         "2023-01-22",
         "680818",
         "Cirurgia ortopédica",
         "Tumor cerebral",
         "Hospital Albert Einstein",
         "Procedimento invasivo",
         "Manuella Garcia",
         "Falha"
        ],
        [
         "Daniel da Cruz",
         "2022-11-13",
         "927529",
         "Cirurgia neurológica",
         "Doença cardíaca",
         "Hospital do Coração",
         "Procedimento não invasivo",
         "Alexia Barros",
         "Complicações"
        ],
        [
         "Sophie Vargas",
         "2022-06-11",
         "668559",
         "Cirurgia ortopédica",
         "Doença pulmonar",
         "Hospital Sírio-Libanês",
         "Procedimento invasivo",
         "Diogo Machado",
         "Falha"
        ],
        [
         "Fernando Martins",
         "2025-03-27",
         "667245",
         "Cirurgia cardíaca",
         "Fratura óssea",
         "Hospital das Clínicas",
         "Procedimento invasivo",
         "João Gabriel Sousa",
         "Complicações"
        ],
        [
         "Apollo Montenegro",
         "2023-02-28",
         "244995",
         "Cirurgia cardíaca",
         "Queimadura",
         "Hospital São Paulo",
         "Procedimento invasivo",
         "Hellena Freitas",
         "Sucesso"
        ],
        [
         "Arthur Gabriel da Costa",
         "2020-08-31",
         "384781",
         "Cirurgia cardíaca",
         "Queimadura",
         "Hospital Albert Einstein",
         "Procedimento não invasivo",
         "Brayan Barros",
         "Falha"
        ],
        [
         "Amanda Pinto",
         "2022-08-22",
         "262370",
         "Cirurgia plástica",
         "Fratura óssea",
         "Hospital das Clínicas",
         "Procedimento invasivo",
         "Mateus das Neves",
         "Complicações"
        ],
        [
         "Dr. João Miguel Aparecida",
         "2024-08-12",
         "521444",
         "Cirurgia torácica",
         "Fratura óssea",
         "Hospital São Paulo",
         "Procedimento não invasivo",
         "Eduarda Lopes",
         "Falha"
        ],
        [
         "Lucas Pimenta",
         "2024-12-08",
         "876587",
         "Cirurgia cardíaca",
         "Tumor cerebral",
         "Hospital Albert Einstein",
         "Procedimento não invasivo",
         "Ana Beatriz Moreira",
         "Sucesso"
        ],
        [
         "Liam Albuquerque",
         "2025-04-29",
         "456647",
         "Cirurgia ortopédica",
         "Tumor cerebral",
         "Hospital Sírio-Libanês",
         "Procedimento não invasivo",
         "Pedro Henrique Oliveira",
         "Sucesso"
        ],
        [
         "Evelyn das Neves",
         "2022-12-07",
         "645080",
         "Cirurgia cardíaca",
         "Doença pulmonar",
         "Hospital Albert Einstein",
         "Procedimento invasivo",
         "Maria Laura Dias",
         "Falha"
        ],
        [
         "Pedro Miguel Garcia",
         "2025-02-08",
         "491289",
         "Cirurgia cardíaca",
         "Fratura óssea",
         "Hospital Sírio-Libanês",
         "Procedimento não invasivo",
         "Eduardo Cassiano",
         "Falha"
        ],
        [
         "Emanuella Macedo",
         "2020-12-03",
         "969448",
         "Cirurgia ortopédica",
         "Fratura óssea",
         "Hospital Albert Einstein",
         "Procedimento não invasivo",
         "Thiago Porto",
         "Complicações"
        ],
        [
         "Sarah Dias",
         "2020-10-04",
         "241438",
         "Cirurgia cardíaca",
         "Queimadura",
         "Hospital do Coração",
         "Procedimento invasivo",
         "Danilo Pinto",
         "Complicações"
        ],
        [
         "Dra. Kamilly Ramos",
         "2022-07-17",
         "371160",
         "Cirurgia plástica",
         "Tumor cerebral",
         "Hospital São Paulo",
         "Procedimento invasivo",
         "Luiza Fonseca",
         "Falha"
        ],
        [
         "Ana Vitória Ferreira",
         "2022-06-11",
         "656760",
         "Cirurgia neurológica",
         "Doença cardíaca",
         "Hospital das Clínicas",
         "Procedimento não invasivo",
         "Laura Pimenta",
         "Complicações"
        ],
        [
         "Lucas Farias",
         "2022-05-27",
         "348119",
         "Cirurgia ortopédica",
         "Tumor cerebral",
         "Hospital São Paulo",
         "Procedimento não invasivo",
         "Miguel Aparecida",
         "Complicações"
        ],
        [
         "Nicolas Nascimento",
         "2024-11-02",
         "797646",
         "Cirurgia plástica",
         "Queimadura",
         "Hospital Albert Einstein",
         "Procedimento não invasivo",
         "Stella da Mata",
         "Falha"
        ],
        [
         "Luigi Machado",
         "2020-11-21",
         "467684",
         "Cirurgia ortopédica",
         "Fratura óssea",
         "Hospital Sírio-Libanês",
         "Procedimento não invasivo",
         "Jade Rios",
         "Complicações"
        ],
        [
         "Sr. Oliver Garcia",
         "2023-01-24",
         "919367",
         "Cirurgia ortopédica",
         "Doença pulmonar",
         "Hospital São Paulo",
         "Procedimento invasivo",
         "Bruno Pires",
         "Sucesso"
        ],
        [
         "Sr. Ravi Lucca Ramos",
         "2024-11-11",
         "176226",
         "Cirurgia neurológica",
         "Fratura óssea",
         "Hospital Sírio-Libanês",
         "Procedimento não invasivo",
         "Rebeca da Rocha",
         "Complicações"
        ],
        [
         "Emanuelly Sampaio",
         "2024-02-02",
         "841691",
         "Cirurgia plástica",
         "Queimadura",
         "Hospital São Paulo",
         "Procedimento não invasivo",
         "Henrique Nascimento",
         "Sucesso"
        ],
        [
         "Isabelly Melo",
         "2023-05-13",
         "612475",
         "Cirurgia ortopédica",
         "Queimadura",
         "Hospital das Clínicas",
         "Procedimento invasivo",
         "Júlia Sousa",
         "Sucesso"
        ],
        [
         "Ravi Lucca Martins",
         "2020-06-24",
         "997100",
         "Cirurgia torácica",
         "Doença pulmonar",
         "Hospital Sírio-Libanês",
         "Procedimento não invasivo",
         "Joaquim Albuquerque",
         "Falha"
        ],
        [
         "Dr. Otto Mendes",
         "2023-06-20",
         "633083",
         "Cirurgia ortopédica",
         "Doença cardíaca",
         "Hospital das Clínicas",
         "Procedimento não invasivo",
         "Leonardo Freitas",
         "Sucesso"
        ],
        [
         "Ana Beatriz Martins",
         "2021-10-21",
         "380690",
         "Cirurgia torácica",
         "Queimadura",
         "Hospital Sírio-Libanês",
         "Procedimento não invasivo",
         "Sophie Ferreira",
         "Complicações"
        ],
        [
         "Pedro Miguel da Rosa",
         "2021-07-21",
         "604187",
         "Cirurgia torácica",
         "Doença pulmonar",
         "Hospital Albert Einstein",
         "Procedimento invasivo",
         "Mathias das Neves",
         "Falha"
        ],
        [
         "Ravy Albuquerque",
         "2024-06-10",
         "730578",
         "Cirurgia plástica",
         "Doença cardíaca",
         "Hospital do Coração",
         "Procedimento não invasivo",
         "Vitor Melo",
         "Complicações"
        ],
        [
         "Maria Alice Brito",
         "2022-01-31",
         "658017",
         "Cirurgia ortopédica",
         "Fratura óssea",
         "Hospital São Paulo",
         "Procedimento invasivo",
         "Dra. Luiza da Rocha",
         "Complicações"
        ],
        [
         "Arthur Miguel Borges",
         "2022-04-20",
         "303609",
         "Cirurgia neurológica",
         "Tumor cerebral",
         "Hospital São Paulo",
         "Procedimento invasivo",
         "Sophie Rodrigues",
         "Falha"
        ],
        [
         "Vicente Ramos",
         "2021-09-04",
         "502940",
         "Cirurgia ortopédica",
         "Doença cardíaca",
         "Hospital do Coração",
         "Procedimento invasivo",
         "Raul Pastor",
         "Complicações"
        ],
        [
         "Isaac Rodrigues",
         "2025-02-11",
         "907204",
         "Cirurgia neurológica",
         "Fratura óssea",
         "Hospital do Coração",
         "Procedimento invasivo",
         "Nicole Camargo",
         "Sucesso"
        ],
        [
         "Dr. Enrico Jesus",
         "2020-11-01",
         "978689",
         "Cirurgia plástica",
         "Queimadura",
         "Hospital São Paulo",
         "Procedimento não invasivo",
         "Raul da Cruz",
         "Complicações"
        ],
        [
         "Murilo Mendonça",
         "2025-02-10",
         "359013",
         "Cirurgia cardíaca",
         "Doença pulmonar",
         "Hospital das Clínicas",
         "Procedimento não invasivo",
         "Calebe Jesus",
         "Sucesso"
        ],
        [
         "Dr. Rodrigo Novaes",
         "2025-02-04",
         "708533",
         "Cirurgia torácica",
         "Doença cardíaca",
         "Hospital Albert Einstein",
         "Procedimento não invasivo",
         "Srta. Isabella Casa Grande",
         "Sucesso"
        ],
        [
         "Léo Gomes",
         "2022-01-22",
         "417707",
         "Cirurgia ortopédica",
         "Fratura óssea",
         "Hospital das Clínicas",
         "Procedimento invasivo",
         "Oliver Mendonça",
         "Sucesso"
        ],
        [
         "João Felipe Nunes",
         "2022-12-08",
         "129350",
         "Cirurgia torácica",
         "Tumor cerebral",
         "Hospital das Clínicas",
         "Procedimento não invasivo",
         "Ana Vitória da Conceição",
         "Sucesso"
        ],
        [
         "Brayan Silveira",
         "2023-01-27",
         "792986",
         "Cirurgia ortopédica",
         "Doença pulmonar",
         "Hospital São Paulo",
         "Procedimento invasivo",
         "Erick Novaes",
         "Complicações"
        ],
        [
         "Dra. Alexia Fogaça",
         "2023-02-03",
         "124798",
         "Cirurgia torácica",
         "Tumor cerebral",
         "Hospital Albert Einstein",
         "Procedimento não invasivo",
         "Caleb Aragão",
         "Complicações"
        ],
        [
         "Sr. João Felipe Brito",
         "2022-01-08",
         "773408",
         "Cirurgia torácica",
         "Doença pulmonar",
         "Hospital Sírio-Libanês",
         "Procedimento invasivo",
         "Yago Moura",
         "Sucesso"
        ],
        [
         "Ísis Ramos",
         "2023-04-30",
         "811804",
         "Cirurgia neurológica",
         "Doença cardíaca",
         "Hospital das Clínicas",
         "Procedimento invasivo",
         "Isabella Farias",
         "Sucesso"
        ],
        [
         "Maria Laura da Cunha",
         "2023-03-17",
         "355511",
         "Cirurgia cardíaca",
         "Fratura óssea",
         "Hospital do Coração",
         "Procedimento invasivo",
         "Kamilly da Costa",
         "Sucesso"
        ],
        [
         "Sr. Ravi Casa Grande",
         "2022-08-15",
         "834347",
         "Cirurgia cardíaca",
         "Doença cardíaca",
         "Hospital São Paulo",
         "Procedimento invasivo",
         "Eduardo Melo",
         "Complicações"
        ],
        [
         "Pedro Miguel Teixeira",
         "2021-03-20",
         "124244",
         "Cirurgia cardíaca",
         "Queimadura",
         "Hospital Sírio-Libanês",
         "Procedimento invasivo",
         "Marcos Vinicius Rezende",
         "Falha"
        ],
        [
         "Sra. Letícia Araújo",
         "2022-01-19",
         "624653",
         "Cirurgia ortopédica",
         "Doença cardíaca",
         "Hospital Albert Einstein",
         "Procedimento não invasivo",
         "Elisa Casa Grande",
         "Falha"
        ],
        [
         "Caleb Machado",
         "2022-05-09",
         "301206",
         "Cirurgia cardíaca",
         "Tumor cerebral",
         "Hospital Albert Einstein",
         "Procedimento invasivo",
         "Erick Rios",
         "Falha"
        ],
        [
         "Dr. José Miguel Guerra",
         "2021-03-18",
         "589693",
         "Cirurgia plástica",
         "Queimadura",
         "Hospital Sírio-Libanês",
         "Procedimento não invasivo",
         "Olivia Rocha",
         "Falha"
        ],
        [
         "Aylla Fonseca",
         "2023-03-21",
         "528872",
         "Cirurgia torácica",
         "Fratura óssea",
         "Hospital das Clínicas",
         "Procedimento não invasivo",
         "Hellena das Neves",
         "Complicações"
        ],
        [
         "Lucca da Cruz",
         "2020-09-07",
         "687375",
         "Cirurgia cardíaca",
         "Doença pulmonar",
         "Hospital do Coração",
         "Procedimento não invasivo",
         "Caleb da Mata",
         "Complicações"
        ],
        [
         "Sr. Anthony Gabriel Fogaça",
         "2022-01-06",
         "692210",
         "Cirurgia plástica",
         "Queimadura",
         "Hospital do Coração",
         "Procedimento não invasivo",
         "Isadora Rocha",
         "Complicações"
        ],
        [
         "João Pedro Oliveira",
         "2023-01-17",
         "701702",
         "Cirurgia cardíaca",
         "Doença cardíaca",
         "Hospital do Coração",
         "Procedimento invasivo",
         "Melina Fernandes",
         "Complicações"
        ],
        [
         "Bruna Sousa",
         "2021-07-17",
         "600554",
         "Cirurgia neurológica",
         "Tumor cerebral",
         "Hospital das Clínicas",
         "Procedimento invasivo",
         "Alana Melo",
         "Falha"
        ],
        [
         "Mateus Cirino",
         "2021-02-25",
         "263507",
         "Cirurgia neurológica",
         "Doença cardíaca",
         "Hospital do Coração",
         "Procedimento invasivo",
         "Gustavo Henrique da Mota",
         "Sucesso"
        ],
        [
         "Stella Rocha",
         "2025-01-21",
         "231378",
         "Cirurgia plástica",
         "Queimadura",
         "Hospital São Paulo",
         "Procedimento não invasivo",
         "Helena Caldeira",
         "Complicações"
        ],
        [
         "Emilly Ribeiro",
         "2023-10-01",
         "918882",
         "Cirurgia torácica",
         "Fratura óssea",
         "Hospital do Coração",
         "Procedimento invasivo",
         "Olívia da Mata",
         "Falha"
        ],
        [
         "Luiz Miguel Andrade",
         "2023-03-03",
         "909705",
         "Cirurgia cardíaca",
         "Doença cardíaca",
         "Hospital das Clínicas",
         "Procedimento não invasivo",
         "Gabrielly Ribeiro",
         "Sucesso"
        ]
       ],
       "datasetInfos": [],
       "dbfsResultPath": null,
       "isJsonSchema": true,
       "metadata": {},
       "overflow": false,
       "plotOptions": {
        "customPlotOptions": {},
        "displayType": "table",
        "pivotAggregation": null,
        "pivotColumns": null,
        "xColumns": null,
        "yColumns": null
       },
       "removedWidgets": [],
       "schema": [
        {
         "metadata": "{}",
         "name": "nome_paciente",
         "type": "\"string\""
        },
        {
         "metadata": "{}",
         "name": "data_cirurgia",
         "type": "\"string\""
        },
        {
         "metadata": "{}",
         "name": "cod_paciente",
         "type": "\"string\""
        },
        {
         "metadata": "{}",
         "name": "tipo_cirurgia",
         "type": "\"string\""
        },
        {
         "metadata": "{}",
         "name": "doenca",
         "type": "\"string\""
        },
        {
         "metadata": "{}",
         "name": "hospital",
         "type": "\"string\""
        },
        {
         "metadata": "{}",
         "name": "tipo_procedimento",
         "type": "\"string\""
        },
        {
         "metadata": "{}",
         "name": "nome_medico",
         "type": "\"string\""
        },
        {
         "metadata": "{}",
         "name": "resultado_cirurgia",
         "type": "\"string\""
        }
       ],
       "type": "table"
      }
     },
     "output_type": "display_data"
    },
    {
     "output_type": "stream",
     "name": "stdout",
     "output_type": "stream",
     "text": [
      "Exames - Silver:\n"
     ]
    },
    {
     "output_type": "display_data",
     "data": {
      "text/html": [
       "<style scoped>\n",
       "  .table-result-container {\n",
       "    max-height: 300px;\n",
       "    overflow: auto;\n",
       "  }\n",
       "  table, th, td {\n",
       "    border: 1px solid black;\n",
       "    border-collapse: collapse;\n",
       "  }\n",
       "  th, td {\n",
       "    padding: 5px;\n",
       "  }\n",
       "  th {\n",
       "    text-align: left;\n",
       "  }\n",
       "</style><div class='table-result-container'><table class='table-result'><thead style='background-color: white'><tr><th>exame_id</th><th>paciente_id</th><th>nome_paciente</th><th>nome_exame</th><th>data_realizacao</th><th>solicitante</th><th>localidade</th><th>especialidade_solicitante</th></tr></thead><tbody><tr><td>545c41de-d297-41b4-a429-84fd052cb8bb</td><td>dcc3dd51-60a2-47cf-8a56-4de21f6af200</td><td>Pedro Lucas Abreu</td><td>veniam</td><td>2024-03-21</td><td>Nicole Almeida</td><td>Guerra</td><td>necessitatibus</td></tr><tr><td>5e808b6d-df45-4d75-9ed7-ceb322127915</td><td>058fe562-c221-4210-821f-5a48b7ced8d4</td><td>Raquel Pacheco</td><td>dolor</td><td>2020-07-18</td><td>Isabelly Fernandes</td><td>Rios</td><td>suscipit</td></tr><tr><td>994e5797-88dc-485a-af62-bfe1407ba1c7</td><td>3f5756f9-d00c-4248-bd91-8c8b6edfa290</td><td>Dr. Caio Silveira</td><td>nam</td><td>2023-03-20</td><td>Ísis Montenegro</td><td>Jesus</td><td>odit</td></tr><tr><td>23384a8b-d852-4880-8487-9c4412cc2d6f</td><td>4d2bcb72-6251-4e08-9f06-ebac80402304</td><td>João Vitor Fernandes</td><td>voluptatem</td><td>2024-09-02</td><td>Bruno Guerra</td><td>Moraes</td><td>possimus</td></tr><tr><td>bb364ec8-de4a-4674-b98b-6c34e244e8b5</td><td>b8ef1a3c-20d2-4672-958f-9d64a7ff2c07</td><td>Luigi Nogueira</td><td>delectus</td><td>2022-09-06</td><td>Raquel Pacheco</td><td>Fonseca</td><td>sed</td></tr><tr><td>32c593bf-7919-4808-8a8d-b94333074b0c</td><td>b2350800-fd4f-49b8-b97b-bb0fbed80c64</td><td>Marina das Neves</td><td>dignissimos</td><td>2024-01-29</td><td>Sra. Isabella Peixoto</td><td>Cirino de Lopes</td><td>reprehenderit</td></tr><tr><td>4d817b7f-bb95-4ca1-a6eb-ca8d48187c29</td><td>361ad41d-d355-4e27-84d2-6d619e6bbeb1</td><td>João Felipe Viana</td><td>labore</td><td>2024-04-12</td><td>Júlia da Costa</td><td>Moura de Cunha</td><td>eveniet</td></tr><tr><td>3c66a4e4-9454-4421-bc7b-8470ddd9740a</td><td>b3763d53-2add-4ac0-af9d-70848e848df1</td><td>Hellena Cirino</td><td>explicabo</td><td>2025-04-23</td><td>Heitor Guerra</td><td>Macedo do Campo</td><td>voluptatem</td></tr><tr><td>b969a170-5785-44e1-845e-88427386abbe</td><td>1b69fadc-568e-49af-80ef-b36d4fb52d8c</td><td>Melina da Rosa</td><td>recusandae</td><td>2025-01-16</td><td>Sr. Yago Gonçalves</td><td>Vasconcelos Alegre</td><td>vel</td></tr><tr><td>419c519d-6439-4720-ac80-d1f32eabfc56</td><td>ef7b7fb2-1ce2-4f3c-8bc3-ba0508adb82b</td><td>Sr. Lorenzo Araújo</td><td>saepe</td><td>2022-06-20</td><td>Camila Cavalcanti</td><td>Pimenta</td><td>dolore</td></tr><tr><td>46c51353-74e9-4722-8b3d-6cab6e468f67</td><td>894cd33b-71e2-4c2e-8c2b-d30d59c47ac3</td><td>Sra. Vitória Vargas</td><td>eum</td><td>2024-01-09</td><td>Alexia da Luz</td><td>da Cruz de Minas</td><td>fugit</td></tr><tr><td>d4e6a238-4401-415e-9cdb-f690da75bc6c</td><td>428d3a6e-b3fb-4db2-a51d-9dc6ce90255b</td><td>Dr. João Souza</td><td>possimus</td><td>2024-01-02</td><td>Maria Helena Albuquerque</td><td>Azevedo</td><td>dicta</td></tr><tr><td>4c774eb5-b0a2-4f99-8ec4-fb1b92e1b824</td><td>4b461b7e-68df-4735-ae4b-77ef47de6c37</td><td>Dr. Gael Caldeira</td><td>ipsum</td><td>2022-07-14</td><td>Lorena Pacheco</td><td>Silveira</td><td>minima</td></tr><tr><td>05f0f073-f68d-4387-adad-31fd4db9afb3</td><td>817df9db-1f8b-4b33-bb2e-a1cfe0783f6d</td><td>Bianca Cavalcanti</td><td>suscipit</td><td>2021-03-28</td><td>Stephany Silveira</td><td>Correia</td><td>natus</td></tr><tr><td>b6a47608-02aa-4257-bf37-1a3c598fdd44</td><td>f974fc64-29c6-4ccc-8921-268e9c2043b8</td><td>Carlos Eduardo Montenegro</td><td>eveniet</td><td>2022-06-10</td><td>Sr. Anthony Gabriel Rocha</td><td>Azevedo Verde</td><td>dolorem</td></tr><tr><td>713b69a4-712f-4924-afe4-1f7d4afb3bf5</td><td>63fb0fdd-cf57-412b-9e55-5a59d4178492</td><td>Giovanna Vieira</td><td>dolorum</td><td>2021-06-11</td><td>Alexia Sampaio</td><td>Macedo de Minas</td><td>libero</td></tr><tr><td>9508c984-3159-4cfe-98b0-a48449f77848</td><td>418e8594-68a9-4791-9422-fdf95ec3daa8</td><td>Nina Gomes</td><td>iusto</td><td>2021-08-25</td><td>Sr. Marcos Vinicius Almeida</td><td>Camargo do Amparo</td><td>alias</td></tr><tr><td>6a0f0c6a-fda1-41ba-ad14-2e0b6671dbf8</td><td>39d2f58b-1717-4a92-a91f-a2500b8accb8</td><td>Emanuel Ramos</td><td>magni</td><td>2021-09-05</td><td>Vitória das Neves</td><td>Borges</td><td>et</td></tr><tr><td>1d1f3ef2-c5be-4557-aa27-1be519411450</td><td>ec6c912f-a507-4be2-b037-316e47a73a7d</td><td>Alice Ferreira</td><td>voluptatibus</td><td>2023-09-29</td><td>Eloá Duarte</td><td>Gonçalves de Goiás</td><td>nisi</td></tr><tr><td>c4947bc6-2e7a-442f-b2c4-33e6e37eae8c</td><td>f834cb87-97b7-443f-958b-db7de2bc01d1</td><td>Dra. Larissa da Cunha</td><td>non</td><td>2020-09-02</td><td>Emanuelly Araújo</td><td>da Luz Verde</td><td>eos</td></tr><tr><td>2c0de524-1acc-44e4-815d-de1462b17395</td><td>382792a2-55dd-4e2c-ad20-3b3bcc5eee49</td><td>Davi Miguel Vasconcelos</td><td>tenetur</td><td>2020-05-28</td><td>Lorenzo Cunha</td><td>Novaes</td><td>aliquid</td></tr><tr><td>4db59f52-12a1-4bc1-b56f-9e399e779348</td><td>e68e0906-ab6a-421c-9958-7c827e1f8042</td><td>Isadora Pereira</td><td>id</td><td>2024-02-14</td><td>Olivia Moura</td><td>Ramos das Flores</td><td>quidem</td></tr><tr><td>a8b20c7c-c0ad-49c2-8f16-6c8e4ed59a11</td><td>030d0912-a3f2-4608-89c8-7edba25be524</td><td>Agatha Rodrigues</td><td>tempore</td><td>2023-08-07</td><td>Dr. Vinicius Fernandes</td><td>Mendonça da Prata</td><td>quia</td></tr><tr><td>e79f1bc3-a155-4a59-9491-137b982f009d</td><td>cb5ff13f-d087-48cc-ab5e-1410e127cadd</td><td>Alana Rocha</td><td>dolorum</td><td>2021-01-11</td><td>Sr. Eduardo Campos</td><td>Abreu de Silva</td><td>perferendis</td></tr><tr><td>8403312a-83c4-420a-863e-2dada4118bc0</td><td>c5396a36-855c-4a9f-8d50-d480781279ef</td><td>Maria Helena Nascimento</td><td>tempora</td><td>2020-05-21</td><td>Amanda Rodrigues</td><td>Silva de Lima</td><td>impedit</td></tr><tr><td>37d35ca8-1f6d-48af-8b26-9e8ee2887f9c</td><td>d188ca5d-e56d-495e-a1fb-2edd031682a6</td><td>Henry Gabriel Mendes</td><td>id</td><td>2024-12-05</td><td>Sra. Ísis Correia</td><td>Mendonça</td><td>aperiam</td></tr><tr><td>db21f5c8-3259-4184-8a1e-f5fd88214bef</td><td>621a735d-b757-4b9c-97a4-9b37b115e7c2</td><td>Maria Laura Fogaça</td><td>quisquam</td><td>2023-12-16</td><td>Luna Rocha</td><td>Fernandes</td><td>quam</td></tr><tr><td>4ff79f4a-502b-4745-8601-a1d7dcbd0839</td><td>7691779a-d38f-49f1-ab33-11b2e518602d</td><td>Beatriz Rezende</td><td>corrupti</td><td>2021-01-31</td><td>Dr. Thiago Sá</td><td>Moraes da Mata</td><td>asperiores</td></tr><tr><td>638fb29b-5e5c-4b88-aa73-33c549dc6849</td><td>12493383-52e1-41d3-83c6-692297975491</td><td>Henry da Cruz</td><td>recusandae</td><td>2021-09-04</td><td>João Macedo</td><td>Porto</td><td>libero</td></tr><tr><td>0b0eae81-9082-4bc8-983f-0c7a16cd6fab</td><td>ed8dd2d4-fb63-4f37-86be-56447459e346</td><td>Fernanda Pinto</td><td>saepe</td><td>2024-09-11</td><td>Brenda Ferreira</td><td>Moreira</td><td>consequatur</td></tr><tr><td>46fc729e-b7af-49d6-9eca-50be8c3ad4b8</td><td>63b30c6b-99e0-4f2a-99d6-cb9a38069480</td><td>Diego Novais</td><td>tempore</td><td>2023-06-03</td><td>Dra. Ana Liz Vargas</td><td>Silva</td><td>deserunt</td></tr><tr><td>a5907882-cb4c-47a6-bdd9-abb91277747c</td><td>4bd7622c-dbff-47ae-85fd-63286a69ad15</td><td>Juliana Martins</td><td>mollitia</td><td>2024-07-21</td><td>Anna Liz da Luz</td><td>Carvalho</td><td>repellendus</td></tr><tr><td>4c33bab9-169c-461e-9d12-a3326dac7f9b</td><td>f20797fa-23f6-47f0-8edf-9d25cd87aae8</td><td>Isaque Pires</td><td>vitae</td><td>2022-09-26</td><td>Heitor Mendonça</td><td>Leão dos Dourados</td><td>facilis</td></tr><tr><td>47c0519d-31f2-4a77-b5a0-ef676904c5aa</td><td>0e2ff369-6310-4952-bbe7-dbcf704be777</td><td>Sarah Novais</td><td>corporis</td><td>2021-05-28</td><td>Maria Vitória da Paz</td><td>Albuquerque</td><td>tempora</td></tr><tr><td>661bb29f-f211-4b7c-8e0e-ef3c78b14eac</td><td>9b897037-2e61-4b35-b271-8fbe9cc10c5a</td><td>Maria Isis Pinto</td><td>pariatur</td><td>2021-08-24</td><td>Marina Pacheco</td><td>Moreira</td><td>mollitia</td></tr><tr><td>068859dc-4535-4914-84db-29be19072f38</td><td>411b7e4e-132b-4443-a399-9740b3e88d9a</td><td>Natália Pereira</td><td>natus</td><td>2023-05-01</td><td>Olívia Casa Grande</td><td>Pinto do Sul</td><td>rerum</td></tr><tr><td>95f41fe6-e029-4498-959e-69731b9e2918</td><td>7516a104-abc3-419f-9610-8376e182e40f</td><td>Theo Mendonça</td><td>ab</td><td>2022-12-12</td><td>João Felipe Novais</td><td>Pires do Amparo</td><td>exercitationem</td></tr><tr><td>566dfee2-369d-4dd7-9b4a-e0724dae35c1</td><td>3247f8c0-1e82-4971-b014-c74d2ea27d27</td><td>José Melo</td><td>culpa</td><td>2021-09-07</td><td>Lavínia Nogueira</td><td>Peixoto Verde</td><td>odio</td></tr><tr><td>c1da1ee3-c7f5-4d4e-aa6f-9e27b027bcf3</td><td>d70bef66-cde9-4739-97fd-8f4234c84a6b</td><td>João Felipe Nunes</td><td>illo</td><td>2023-08-18</td><td>Alexia Sampaio</td><td>Mendes</td><td>fugiat</td></tr><tr><td>accb4580-1505-4569-beda-633f17432355</td><td>17582674-c913-4849-96c9-a56a629a26d2</td><td>Levi Leão</td><td>praesentium</td><td>2020-12-15</td><td>Ana Luiza Dias</td><td>Pastor</td><td>nobis</td></tr><tr><td>3485f5a1-e450-4d09-88d4-2d40e92bc76b</td><td>a2ed7818-8d4e-474f-9635-c07954a3c0a9</td><td>Srta. Isabel Borges</td><td>inventore</td><td>2022-09-26</td><td>Dr. Benício Macedo</td><td>Melo</td><td>repellat</td></tr><tr><td>0d45fae2-44c8-46ac-8b85-5f9531119d6d</td><td>b2e90b45-da71-4134-8539-194839a12833</td><td>Dante Araújo</td><td>ullam</td><td>2022-12-23</td><td>Larissa da Conceição</td><td>da Rocha das Flores</td><td>aspernatur</td></tr><tr><td>67f46acf-904a-40e0-9517-8640722b6338</td><td>c461ed03-4167-4636-8244-1109fae5a595</td><td>Sophia da Costa</td><td>earum</td><td>2023-04-08</td><td>Allana Vasconcelos</td><td>Costela Paulista</td><td>aliquam</td></tr><tr><td>2e64edab-6c86-4cd2-9c19-35b5fd48a45d</td><td>9940fe54-85ae-413d-a82a-01efd792c74c</td><td>Isabella Monteiro</td><td>at</td><td>2020-07-18</td><td>Gabriel Rodrigues</td><td>Rezende dos Dourados</td><td>dolore</td></tr><tr><td>9e41b2b9-0fd7-4cc1-b199-bec9dbd2474c</td><td>65487894-3638-4ac8-9939-a8160c169fed</td><td>Liz da Rosa</td><td>illo</td><td>2020-12-13</td><td>Gabriela da Rocha</td><td>da Rosa Verde</td><td>dolorem</td></tr><tr><td>6d8416ed-1263-43cc-8bcb-51e0574a58a8</td><td>672e0756-8b8c-4714-b45a-a8cb5011dc2f</td><td>Clara Garcia</td><td>enim</td><td>2021-02-23</td><td>Leandro Mendes</td><td>Freitas de Goiás</td><td>hic</td></tr><tr><td>2b94850d-3684-40c3-a963-c4136c112c8b</td><td>c756d9cd-f989-4849-9bed-2a2294bceca9</td><td>Nina Rodrigues</td><td>sint</td><td>2022-10-28</td><td>Alice Dias</td><td>Carvalho de Garcia</td><td>nihil</td></tr><tr><td>ce787b47-2a10-46d2-bc6d-e34f3387122c</td><td>a74eea41-dfd4-4f89-9cc7-33d2bb0040b8</td><td>Sr. Leonardo Campos</td><td>magnam</td><td>2023-05-23</td><td>Dr. Josué Moraes</td><td>Pinto</td><td>fugit</td></tr><tr><td>58d1fd8f-2ca2-4064-a571-b0be8272e705</td><td>9a51acfa-076c-4e6e-98bb-cf63792b5d54</td><td>Leandro Costa</td><td>fuga</td><td>2024-08-23</td><td>Maitê Borges</td><td>Pinto</td><td>iure</td></tr><tr><td>9d046f1f-6ab6-4df8-b464-aa4eb5569885</td><td>a65d7181-cc40-48be-ae9f-0b70079f7a34</td><td>Benjamim Ferreira</td><td>perferendis</td><td>2022-11-18</td><td>Zoe Pacheco</td><td>Cavalcanti do Campo</td><td>voluptatibus</td></tr><tr><td>9b7603a4-eb1f-4663-a6de-4a520c627bac</td><td>8ec88710-7874-47e3-a5b5-3523964380ab</td><td>Sr. Fernando Rodrigues</td><td>eaque</td><td>2021-02-27</td><td>Sophia Cavalcanti</td><td>Araújo</td><td>quos</td></tr><tr><td>8e7a8f04-0e5c-4b7a-9c8c-182612b31e16</td><td>45b6b7b6-168b-4e9c-a407-85a2fac34555</td><td>Maitê Souza</td><td>quod</td><td>2022-12-15</td><td>Pietra Fogaça</td><td>Gonçalves</td><td>numquam</td></tr><tr><td>1e42660b-4992-4d0f-a4de-4630b252896b</td><td>9f25bcd6-f5de-43c2-9801-2acc29df4763</td><td>João Gabriel da Paz</td><td>qui</td><td>2023-04-29</td><td>Sr. Gabriel Barbosa</td><td>Fonseca</td><td>architecto</td></tr><tr><td>439f2362-843b-4bb2-a730-f9062faaafdb</td><td>2dc16680-c6f2-4aa0-b458-fc1d7004846a</td><td>Miguel Moreira</td><td>ratione</td><td>2022-04-27</td><td>Ravy da Paz</td><td>Novaes</td><td>fuga</td></tr><tr><td>8ebeb9d4-7761-4057-ac27-d0361a89af15</td><td>a13eda97-5454-4096-abd0-6e885b015e52</td><td>Sr. Nathan Cavalcanti</td><td>quidem</td><td>2022-01-09</td><td>Laís Costa</td><td>Gomes do Campo</td><td>quo</td></tr><tr><td>f2d47855-c123-4f8c-8b8a-60a815c7126e</td><td>8bcc52c3-06a2-464d-9428-419bb98d0d2f</td><td>Alexia Duarte</td><td>distinctio</td><td>2022-10-01</td><td>Vicente Freitas</td><td>da Conceição</td><td>minus</td></tr><tr><td>5371245f-1126-48a9-a1e5-cb8f37b4950b</td><td>b797703e-4173-438a-ad83-04b57a20591a</td><td>Srta. Laís Caldeira</td><td>iste</td><td>2020-07-15</td><td>Sr. Yuri Novaes</td><td>Abreu da Serra</td><td>sit</td></tr><tr><td>4e5eb999-b11b-4116-be98-585b9a194ecc</td><td>2bb30a9c-7417-4003-af8a-4fcb3cc0a231</td><td>Bernardo Correia</td><td>qui</td><td>2021-08-17</td><td>Miguel Caldeira</td><td>Novais de Goiás</td><td>corporis</td></tr><tr><td>8b790c60-74b6-458c-b2d1-317f955aeed9</td><td>37979a04-ed4a-45cb-aa69-1c689731a221</td><td>Sabrina Montenegro</td><td>ipsa</td><td>2022-08-12</td><td>Vitor Fernandes</td><td>Abreu da Prata</td><td>saepe</td></tr><tr><td>85184b78-8d4e-48d1-a817-9e3d529a945b</td><td>af8e2385-9199-4725-a88e-949b67da264a</td><td>Isabel Mendonça</td><td>nihil</td><td>2023-03-04</td><td>Davi Miguel Moura</td><td>da Mata Paulista</td><td>ipsam</td></tr><tr><td>5cb0a4a0-82df-4e9d-8d01-ab0aa70ab0f1</td><td>c2ff834b-cc30-4dbb-9605-69ad7843d61b</td><td>Maitê Guerra</td><td>non</td><td>2025-01-07</td><td>Pietra Ferreira</td><td>Barbosa da Prata</td><td>reprehenderit</td></tr><tr><td>37175912-62d1-4b1a-9037-8a6fcf5aa5eb</td><td>171975d6-a5d1-43ee-b05c-b9b8d4b694dc</td><td>Sr. Isaque da Luz</td><td>est</td><td>2021-02-25</td><td>Jade Nascimento</td><td>Ramos do Amparo</td><td>ex</td></tr><tr><td>b7908078-bc56-4bf8-ade2-a791aee87d18</td><td>edc3c9b8-c092-4168-8e53-fb73f6ff027a</td><td>Maria Cecília Cassiano</td><td>ex</td><td>2024-07-03</td><td>Isaac da Mota</td><td>Vargas</td><td>voluptate</td></tr><tr><td>9f372f00-d6cb-4f71-8f6d-6a613325d966</td><td>bb17ab35-17e4-4b0c-862c-1cbe3f9798b4</td><td>Liam Cassiano</td><td>voluptatibus</td><td>2022-10-04</td><td>Thales Porto</td><td>Mendonça</td><td>pariatur</td></tr><tr><td>4fa77da9-b1d4-4412-8ce3-197c2e9e5db3</td><td>5a39ce54-4841-4c78-9e22-c40f538f6c20</td><td>Eduardo Costela</td><td>doloribus</td><td>2020-11-14</td><td>Luna Oliveira</td><td>Araújo Alegre</td><td>dolor</td></tr><tr><td>590cee2a-1d55-4361-af80-5fe7a60dbd39</td><td>39ccb81c-029a-4d3b-99bf-259b00a315a5</td><td>Dra. Kamilly Aragão</td><td>maxime</td><td>2024-11-27</td><td>Luara Cirino</td><td>Peixoto</td><td>quas</td></tr><tr><td>0c57e661-4d5a-4f18-b146-f29100dd215b</td><td>020f5f0f-6728-4031-95e4-1a4b7c7b94c9</td><td>Heloisa Costa</td><td>nobis</td><td>2023-03-19</td><td>Isadora Fernandes</td><td>Pires das Pedras</td><td>quas</td></tr><tr><td>1fd0697e-33ca-40b6-b2e7-c026b18fce5d</td><td>3aa5b57d-a687-4a5b-9229-8a73bbf0ec07</td><td>Ana da Cruz</td><td>voluptatum</td><td>2023-02-21</td><td>Josué Ferreira</td><td>Moraes Paulista</td><td>amet</td></tr><tr><td>68835662-bfd2-472d-833a-eaad49a09288</td><td>e40b9e38-688c-4c1b-a468-15b6e63e7ed2</td><td>Rafaela Barbosa</td><td>aliquid</td><td>2021-08-30</td><td>Isabella Rezende</td><td>Moraes do Galho</td><td>sunt</td></tr><tr><td>7417f10f-5d8b-4f21-ba8d-b80cc0b54968</td><td>a4171730-a9d0-42ef-9820-d1ac7b561a4a</td><td>Srta. Luiza da Cruz</td><td>quibusdam</td><td>2022-07-28</td><td>Bryan Fernandes</td><td>Brito de Gomes</td><td>illo</td></tr><tr><td>36edfb50-ea50-4028-acab-dabf06145bb7</td><td>adffd550-b920-4514-b5d2-e1a7008a62dc</td><td>Luiz Fernando Albuquerque</td><td>libero</td><td>2023-06-15</td><td>Rael Fernandes</td><td>Casa Grande</td><td>reprehenderit</td></tr><tr><td>d7480035-0324-4280-957a-cb77f5d7f28a</td><td>41dbf2cd-eb84-46e3-9377-a7b3006c0c75</td><td>Erick Peixoto</td><td>pariatur</td><td>2025-03-06</td><td>Lorena Nogueira</td><td>Rodrigues de Rocha</td><td>autem</td></tr><tr><td>6e4a5ace-33eb-4a5f-8a2f-cbbae23d4c11</td><td>75646882-5992-442c-b021-9dbb7713f487</td><td>Esther Alves</td><td>voluptatibus</td><td>2024-09-04</td><td>Mateus Macedo</td><td>Camargo do Galho</td><td>magnam</td></tr><tr><td>bd476688-c375-4f70-9ae3-5f094fd30101</td><td>18549643-55bf-4041-b8e8-1323c34e0fd8</td><td>Alícia Azevedo</td><td>quo</td><td>2022-09-11</td><td>Marina Moura</td><td>Barros</td><td>reiciendis</td></tr><tr><td>4fb97bfe-aba6-426b-8268-7903ef08531c</td><td>7371574f-49cb-4473-91b9-0f8bb7a21fbd</td><td>Sr. André da Mota</td><td>odit</td><td>2023-02-06</td><td>Lucas Mendes</td><td>Almeida</td><td>rerum</td></tr><tr><td>258947af-e6a4-4792-9006-ed75857c4f68</td><td>a2928638-1ee9-4161-b68b-ee6a05c1bd75</td><td>Fernando Macedo</td><td>officiis</td><td>2023-03-21</td><td>Eloá Santos</td><td>Rios de Ramos</td><td>et</td></tr><tr><td>35c540dc-0bd7-41cc-9a97-553d8e13869f</td><td>6320d3b6-8df6-4b66-b555-a8b49fb115ee</td><td>Dra. Agatha Monteiro</td><td>necessitatibus</td><td>2024-02-23</td><td>Dra. Emilly Câmara</td><td>Almeida da Prata</td><td>accusantium</td></tr><tr><td>ed6ac47e-b446-4462-b760-0f09a798727a</td><td>085fed29-eff6-4f92-b9b2-004161ed33d3</td><td>Luna Ramos</td><td>tenetur</td><td>2024-02-18</td><td>Theodoro da Costa</td><td>Melo da Praia</td><td>eius</td></tr><tr><td>2a3c5e56-aa54-492a-a096-9557cd02060c</td><td>0b91eaa1-cda9-4bca-94cc-7b1951f92325</td><td>Maria Eduarda Araújo</td><td>velit</td><td>2020-06-29</td><td>Ravi Lucca Mendonça</td><td>Campos</td><td>consectetur</td></tr><tr><td>8631689e-c9fe-4325-854f-0c015b0ef157</td><td>6bfe806d-5e82-4c96-a5ef-90e82eeef25e</td><td>Maya Farias</td><td>repudiandae</td><td>2021-03-23</td><td>Maria Cecília Vieira</td><td>Macedo Alegre</td><td>dicta</td></tr><tr><td>c2b45b9c-3844-4f54-bb3c-11bf85a5b615</td><td>91940168-874e-421f-b142-f2e1adf445b7</td><td>Noah Sousa</td><td>nesciunt</td><td>2023-09-01</td><td>Sra. Isis Cassiano</td><td>Mendonça do Galho</td><td>quidem</td></tr><tr><td>e2d6cc58-606c-4ded-8338-cc01fc67c23f</td><td>e4155c9f-f50b-498a-b08a-5b35cbf5534b</td><td>Rael Rios</td><td>facilis</td><td>2025-01-11</td><td>Maria Helena Viana</td><td>Jesus de Silveira</td><td>dolorem</td></tr><tr><td>23ac764c-133a-42c8-a8c2-4cf86cf01625</td><td>27ba4e82-1419-4b6c-90de-2971516ef16d</td><td>Maria Sophia Martins</td><td>perspiciatis</td><td>2020-08-07</td><td>Dr. Danilo Machado</td><td>Sá de Marques</td><td>iusto</td></tr><tr><td>fa490c10-a267-4265-96ad-eca8909323f4</td><td>983d7158-4835-4a03-9369-02087801fe1d</td><td>Sr. Samuel Abreu</td><td>odio</td><td>2021-11-05</td><td>Arthur Gabriel Lima</td><td>Aparecida de Monteiro</td><td>incidunt</td></tr><tr><td>4f64460b-ff6d-46c0-af83-4ec1521622bf</td><td>dfd4ecf9-417a-4657-b98d-d881b4025507</td><td>Calebe Rocha</td><td>pariatur</td><td>2024-01-19</td><td>Hellena Sá</td><td>Duarte</td><td>qui</td></tr><tr><td>b48804cb-2fa0-494d-8d31-e15a5007b667</td><td>9a9e3fac-c8b9-4376-a9be-ca46657023b7</td><td>Laís Viana</td><td>ut</td><td>2023-03-13</td><td>Vicente Farias</td><td>Cassiano de Minas</td><td>sed</td></tr><tr><td>10f821dc-de6d-4a97-be2f-f0b1aa103743</td><td>1068bcb8-3875-48a4-8860-2f3d7ceadf2d</td><td>Sra. Sophie Aragão</td><td>qui</td><td>2022-05-23</td><td>Maria Eduarda Barros</td><td>Cavalcante</td><td>odio</td></tr><tr><td>9ba823e1-5c67-4daa-b679-b2b933cff76c</td><td>e0fe1cb9-3cba-4e48-9a57-fa6095db5684</td><td>Benjamin Nascimento</td><td>eum</td><td>2020-11-06</td><td>Dr. Valentim Fonseca</td><td>Correia</td><td>neque</td></tr><tr><td>88fa96df-40dd-42f3-b53f-3a749179d29d</td><td>937cc7c9-a22a-4170-bc60-abf0f66fa884</td><td>Srta. Olivia da Cunha</td><td>soluta</td><td>2023-07-05</td><td>Camila Aragão</td><td>Montenegro de Minas</td><td>earum</td></tr><tr><td>dda265f9-e570-47f9-be79-687dff88d9d5</td><td>bee50366-1eeb-4a81-85e1-b1dd20a7821e</td><td>Srta. Ana Luiza Lima</td><td>quidem</td><td>2024-06-06</td><td>Ana Laura Andrade</td><td>Fogaça do Campo</td><td>cum</td></tr><tr><td>d53802e7-6a38-4ba9-858c-d96365d4698b</td><td>430095e8-1108-4edb-84d5-e1c67b0f02bb</td><td>Dr. Augusto Vargas</td><td>velit</td><td>2021-09-30</td><td>Maria Liz Mendes</td><td>Novais</td><td>ratione</td></tr><tr><td>5c087739-bc76-43c2-b1ef-b050a72b7810</td><td>0a2b7714-4cff-4bdc-a3a0-524c479f75df</td><td>Maria Eduarda Pereira</td><td>voluptates</td><td>2022-09-05</td><td>Rafael Pastor</td><td>Fogaça</td><td>atque</td></tr><tr><td>a82b7e9f-e32e-4d01-9857-6a94fddc198b</td><td>882ca2f3-09cc-4649-a34e-f7bb65c390c3</td><td>Eduardo Aragão</td><td>est</td><td>2024-03-15</td><td>Isabella Vargas</td><td>Montenegro</td><td>ducimus</td></tr><tr><td>f2ca949c-841c-4045-b9d0-2bdb69cf2393</td><td>b2ed72b5-b389-4b3a-841f-d2e59aca34b4</td><td>Luiz Otávio Garcia</td><td>expedita</td><td>2022-05-29</td><td>Mariana Andrade</td><td>Brito de da Cunha</td><td>harum</td></tr><tr><td>86039386-03bd-43c7-89c8-088c7c7c88d4</td><td>3f31c533-6694-4cb7-b26f-bd372df46eb0</td><td>Dr. Pedro Lucas Nascimento</td><td>ut</td><td>2021-11-23</td><td>Lucas da Costa</td><td>Correia Alegre</td><td>mollitia</td></tr><tr><td>0062f7ff-0fc2-4e91-85f1-0662cffc998e</td><td>c05745d0-5f14-48ab-b664-af7391df1f4c</td><td>Gael da Cunha</td><td>ad</td><td>2023-04-30</td><td>Isis Cavalcante</td><td>Lima</td><td>voluptas</td></tr><tr><td>e8e5ab58-eefb-4caa-a9ff-89e2e08e0849</td><td>518b5c6b-17a1-43d1-bd79-2a8ffcafa6e7</td><td>João Felipe Fernandes</td><td>mollitia</td><td>2021-12-06</td><td>Srta. Jade Dias</td><td>da Cruz</td><td>enim</td></tr><tr><td>80ae32af-4172-4909-83a0-373daf5210ad</td><td>d1a120e1-cfb7-4311-8e2e-dfa62102816e</td><td>Benício Ribeiro</td><td>delectus</td><td>2020-09-24</td><td>Lucca Gonçalves</td><td>Farias</td><td>similique</td></tr><tr><td>d598491d-4fbd-4db1-9145-9c6d25f3c46f</td><td>62a7fe51-ad77-4a64-87ea-7c039f95586b</td><td>Maya Nascimento</td><td>illum</td><td>2021-12-14</td><td>Maria Sophia Sampaio</td><td>Dias</td><td>nostrum</td></tr><tr><td>b152024f-efa1-4726-a348-0a14297ef72d</td><td>d4d553d9-45f8-4a1a-a2ae-49288f50a711</td><td>Julia da Mota</td><td>eligendi</td><td>2021-02-07</td><td>Daniela Nogueira</td><td>Rodrigues</td><td>error</td></tr></tbody></table></div>"
      ]
     },
     "metadata": {
      "application/vnd.databricks.v1+output": {
       "addedWidgets": {},
       "aggData": [],
       "aggError": "",
       "aggOverflow": false,
       "aggSchema": [],
       "aggSeriesLimitReached": false,
       "aggType": "",
       "arguments": {},
       "columnCustomDisplayInfos": {},
       "data": [
        [
         "545c41de-d297-41b4-a429-84fd052cb8bb",
         "dcc3dd51-60a2-47cf-8a56-4de21f6af200",
         "Pedro Lucas Abreu",
         "veniam",
         "2024-03-21",
         "Nicole Almeida",
         "Guerra",
         "necessitatibus"
        ],
        [
         "5e808b6d-df45-4d75-9ed7-ceb322127915",
         "058fe562-c221-4210-821f-5a48b7ced8d4",
         "Raquel Pacheco",
         "dolor",
         "2020-07-18",
         "Isabelly Fernandes",
         "Rios",
         "suscipit"
        ],
        [
         "994e5797-88dc-485a-af62-bfe1407ba1c7",
         "3f5756f9-d00c-4248-bd91-8c8b6edfa290",
         "Dr. Caio Silveira",
         "nam",
         "2023-03-20",
         "Ísis Montenegro",
         "Jesus",
         "odit"
        ],
        [
         "23384a8b-d852-4880-8487-9c4412cc2d6f",
         "4d2bcb72-6251-4e08-9f06-ebac80402304",
         "João Vitor Fernandes",
         "voluptatem",
         "2024-09-02",
         "Bruno Guerra",
         "Moraes",
         "possimus"
        ],
        [
         "bb364ec8-de4a-4674-b98b-6c34e244e8b5",
         "b8ef1a3c-20d2-4672-958f-9d64a7ff2c07",
         "Luigi Nogueira",
         "delectus",
         "2022-09-06",
         "Raquel Pacheco",
         "Fonseca",
         "sed"
        ],
        [
         "32c593bf-7919-4808-8a8d-b94333074b0c",
         "b2350800-fd4f-49b8-b97b-bb0fbed80c64",
         "Marina das Neves",
         "dignissimos",
         "2024-01-29",
         "Sra. Isabella Peixoto",
         "Cirino de Lopes",
         "reprehenderit"
        ],
        [
         "4d817b7f-bb95-4ca1-a6eb-ca8d48187c29",
         "361ad41d-d355-4e27-84d2-6d619e6bbeb1",
         "João Felipe Viana",
         "labore",
         "2024-04-12",
         "Júlia da Costa",
         "Moura de Cunha",
         "eveniet"
        ],
        [
         "3c66a4e4-9454-4421-bc7b-8470ddd9740a",
         "b3763d53-2add-4ac0-af9d-70848e848df1",
         "Hellena Cirino",
         "explicabo",
         "2025-04-23",
         "Heitor Guerra",
         "Macedo do Campo",
         "voluptatem"
        ],
        [
         "b969a170-5785-44e1-845e-88427386abbe",
         "1b69fadc-568e-49af-80ef-b36d4fb52d8c",
         "Melina da Rosa",
         "recusandae",
         "2025-01-16",
         "Sr. Yago Gonçalves",
         "Vasconcelos Alegre",
         "vel"
        ],
        [
         "419c519d-6439-4720-ac80-d1f32eabfc56",
         "ef7b7fb2-1ce2-4f3c-8bc3-ba0508adb82b",
         "Sr. Lorenzo Araújo",
         "saepe",
         "2022-06-20",
         "Camila Cavalcanti",
         "Pimenta",
         "dolore"
        ],
        [
         "46c51353-74e9-4722-8b3d-6cab6e468f67",
         "894cd33b-71e2-4c2e-8c2b-d30d59c47ac3",
         "Sra. Vitória Vargas",
         "eum",
         "2024-01-09",
         "Alexia da Luz",
         "da Cruz de Minas",
         "fugit"
        ],
        [
         "d4e6a238-4401-415e-9cdb-f690da75bc6c",
         "428d3a6e-b3fb-4db2-a51d-9dc6ce90255b",
         "Dr. João Souza",
         "possimus",
         "2024-01-02",
         "Maria Helena Albuquerque",
         "Azevedo",
         "dicta"
        ],
        [
         "4c774eb5-b0a2-4f99-8ec4-fb1b92e1b824",
         "4b461b7e-68df-4735-ae4b-77ef47de6c37",
         "Dr. Gael Caldeira",
         "ipsum",
         "2022-07-14",
         "Lorena Pacheco",
         "Silveira",
         "minima"
        ],
        [
         "05f0f073-f68d-4387-adad-31fd4db9afb3",
         "817df9db-1f8b-4b33-bb2e-a1cfe0783f6d",
         "Bianca Cavalcanti",
         "suscipit",
         "2021-03-28",
         "Stephany Silveira",
         "Correia",
         "natus"
        ],
        [
         "b6a47608-02aa-4257-bf37-1a3c598fdd44",
         "f974fc64-29c6-4ccc-8921-268e9c2043b8",
         "Carlos Eduardo Montenegro",
         "eveniet",
         "2022-06-10",
         "Sr. Anthony Gabriel Rocha",
         "Azevedo Verde",
         "dolorem"
        ],
        [
         "713b69a4-712f-4924-afe4-1f7d4afb3bf5",
         "63fb0fdd-cf57-412b-9e55-5a59d4178492",
         "Giovanna Vieira",
         "dolorum",
         "2021-06-11",
         "Alexia Sampaio",
         "Macedo de Minas",
         "libero"
        ],
        [
         "9508c984-3159-4cfe-98b0-a48449f77848",
         "418e8594-68a9-4791-9422-fdf95ec3daa8",
         "Nina Gomes",
         "iusto",
         "2021-08-25",
         "Sr. Marcos Vinicius Almeida",
         "Camargo do Amparo",
         "alias"
        ],
        [
         "6a0f0c6a-fda1-41ba-ad14-2e0b6671dbf8",
         "39d2f58b-1717-4a92-a91f-a2500b8accb8",
         "Emanuel Ramos",
         "magni",
         "2021-09-05",
         "Vitória das Neves",
         "Borges",
         "et"
        ],
        [
         "1d1f3ef2-c5be-4557-aa27-1be519411450",
         "ec6c912f-a507-4be2-b037-316e47a73a7d",
         "Alice Ferreira",
         "voluptatibus",
         "2023-09-29",
         "Eloá Duarte",
         "Gonçalves de Goiás",
         "nisi"
        ],
        [
         "c4947bc6-2e7a-442f-b2c4-33e6e37eae8c",
         "f834cb87-97b7-443f-958b-db7de2bc01d1",
         "Dra. Larissa da Cunha",
         "non",
         "2020-09-02",
         "Emanuelly Araújo",
         "da Luz Verde",
         "eos"
        ],
        [
         "2c0de524-1acc-44e4-815d-de1462b17395",
         "382792a2-55dd-4e2c-ad20-3b3bcc5eee49",
         "Davi Miguel Vasconcelos",
         "tenetur",
         "2020-05-28",
         "Lorenzo Cunha",
         "Novaes",
         "aliquid"
        ],
        [
         "4db59f52-12a1-4bc1-b56f-9e399e779348",
         "e68e0906-ab6a-421c-9958-7c827e1f8042",
         "Isadora Pereira",
         "id",
         "2024-02-14",
         "Olivia Moura",
         "Ramos das Flores",
         "quidem"
        ],
        [
         "a8b20c7c-c0ad-49c2-8f16-6c8e4ed59a11",
         "030d0912-a3f2-4608-89c8-7edba25be524",
         "Agatha Rodrigues",
         "tempore",
         "2023-08-07",
         "Dr. Vinicius Fernandes",
         "Mendonça da Prata",
         "quia"
        ],
        [
         "e79f1bc3-a155-4a59-9491-137b982f009d",
         "cb5ff13f-d087-48cc-ab5e-1410e127cadd",
         "Alana Rocha",
         "dolorum",
         "2021-01-11",
         "Sr. Eduardo Campos",
         "Abreu de Silva",
         "perferendis"
        ],
        [
         "8403312a-83c4-420a-863e-2dada4118bc0",
         "c5396a36-855c-4a9f-8d50-d480781279ef",
         "Maria Helena Nascimento",
         "tempora",
         "2020-05-21",
         "Amanda Rodrigues",
         "Silva de Lima",
         "impedit"
        ],
        [
         "37d35ca8-1f6d-48af-8b26-9e8ee2887f9c",
         "d188ca5d-e56d-495e-a1fb-2edd031682a6",
         "Henry Gabriel Mendes",
         "id",
         "2024-12-05",
         "Sra. Ísis Correia",
         "Mendonça",
         "aperiam"
        ],
        [
         "db21f5c8-3259-4184-8a1e-f5fd88214bef",
         "621a735d-b757-4b9c-97a4-9b37b115e7c2",
         "Maria Laura Fogaça",
         "quisquam",
         "2023-12-16",
         "Luna Rocha",
         "Fernandes",
         "quam"
        ],
        [
         "4ff79f4a-502b-4745-8601-a1d7dcbd0839",
         "7691779a-d38f-49f1-ab33-11b2e518602d",
         "Beatriz Rezende",
         "corrupti",
         "2021-01-31",
         "Dr. Thiago Sá",
         "Moraes da Mata",
         "asperiores"
        ],
        [
         "638fb29b-5e5c-4b88-aa73-33c549dc6849",
         "12493383-52e1-41d3-83c6-692297975491",
         "Henry da Cruz",
         "recusandae",
         "2021-09-04",
         "João Macedo",
         "Porto",
         "libero"
        ],
        [
         "0b0eae81-9082-4bc8-983f-0c7a16cd6fab",
         "ed8dd2d4-fb63-4f37-86be-56447459e346",
         "Fernanda Pinto",
         "saepe",
         "2024-09-11",
         "Brenda Ferreira",
         "Moreira",
         "consequatur"
        ],
        [
         "46fc729e-b7af-49d6-9eca-50be8c3ad4b8",
         "63b30c6b-99e0-4f2a-99d6-cb9a38069480",
         "Diego Novais",
         "tempore",
         "2023-06-03",
         "Dra. Ana Liz Vargas",
         "Silva",
         "deserunt"
        ],
        [
         "a5907882-cb4c-47a6-bdd9-abb91277747c",
         "4bd7622c-dbff-47ae-85fd-63286a69ad15",
         "Juliana Martins",
         "mollitia",
         "2024-07-21",
         "Anna Liz da Luz",
         "Carvalho",
         "repellendus"
        ],
        [
         "4c33bab9-169c-461e-9d12-a3326dac7f9b",
         "f20797fa-23f6-47f0-8edf-9d25cd87aae8",
         "Isaque Pires",
         "vitae",
         "2022-09-26",
         "Heitor Mendonça",
         "Leão dos Dourados",
         "facilis"
        ],
        [
         "47c0519d-31f2-4a77-b5a0-ef676904c5aa",
         "0e2ff369-6310-4952-bbe7-dbcf704be777",
         "Sarah Novais",
         "corporis",
         "2021-05-28",
         "Maria Vitória da Paz",
         "Albuquerque",
         "tempora"
        ],
        [
         "661bb29f-f211-4b7c-8e0e-ef3c78b14eac",
         "9b897037-2e61-4b35-b271-8fbe9cc10c5a",
         "Maria Isis Pinto",
         "pariatur",
         "2021-08-24",
         "Marina Pacheco",
         "Moreira",
         "mollitia"
        ],
        [
         "068859dc-4535-4914-84db-29be19072f38",
         "411b7e4e-132b-4443-a399-9740b3e88d9a",
         "Natália Pereira",
         "natus",
         "2023-05-01",
         "Olívia Casa Grande",
         "Pinto do Sul",
         "rerum"
        ],
        [
         "95f41fe6-e029-4498-959e-69731b9e2918",
         "7516a104-abc3-419f-9610-8376e182e40f",
         "Theo Mendonça",
         "ab",
         "2022-12-12",
         "João Felipe Novais",
         "Pires do Amparo",
         "exercitationem"
        ],
        [
         "566dfee2-369d-4dd7-9b4a-e0724dae35c1",
         "3247f8c0-1e82-4971-b014-c74d2ea27d27",
         "José Melo",
         "culpa",
         "2021-09-07",
         "Lavínia Nogueira",
         "Peixoto Verde",
         "odio"
        ],
        [
         "c1da1ee3-c7f5-4d4e-aa6f-9e27b027bcf3",
         "d70bef66-cde9-4739-97fd-8f4234c84a6b",
         "João Felipe Nunes",
         "illo",
         "2023-08-18",
         "Alexia Sampaio",
         "Mendes",
         "fugiat"
        ],
        [
         "accb4580-1505-4569-beda-633f17432355",
         "17582674-c913-4849-96c9-a56a629a26d2",
         "Levi Leão",
         "praesentium",
         "2020-12-15",
         "Ana Luiza Dias",
         "Pastor",
         "nobis"
        ],
        [
         "3485f5a1-e450-4d09-88d4-2d40e92bc76b",
         "a2ed7818-8d4e-474f-9635-c07954a3c0a9",
         "Srta. Isabel Borges",
         "inventore",
         "2022-09-26",
         "Dr. Benício Macedo",
         "Melo",
         "repellat"
        ],
        [
         "0d45fae2-44c8-46ac-8b85-5f9531119d6d",
         "b2e90b45-da71-4134-8539-194839a12833",
         "Dante Araújo",
         "ullam",
         "2022-12-23",
         "Larissa da Conceição",
         "da Rocha das Flores",
         "aspernatur"
        ],
        [
         "67f46acf-904a-40e0-9517-8640722b6338",
         "c461ed03-4167-4636-8244-1109fae5a595",
         "Sophia da Costa",
         "earum",
         "2023-04-08",
         "Allana Vasconcelos",
         "Costela Paulista",
         "aliquam"
        ],
        [
         "2e64edab-6c86-4cd2-9c19-35b5fd48a45d",
         "9940fe54-85ae-413d-a82a-01efd792c74c",
         "Isabella Monteiro",
         "at",
         "2020-07-18",
         "Gabriel Rodrigues",
         "Rezende dos Dourados",
         "dolore"
        ],
        [
         "9e41b2b9-0fd7-4cc1-b199-bec9dbd2474c",
         "65487894-3638-4ac8-9939-a8160c169fed",
         "Liz da Rosa",
         "illo",
         "2020-12-13",
         "Gabriela da Rocha",
         "da Rosa Verde",
         "dolorem"
        ],
        [
         "6d8416ed-1263-43cc-8bcb-51e0574a58a8",
         "672e0756-8b8c-4714-b45a-a8cb5011dc2f",
         "Clara Garcia",
         "enim",
         "2021-02-23",
         "Leandro Mendes",
         "Freitas de Goiás",
         "hic"
        ],
        [
         "2b94850d-3684-40c3-a963-c4136c112c8b",
         "c756d9cd-f989-4849-9bed-2a2294bceca9",
         "Nina Rodrigues",
         "sint",
         "2022-10-28",
         "Alice Dias",
         "Carvalho de Garcia",
         "nihil"
        ],
        [
         "ce787b47-2a10-46d2-bc6d-e34f3387122c",
         "a74eea41-dfd4-4f89-9cc7-33d2bb0040b8",
         "Sr. Leonardo Campos",
         "magnam",
         "2023-05-23",
         "Dr. Josué Moraes",
         "Pinto",
         "fugit"
        ],
        [
         "58d1fd8f-2ca2-4064-a571-b0be8272e705",
         "9a51acfa-076c-4e6e-98bb-cf63792b5d54",
         "Leandro Costa",
         "fuga",
         "2024-08-23",
         "Maitê Borges",
         "Pinto",
         "iure"
        ],
        [
         "9d046f1f-6ab6-4df8-b464-aa4eb5569885",
         "a65d7181-cc40-48be-ae9f-0b70079f7a34",
         "Benjamim Ferreira",
         "perferendis",
         "2022-11-18",
         "Zoe Pacheco",
         "Cavalcanti do Campo",
         "voluptatibus"
        ],
        [
         "9b7603a4-eb1f-4663-a6de-4a520c627bac",
         "8ec88710-7874-47e3-a5b5-3523964380ab",
         "Sr. Fernando Rodrigues",
         "eaque",
         "2021-02-27",
         "Sophia Cavalcanti",
         "Araújo",
         "quos"
        ],
        [
         "8e7a8f04-0e5c-4b7a-9c8c-182612b31e16",
         "45b6b7b6-168b-4e9c-a407-85a2fac34555",
         "Maitê Souza",
         "quod",
         "2022-12-15",
         "Pietra Fogaça",
         "Gonçalves",
         "numquam"
        ],
        [
         "1e42660b-4992-4d0f-a4de-4630b252896b",
         "9f25bcd6-f5de-43c2-9801-2acc29df4763",
         "João Gabriel da Paz",
         "qui",
         "2023-04-29",
         "Sr. Gabriel Barbosa",
         "Fonseca",
         "architecto"
        ],
        [
         "439f2362-843b-4bb2-a730-f9062faaafdb",
         "2dc16680-c6f2-4aa0-b458-fc1d7004846a",
         "Miguel Moreira",
         "ratione",
         "2022-04-27",
         "Ravy da Paz",
         "Novaes",
         "fuga"
        ],
        [
         "8ebeb9d4-7761-4057-ac27-d0361a89af15",
         "a13eda97-5454-4096-abd0-6e885b015e52",
         "Sr. Nathan Cavalcanti",
         "quidem",
         "2022-01-09",
         "Laís Costa",
         "Gomes do Campo",
         "quo"
        ],
        [
         "f2d47855-c123-4f8c-8b8a-60a815c7126e",
         "8bcc52c3-06a2-464d-9428-419bb98d0d2f",
         "Alexia Duarte",
         "distinctio",
         "2022-10-01",
         "Vicente Freitas",
         "da Conceição",
         "minus"
        ],
        [
         "5371245f-1126-48a9-a1e5-cb8f37b4950b",
         "b797703e-4173-438a-ad83-04b57a20591a",
         "Srta. Laís Caldeira",
         "iste",
         "2020-07-15",
         "Sr. Yuri Novaes",
         "Abreu da Serra",
         "sit"
        ],
        [
         "4e5eb999-b11b-4116-be98-585b9a194ecc",
         "2bb30a9c-7417-4003-af8a-4fcb3cc0a231",
         "Bernardo Correia",
         "qui",
         "2021-08-17",
         "Miguel Caldeira",
         "Novais de Goiás",
         "corporis"
        ],
        [
         "8b790c60-74b6-458c-b2d1-317f955aeed9",
         "37979a04-ed4a-45cb-aa69-1c689731a221",
         "Sabrina Montenegro",
         "ipsa",
         "2022-08-12",
         "Vitor Fernandes",
         "Abreu da Prata",
         "saepe"
        ],
        [
         "85184b78-8d4e-48d1-a817-9e3d529a945b",
         "af8e2385-9199-4725-a88e-949b67da264a",
         "Isabel Mendonça",
         "nihil",
         "2023-03-04",
         "Davi Miguel Moura",
         "da Mata Paulista",
         "ipsam"
        ],
        [
         "5cb0a4a0-82df-4e9d-8d01-ab0aa70ab0f1",
         "c2ff834b-cc30-4dbb-9605-69ad7843d61b",
         "Maitê Guerra",
         "non",
         "2025-01-07",
         "Pietra Ferreira",
         "Barbosa da Prata",
         "reprehenderit"
        ],
        [
         "37175912-62d1-4b1a-9037-8a6fcf5aa5eb",
         "171975d6-a5d1-43ee-b05c-b9b8d4b694dc",
         "Sr. Isaque da Luz",
         "est",
         "2021-02-25",
         "Jade Nascimento",
         "Ramos do Amparo",
         "ex"
        ],
        [
         "b7908078-bc56-4bf8-ade2-a791aee87d18",
         "edc3c9b8-c092-4168-8e53-fb73f6ff027a",
         "Maria Cecília Cassiano",
         "ex",
         "2024-07-03",
         "Isaac da Mota",
         "Vargas",
         "voluptate"
        ],
        [
         "9f372f00-d6cb-4f71-8f6d-6a613325d966",
         "bb17ab35-17e4-4b0c-862c-1cbe3f9798b4",
         "Liam Cassiano",
         "voluptatibus",
         "2022-10-04",
         "Thales Porto",
         "Mendonça",
         "pariatur"
        ],
        [
         "4fa77da9-b1d4-4412-8ce3-197c2e9e5db3",
         "5a39ce54-4841-4c78-9e22-c40f538f6c20",
         "Eduardo Costela",
         "doloribus",
         "2020-11-14",
         "Luna Oliveira",
         "Araújo Alegre",
         "dolor"
        ],
        [
         "590cee2a-1d55-4361-af80-5fe7a60dbd39",
         "39ccb81c-029a-4d3b-99bf-259b00a315a5",
         "Dra. Kamilly Aragão",
         "maxime",
         "2024-11-27",
         "Luara Cirino",
         "Peixoto",
         "quas"
        ],
        [
         "0c57e661-4d5a-4f18-b146-f29100dd215b",
         "020f5f0f-6728-4031-95e4-1a4b7c7b94c9",
         "Heloisa Costa",
         "nobis",
         "2023-03-19",
         "Isadora Fernandes",
         "Pires das Pedras",
         "quas"
        ],
        [
         "1fd0697e-33ca-40b6-b2e7-c026b18fce5d",
         "3aa5b57d-a687-4a5b-9229-8a73bbf0ec07",
         "Ana da Cruz",
         "voluptatum",
         "2023-02-21",
         "Josué Ferreira",
         "Moraes Paulista",
         "amet"
        ],
        [
         "68835662-bfd2-472d-833a-eaad49a09288",
         "e40b9e38-688c-4c1b-a468-15b6e63e7ed2",
         "Rafaela Barbosa",
         "aliquid",
         "2021-08-30",
         "Isabella Rezende",
         "Moraes do Galho",
         "sunt"
        ],
        [
         "7417f10f-5d8b-4f21-ba8d-b80cc0b54968",
         "a4171730-a9d0-42ef-9820-d1ac7b561a4a",
         "Srta. Luiza da Cruz",
         "quibusdam",
         "2022-07-28",
         "Bryan Fernandes",
         "Brito de Gomes",
         "illo"
        ],
        [
         "36edfb50-ea50-4028-acab-dabf06145bb7",
         "adffd550-b920-4514-b5d2-e1a7008a62dc",
         "Luiz Fernando Albuquerque",
         "libero",
         "2023-06-15",
         "Rael Fernandes",
         "Casa Grande",
         "reprehenderit"
        ],
        [
         "d7480035-0324-4280-957a-cb77f5d7f28a",
         "41dbf2cd-eb84-46e3-9377-a7b3006c0c75",
         "Erick Peixoto",
         "pariatur",
         "2025-03-06",
         "Lorena Nogueira",
         "Rodrigues de Rocha",
         "autem"
        ],
        [
         "6e4a5ace-33eb-4a5f-8a2f-cbbae23d4c11",
         "75646882-5992-442c-b021-9dbb7713f487",
         "Esther Alves",
         "voluptatibus",
         "2024-09-04",
         "Mateus Macedo",
         "Camargo do Galho",
         "magnam"
        ],
        [
         "bd476688-c375-4f70-9ae3-5f094fd30101",
         "18549643-55bf-4041-b8e8-1323c34e0fd8",
         "Alícia Azevedo",
         "quo",
         "2022-09-11",
         "Marina Moura",
         "Barros",
         "reiciendis"
        ],
        [
         "4fb97bfe-aba6-426b-8268-7903ef08531c",
         "7371574f-49cb-4473-91b9-0f8bb7a21fbd",
         "Sr. André da Mota",
         "odit",
         "2023-02-06",
         "Lucas Mendes",
         "Almeida",
         "rerum"
        ],
        [
         "258947af-e6a4-4792-9006-ed75857c4f68",
         "a2928638-1ee9-4161-b68b-ee6a05c1bd75",
         "Fernando Macedo",
         "officiis",
         "2023-03-21",
         "Eloá Santos",
         "Rios de Ramos",
         "et"
        ],
        [
         "35c540dc-0bd7-41cc-9a97-553d8e13869f",
         "6320d3b6-8df6-4b66-b555-a8b49fb115ee",
         "Dra. Agatha Monteiro",
         "necessitatibus",
         "2024-02-23",
         "Dra. Emilly Câmara",
         "Almeida da Prata",
         "accusantium"
        ],
        [
         "ed6ac47e-b446-4462-b760-0f09a798727a",
         "085fed29-eff6-4f92-b9b2-004161ed33d3",
         "Luna Ramos",
         "tenetur",
         "2024-02-18",
         "Theodoro da Costa",
         "Melo da Praia",
         "eius"
        ],
        [
         "2a3c5e56-aa54-492a-a096-9557cd02060c",
         "0b91eaa1-cda9-4bca-94cc-7b1951f92325",
         "Maria Eduarda Araújo",
         "velit",
         "2020-06-29",
         "Ravi Lucca Mendonça",
         "Campos",
         "consectetur"
        ],
        [
         "8631689e-c9fe-4325-854f-0c015b0ef157",
         "6bfe806d-5e82-4c96-a5ef-90e82eeef25e",
         "Maya Farias",
         "repudiandae",
         "2021-03-23",
         "Maria Cecília Vieira",
         "Macedo Alegre",
         "dicta"
        ],
        [
         "c2b45b9c-3844-4f54-bb3c-11bf85a5b615",
         "91940168-874e-421f-b142-f2e1adf445b7",
         "Noah Sousa",
         "nesciunt",
         "2023-09-01",
         "Sra. Isis Cassiano",
         "Mendonça do Galho",
         "quidem"
        ],
        [
         "e2d6cc58-606c-4ded-8338-cc01fc67c23f",
         "e4155c9f-f50b-498a-b08a-5b35cbf5534b",
         "Rael Rios",
         "facilis",
         "2025-01-11",
         "Maria Helena Viana",
         "Jesus de Silveira",
         "dolorem"
        ],
        [
         "23ac764c-133a-42c8-a8c2-4cf86cf01625",
         "27ba4e82-1419-4b6c-90de-2971516ef16d",
         "Maria Sophia Martins",
         "perspiciatis",
         "2020-08-07",
         "Dr. Danilo Machado",
         "Sá de Marques",
         "iusto"
        ],
        [
         "fa490c10-a267-4265-96ad-eca8909323f4",
         "983d7158-4835-4a03-9369-02087801fe1d",
         "Sr. Samuel Abreu",
         "odio",
         "2021-11-05",
         "Arthur Gabriel Lima",
         "Aparecida de Monteiro",
         "incidunt"
        ],
        [
         "4f64460b-ff6d-46c0-af83-4ec1521622bf",
         "dfd4ecf9-417a-4657-b98d-d881b4025507",
         "Calebe Rocha",
         "pariatur",
         "2024-01-19",
         "Hellena Sá",
         "Duarte",
         "qui"
        ],
        [
         "b48804cb-2fa0-494d-8d31-e15a5007b667",
         "9a9e3fac-c8b9-4376-a9be-ca46657023b7",
         "Laís Viana",
         "ut",
         "2023-03-13",
         "Vicente Farias",
         "Cassiano de Minas",
         "sed"
        ],
        [
         "10f821dc-de6d-4a97-be2f-f0b1aa103743",
         "1068bcb8-3875-48a4-8860-2f3d7ceadf2d",
         "Sra. Sophie Aragão",
         "qui",
         "2022-05-23",
         "Maria Eduarda Barros",
         "Cavalcante",
         "odio"
        ],
        [
         "9ba823e1-5c67-4daa-b679-b2b933cff76c",
         "e0fe1cb9-3cba-4e48-9a57-fa6095db5684",
         "Benjamin Nascimento",
         "eum",
         "2020-11-06",
         "Dr. Valentim Fonseca",
         "Correia",
         "neque"
        ],
        [
         "88fa96df-40dd-42f3-b53f-3a749179d29d",
         "937cc7c9-a22a-4170-bc60-abf0f66fa884",
         "Srta. Olivia da Cunha",
         "soluta",
         "2023-07-05",
         "Camila Aragão",
         "Montenegro de Minas",
         "earum"
        ],
        [
         "dda265f9-e570-47f9-be79-687dff88d9d5",
         "bee50366-1eeb-4a81-85e1-b1dd20a7821e",
         "Srta. Ana Luiza Lima",
         "quidem",
         "2024-06-06",
         "Ana Laura Andrade",
         "Fogaça do Campo",
         "cum"
        ],
        [
         "d53802e7-6a38-4ba9-858c-d96365d4698b",
         "430095e8-1108-4edb-84d5-e1c67b0f02bb",
         "Dr. Augusto Vargas",
         "velit",
         "2021-09-30",
         "Maria Liz Mendes",
         "Novais",
         "ratione"
        ],
        [
         "5c087739-bc76-43c2-b1ef-b050a72b7810",
         "0a2b7714-4cff-4bdc-a3a0-524c479f75df",
         "Maria Eduarda Pereira",
         "voluptates",
         "2022-09-05",
         "Rafael Pastor",
         "Fogaça",
         "atque"
        ],
        [
         "a82b7e9f-e32e-4d01-9857-6a94fddc198b",
         "882ca2f3-09cc-4649-a34e-f7bb65c390c3",
         "Eduardo Aragão",
         "est",
         "2024-03-15",
         "Isabella Vargas",
         "Montenegro",
         "ducimus"
        ],
        [
         "f2ca949c-841c-4045-b9d0-2bdb69cf2393",
         "b2ed72b5-b389-4b3a-841f-d2e59aca34b4",
         "Luiz Otávio Garcia",
         "expedita",
         "2022-05-29",
         "Mariana Andrade",
         "Brito de da Cunha",
         "harum"
        ],
        [
         "86039386-03bd-43c7-89c8-088c7c7c88d4",
         "3f31c533-6694-4cb7-b26f-bd372df46eb0",
         "Dr. Pedro Lucas Nascimento",
         "ut",
         "2021-11-23",
         "Lucas da Costa",
         "Correia Alegre",
         "mollitia"
        ],
        [
         "0062f7ff-0fc2-4e91-85f1-0662cffc998e",
         "c05745d0-5f14-48ab-b664-af7391df1f4c",
         "Gael da Cunha",
         "ad",
         "2023-04-30",
         "Isis Cavalcante",
         "Lima",
         "voluptas"
        ],
        [
         "e8e5ab58-eefb-4caa-a9ff-89e2e08e0849",
         "518b5c6b-17a1-43d1-bd79-2a8ffcafa6e7",
         "João Felipe Fernandes",
         "mollitia",
         "2021-12-06",
         "Srta. Jade Dias",
         "da Cruz",
         "enim"
        ],
        [
         "80ae32af-4172-4909-83a0-373daf5210ad",
         "d1a120e1-cfb7-4311-8e2e-dfa62102816e",
         "Benício Ribeiro",
         "delectus",
         "2020-09-24",
         "Lucca Gonçalves",
         "Farias",
         "similique"
        ],
        [
         "d598491d-4fbd-4db1-9145-9c6d25f3c46f",
         "62a7fe51-ad77-4a64-87ea-7c039f95586b",
         "Maya Nascimento",
         "illum",
         "2021-12-14",
         "Maria Sophia Sampaio",
         "Dias",
         "nostrum"
        ],
        [
         "b152024f-efa1-4726-a348-0a14297ef72d",
         "d4d553d9-45f8-4a1a-a2ae-49288f50a711",
         "Julia da Mota",
         "eligendi",
         "2021-02-07",
         "Daniela Nogueira",
         "Rodrigues",
         "error"
        ]
       ],
       "datasetInfos": [],
       "dbfsResultPath": null,
       "isJsonSchema": true,
       "metadata": {},
       "overflow": false,
       "plotOptions": {
        "customPlotOptions": {},
        "displayType": "table",
        "pivotAggregation": null,
        "pivotColumns": null,
        "xColumns": null,
        "yColumns": null
       },
       "removedWidgets": [],
       "schema": [
        {
         "metadata": "{}",
         "name": "exame_id",
         "type": "\"string\""
        },
        {
         "metadata": "{}",
         "name": "paciente_id",
         "type": "\"string\""
        },
        {
         "metadata": "{}",
         "name": "nome_paciente",
         "type": "\"string\""
        },
        {
         "metadata": "{}",
         "name": "nome_exame",
         "type": "\"string\""
        },
        {
         "metadata": "{}",
         "name": "data_realizacao",
         "type": "\"string\""
        },
        {
         "metadata": "{}",
         "name": "solicitante",
         "type": "\"string\""
        },
        {
         "metadata": "{}",
         "name": "localidade",
         "type": "\"string\""
        },
        {
         "metadata": "{}",
         "name": "especialidade_solicitante",
         "type": "\"string\""
        }
       ],
       "type": "table"
      }
     },
     "output_type": "display_data"
    }
   ],
   "source": [
    "# 🥈 Silver - leitura formatada dos CSVs\n",
    "path_atendimentos_bronze = \"dbfs:/mnt/bronze/atendimentos.csv\"\n",
    "path_cirurgias_bronze = \"dbfs:/mnt/bronze/cirurgias_sus.csv\"\n",
    "path_exames_bronze = \"dbfs:/mnt/bronze/exames.csv\"\n",
    "\n",
    "# Leitura formatada\n",
    "df_atendimentos = (\n",
    "    spark.read\n",
    "        .format(\"csv\")\n",
    "        .option(\"header\", \"true\")\n",
    "        .option(\"sep\", \",\")\n",
    "        .option(\"encoding\", \"UTF-8\")\n",
    "        .load(path_atendimentos_bronze)\n",
    ")\n",
    "\n",
    "df_cirurgias = (\n",
    "    spark.read\n",
    "        .format(\"csv\")\n",
    "        .option(\"header\", \"true\")\n",
    "        .option(\"sep\", \",\")\n",
    "        .option(\"encoding\", \"UTF-8\")\n",
    "        .load(path_cirurgias_bronze)\n",
    ")\n",
    "\n",
    "df_exames = (\n",
    "    spark.read\n",
    "        .format(\"csv\")\n",
    "        .option(\"header\", \"true\")\n",
    "        .option(\"sep\", \",\")\n",
    "        .option(\"encoding\", \"UTF-8\")\n",
    "        .load(path_exames_bronze)\n",
    ")\n",
    "\n",
    "# Visualização já formatada\n",
    "print(\"Atendimentos - Silver:\")\n",
    "display(df_atendimentos.limit(100))\n",
    "print(\"Cirurgias - Silver:\")\n",
    "display(df_cirurgias.limit(100))\n",
    "print(\"Exames - Silver:\")\n",
    "display(df_exames.limit(100))\n",
    "\n",
    "# Salvar em Parquet\n",
    "df_atendimentos.write.mode(\"overwrite\").format(\"parquet\").save(\"/mnt/silver/atendimentos\")\n",
    "df_cirurgias.write.mode(\"overwrite\").format(\"parquet\").save(\"/mnt/silver/cirurgias\")\n",
    "df_exames.write.mode(\"overwrite\").format(\"parquet\").save(\"/mnt/silver/exames\")"
   ]
  },
  {
   "cell_type": "code",
   "execution_count": 0,
   "metadata": {
    "application/vnd.databricks.v1+cell": {
     "cellMetadata": {
      "byteLimit": 2048000,
      "rowLimit": 10000
     },
     "collapsed": true,
     "inputWidgets": {},
     "nuid": "10cfd6d7-faa8-492b-9006-583cde3eca49",
     "showTitle": false,
     "tableResultSettingsMap": {},
     "title": ""
    }
   },
   "outputs": [
    {
     "output_type": "stream",
     "name": "stdout",
     "output_type": "stream",
     "text": [
      "Carregando dados de atendimentos da camada Silver (Parquet)...\nCARREGADO COM SUCESSO!\n\nEsquema do DataFrame de Atendimentos (Silver) para referência:\nroot\n |-- atendimento_id: string (nullable = true)\n |-- paciente_id: string (nullable = true)\n |-- nome_paciente: string (nullable = true)\n |-- doenca: string (nullable = true)\n |-- localidade: string (nullable = true)\n |-- especialidade: string (nullable = true)\n |-- local_atendimento: string (nullable = true)\n |-- data_atendimento: string (nullable = true)\n |-- data_consulta: string (nullable = true)\n |-- medico: string (nullable = true)\n\n\nRealizando transformações e agregações para a camada Gold de atendimentos...\nAgregações para gráficos de atendimentos concluídas.\n\nSalvando DataFrames agregados de atendimentos na camada Gold (Parquet)...\nSalvos com sucesso.\n\nCriando temporárias a partir dos DataFrames da camada Gold...\nCRIADAS: 'gold_atendimentos_por_local', 'gold_atendimentos_por_data_atendimento', 'gold_atendimentos_por_medico'.\n"
     ]
    }
   ],
   "source": [
    "# 🥇 Gold - Preparação para Visualização dos dados de 'atendimentos'\n",
    "\n",
    "# IMPORTA AS BIBLIOETAS NECESSARIAS\n",
    "from pyspark.sql.functions import year, month, count, col, to_date, regexp_replace, trim, when, lit\n",
    "\n",
    "#  Carrega os dados da camada Silver (Parquet)\n",
    "print(\"Carregando dados de atendimentos da camada Silver (Parquet)...\")\n",
    "df_atendimentos_silver = spark.read.format(\"parquet\").load(\"/mnt/silver/atendimentos\")\n",
    "print(\"CARREGADO COM SUCESSO!\")\n",
    "\n",
    "# Garente que todos os nomes das colunas esteja certo.\n",
    "print(\"\\nEsquema do DataFrame de Atendimentos (Silver) para referência:\")\n",
    "df_atendimentos_silver.printSchema()\n",
    "\n",
    "#Transformações e Agregações para a Camada Gold \n",
    "print(\"\\nRealizando transformações e agregações para a camada Gold de atendimentos...\")\n",
    "\n",
    "# Limpeza e Agregação por 'local_atendimento'\n",
    "PADROES_PARA_REMOVER_LOCAL = \"(?i)(S/A| - EI|\\\\.{3}|Rua|Av\\\\.|Trav\\\\.|Avenida|Praca|Praça|Rodovia|Rod)\" # <-- AJUSTE ESTA EXPRESSÃO REGULAR\n",
    "\n",
    "# Aplicando a limpeza diretamente na coluna 'local_atendimento'\n",
    "df_atendimentos_gold = df_atendimentos_silver.withColumn(\n",
    "    \"local_atendimento\", \n",
    "    regexp_replace(\n",
    "        col(\"local_atendimento\"),\n",
    "        PADROES_PARA_REMOVER_LOCAL,\n",
    "        \"\"\n",
    "    )\n",
    ")\n",
    "\n",
    "df_atendimentos_gold = df_atendimentos_gold.withColumn(\n",
    "    \"local_atendimento\",\n",
    "    trim(regexp_replace(col(\"local_atendimento\"), \"\\\\.$\", \"\")) \n",
    ")\n",
    "#  FINALIZANDO A LIMPEZA NA COLUNA ORIGINAL\n",
    "df_atendimentos_gold = df_atendimentos_gold.withColumn(\n",
    "    \"local_atendimento\",\n",
    "    when(col(\"local_atendimento\").isNull() | (trim(col(\"local_atendimento\")) == \"\"), lit(\"Nao Informado\"))\n",
    "    .otherwise(col(\"local_atendimento\"))\n",
    ")\n",
    "\n",
    "# Agrupa e conta usando a coluna 'local_atendimento' já limpa\n",
    "df_atendimentos_gold_por_local = df_atendimentos_gold \\\n",
    "    .groupBy(\"local_atendimento\") \\\n",
    "    .agg(count(\"*\").alias(\"TotalAtendimentos\")) \\\n",
    "    .orderBy(col(\"TotalAtendimentos\").desc())\n",
    "\n",
    "\n",
    "# Agregação por 'data_atendimento' (Mes/Ano) \n",
    "NOME_COLUNA_DATA_ATENDIMENTO = \"data_atendimento\" \n",
    "FORMATO_DATA_ATENDIMENTO = \"yyyy-MM-dd\" \n",
    "\n",
    "df_atendimentos_com_data_atendimento_formatada = df_atendimentos_silver.withColumn(\n",
    "    \"data_atendimento_formatada\", to_date(col(NOME_COLUNA_DATA_ATENDIMENTO), FORMATO_DATA_ATENDIMENTO)\n",
    ")\n",
    "\n",
    "df_atendimentos_gold_por_data_atendimento = df_atendimentos_com_data_atendimento_formatada \\\n",
    "    .filter(col(\"data_atendimento_formatada\").isNotNull()) \\\n",
    "    .groupBy(year(\"data_atendimento_formatada\").alias(\"Ano\"), \\\n",
    "             month(\"data_atendimento_formatada\").alias(\"Mes\")) \\\n",
    "    .agg(count(\"*\").alias(\"TotalAtendimentos\")) \\\n",
    "    .orderBy(\"Ano\", \"Mes\")\n",
    "\n",
    "# Agregação por 'medico'\n",
    "\n",
    "NOME_COLUNA_MEDICO = \"medico\"\n",
    "\n",
    "df_atendimentos_gold_por_medico = df_atendimentos_silver \\\n",
    "    .groupBy(col(NOME_COLUNA_MEDICO).alias(\"NomeMedico\")) \\\n",
    "    .agg(count(\"*\").alias(\"TotalAtendimentos\")) \\\n",
    "    .orderBy(col(\"TotalAtendimentos\").desc())\n",
    "\n",
    "print(\"Agregações para gráficos de atendimentos concluídas.\")\n",
    "\n",
    "# Salva os dados agregados para o grafico na Camada Gold \n",
    "print(\"\\nSalvando DataFrames agregados de atendimentos na camada Gold (Parquet)...\")\n",
    "df_atendimentos_gold_por_local.write.mode(\"overwrite\").format(\"parquet\").save(\"/mnt/gold/atendimentos_por_local\")\n",
    "df_atendimentos_gold_por_data_atendimento.write.mode(\"overwrite\").format(\"parquet\").save(\"/mnt/gold/atendimentos_por_data_atendimento\")\n",
    "df_atendimentos_gold_por_medico.write.mode(\"overwrite\").format(\"parquet\").save(\"/mnt/gold/atendimentos_por_medico\")\n",
    "print(\"Salvos com sucesso.\")\n",
    "\n",
    "\n",
    "#  Cria visualizaçoes temporárias para os gráficos\n",
    "print(\"\\nCriando temporárias a partir dos DataFrames da camada Gold...\")\n",
    "df_atendimentos_gold_por_local.createOrReplaceTempView(\"gold_atendimentos_por_local\")\n",
    "df_atendimentos_gold_por_data_atendimento.createOrReplaceTempView(\"gold_atendimentos_por_data_atendimento\")\n",
    "df_atendimentos_gold_por_medico.createOrReplaceTempView(\"gold_atendimentos_por_medico\")\n",
    "print(\"CRIADAS: 'gold_atendimentos_por_local', 'gold_atendimentos_por_data_atendimento', 'gold_atendimentos_por_medico'.\")"
   ]
  },
  {
   "cell_type": "code",
   "execution_count": 0,
   "metadata": {
    "application/vnd.databricks.v1+cell": {
     "cellMetadata": {
      "byteLimit": 2048000,
      "implicitDf": true,
      "rowLimit": 10000
     },
     "collapsed": true,
     "inputWidgets": {},
     "nuid": "64385d91-51c9-459c-80e8-898b84041c43",
     "showTitle": false,
     "tableResultSettingsMap": {},
     "title": ""
    }
   },
   "outputs": [
    {
     "output_type": "display_data",
     "data": {
      "text/html": [
       "<style scoped>\n",
       "  .table-result-container {\n",
       "    max-height: 300px;\n",
       "    overflow: auto;\n",
       "  }\n",
       "  table, th, td {\n",
       "    border: 1px solid black;\n",
       "    border-collapse: collapse;\n",
       "  }\n",
       "  th, td {\n",
       "    padding: 5px;\n",
       "  }\n",
       "  th {\n",
       "    text-align: left;\n",
       "  }\n",
       "</style><div class='table-result-container'><table class='table-result'><thead style='background-color: white'><tr><th>local_atendimento</th><th>TotalAtendimentos</th></tr></thead><tbody><tr><td>Siqueira</td><td>653</td></tr><tr><td>Guerra</td><td>645</td></tr><tr><td>Machado</td><td>636</td></tr><tr><td>Moraes</td><td>626</td></tr><tr><td>Câmara</td><td>622</td></tr><tr><td>Leão</td><td>619</td></tr><tr><td>Rezende</td><td>619</td></tr><tr><td>Ferreira</td><td>614</td></tr><tr><td>Garcia</td><td>609</td></tr><tr><td>Alves</td><td>608</td></tr><tr><td>Brito</td><td>604</td></tr><tr><td>Fernandes</td><td>603</td></tr><tr><td>Pacheco</td><td>601</td></tr><tr><td>Rios</td><td>599</td></tr><tr><td>Pastor</td><td>598</td></tr><tr><td>Sales</td><td>598</td></tr><tr><td>Duarte</td><td>598</td></tr><tr><td>Moura</td><td>597</td></tr><tr><td>Sousa</td><td>596</td></tr><tr><td>Ramos</td><td>595</td></tr></tbody></table></div>"
      ]
     },
     "metadata": {
      "application/vnd.databricks.v1+output": {
       "addedWidgets": {},
       "aggData": [],
       "aggError": "",
       "aggOverflow": false,
       "aggSchema": [],
       "aggSeriesLimitReached": false,
       "aggType": "",
       "arguments": {},
       "columnCustomDisplayInfos": {},
       "data": [
        [
         "Siqueira",
         653
        ],
        [
         "Guerra",
         645
        ],
        [
         "Machado",
         636
        ],
        [
         "Moraes",
         626
        ],
        [
         "Câmara",
         622
        ],
        [
         "Leão",
         619
        ],
        [
         "Rezende",
         619
        ],
        [
         "Ferreira",
         614
        ],
        [
         "Garcia",
         609
        ],
        [
         "Alves",
         608
        ],
        [
         "Brito",
         604
        ],
        [
         "Fernandes",
         603
        ],
        [
         "Pacheco",
         601
        ],
        [
         "Rios",
         599
        ],
        [
         "Pastor",
         598
        ],
        [
         "Sales",
         598
        ],
        [
         "Duarte",
         598
        ],
        [
         "Moura",
         597
        ],
        [
         "Sousa",
         596
        ],
        [
         "Ramos",
         595
        ]
       ],
       "datasetInfos": [],
       "dbfsResultPath": null,
       "isJsonSchema": true,
       "metadata": {},
       "overflow": false,
       "plotOptions": {
        "customPlotOptions": {},
        "displayType": "table",
        "pivotAggregation": null,
        "pivotColumns": null,
        "xColumns": null,
        "yColumns": null
       },
       "removedWidgets": [],
       "schema": [
        {
         "metadata": "{}",
         "name": "local_atendimento",
         "type": "\"string\""
        },
        {
         "metadata": "{}",
         "name": "TotalAtendimentos",
         "type": "\"long\""
        }
       ],
       "type": "table"
      }
     },
     "output_type": "display_data"
    },
    {
     "output_type": "display_data",
     "data": {
      "text/plain": [
       "Databricks visualization. Run in Databricks to view."
      ]
     },
     "metadata": {
      "application/vnd.databricks.v1.subcommand+json": {
       "baseErrorDetails": null,
       "bindings": {},
       "collapsed": false,
       "command": "%sql WITH q AS (SELECT local_atendimento, TotalAtendimentos\nFROM gold_atendimentos_por_local\nORDER BY TotalAtendimentos DESC\nLIMIT 20) SELECT `local_atendimento`,SUM(`TotalAtendimentos`) `column_ac6ac81f59` FROM q GROUP BY `local_atendimento`",
       "commandTitle": "GRAFICO EM BAR",
       "commandType": "auto",
       "commandVersion": 0,
       "commentThread": [],
       "commentsVisible": false,
       "contentSha256Hex": null,
       "customPlotOptions": {
        "redashChart": [
         {
          "key": "type",
          "value": "CHART"
         },
         {
          "key": "options",
          "value": {
           "alignYAxesAtZero": true,
           "coefficient": 1,
           "columnConfigurationMap": {
            "x": {
             "column": "local_atendimento",
             "id": "column_ac6ac81f58"
            },
            "y": [
             {
              "column": "TotalAtendimentos",
              "id": "column_ac6ac81f59",
              "transform": "SUM"
             }
            ]
           },
           "dateTimeFormat": "DD/MM/YYYY HH:mm",
           "direction": {
            "type": "counterclockwise"
           },
           "error_y": {
            "type": "data",
            "visible": true
           },
           "globalSeriesType": "column",
           "legend": {
            "traceorder": "normal"
           },
           "missingValuesAsZero": true,
           "numberFormat": "0,0.[00000]",
           "percentFormat": "0[.]00%",
           "series": {
            "error_y": {
             "type": "data",
             "visible": true
            },
            "stacking": null
           },
           "seriesOptions": {
            "column_ac6ac81f59": {
             "name": "TotalAtendimentos",
             "type": "column",
             "yAxis": 0
            }
           },
           "showDataLabels": false,
           "sizemode": "diameter",
           "sortX": true,
           "sortY": true,
           "swappedAxes": false,
           "textFormat": "",
           "useAggregationsUi": true,
           "valuesOptions": {},
           "version": 2,
           "xAxis": {
            "labels": {
             "enabled": true
            },
            "type": "-"
           },
           "yAxis": [
            {
             "type": "-"
            },
            {
             "opposite": true,
             "type": "-"
            }
           ]
          }
         }
        ]
       },
       "datasetPreviewNameToCmdIdMap": {},
       "diffDeletes": [],
       "diffInserts": [],
       "displayType": "redashChart",
       "error": null,
       "errorDetails": null,
       "errorSummary": null,
       "errorTraceType": null,
       "finishTime": 0,
       "globalVars": {},
       "guid": "",
       "height": "auto",
       "hideCommandCode": false,
       "hideCommandResult": false,
       "iPythonMetadata": null,
       "inputWidgets": {},
       "isLockedInExamMode": false,
       "latestUser": "a user",
       "latestUserId": null,
       "listResultMetadata": null,
       "metadata": {},
       "nuid": "baebedb9-baaf-430f-a1ae-f4cf3222e9ef",
       "origId": 0,
       "parentHierarchy": [],
       "pivotAggregation": null,
       "pivotColumns": null,
       "position": 8.5,
       "resultDbfsErrorMessage": null,
       "resultDbfsStatus": "INLINED_IN_TREE",
       "results": null,
       "showCommandTitle": false,
       "startTime": 0,
       "state": "input",
       "streamStates": {},
       "subcommandOptions": {
        "queryPlan": {
         "groups": [
          {
           "column": "local_atendimento",
           "type": "column"
          }
         ],
         "selects": [
          {
           "column": "local_atendimento",
           "type": "column"
          },
          {
           "alias": "column_ac6ac81f59",
           "args": [
            {
             "column": "TotalAtendimentos",
             "type": "column"
            }
           ],
           "function": "SUM",
           "type": "function"
          }
         ]
        }
       },
       "submitTime": 0,
       "subtype": "tableResultSubCmd.visualization",
       "tableResultIndex": 0,
       "tableResultSettingsMap": {},
       "useConsistentColors": false,
       "version": "CommandV1",
       "width": "auto",
       "workflows": [],
       "xColumns": null,
       "yColumns": null
      }
     },
     "output_type": "display_data"
    },
    {
     "output_type": "display_data",
     "data": {
      "text/plain": [
       "Databricks visualization. Run in Databricks to view."
      ]
     },
     "metadata": {
      "application/vnd.databricks.v1.subcommand+json": {
       "baseErrorDetails": null,
       "bindings": {},
       "collapsed": false,
       "command": "%sql WITH q AS (SELECT local_atendimento, TotalAtendimentos\nFROM gold_atendimentos_por_local\nORDER BY TotalAtendimentos DESC\nLIMIT 20) SELECT `local_atendimento`,SUM(`TotalAtendimentos`) `column_ac6ac81f68` FROM q GROUP BY `local_atendimento`",
       "commandTitle": "GRAFICO EM PIE",
       "commandType": "auto",
       "commandVersion": 0,
       "commentThread": [],
       "commentsVisible": false,
       "contentSha256Hex": null,
       "customPlotOptions": {
        "redashChart": [
         {
          "key": "type",
          "value": "CHART"
         },
         {
          "key": "options",
          "value": {
           "alignYAxesAtZero": true,
           "coefficient": 1,
           "columnConfigurationMap": {
            "x": {
             "column": "local_atendimento",
             "id": "column_ac6ac81f67"
            },
            "y": [
             {
              "column": "TotalAtendimentos",
              "id": "column_ac6ac81f68",
              "transform": "SUM"
             }
            ]
           },
           "dateTimeFormat": "DD/MM/YYYY HH:mm",
           "direction": {
            "type": "counterclockwise"
           },
           "error_y": {
            "type": "data",
            "visible": true
           },
           "globalSeriesType": "pie",
           "legend": {
            "traceorder": "normal"
           },
           "missingValuesAsZero": true,
           "numberFormat": "0,0.[00000]",
           "percentFormat": "0[.]00%",
           "series": {
            "error_y": {
             "type": "data",
             "visible": true
            },
            "stacking": null
           },
           "seriesOptions": {
            "column_ac6ac81f68": {
             "name": "TotalAtendimentos",
             "type": "pie",
             "yAxis": 0
            }
           },
           "showDataLabels": true,
           "sizemode": "diameter",
           "sortX": true,
           "sortY": true,
           "swappedAxes": false,
           "textFormat": "",
           "useAggregationsUi": true,
           "valuesOptions": {},
           "version": 2,
           "xAxis": {
            "labels": {
             "enabled": true
            },
            "type": "-"
           },
           "yAxis": [
            {
             "type": "-"
            },
            {
             "opposite": true,
             "type": "-"
            }
           ]
          }
         }
        ]
       },
       "datasetPreviewNameToCmdIdMap": {},
       "diffDeletes": [],
       "diffInserts": [],
       "displayType": "redashChart",
       "error": null,
       "errorDetails": null,
       "errorSummary": null,
       "errorTraceType": null,
       "finishTime": 0,
       "globalVars": {},
       "guid": "",
       "height": "auto",
       "hideCommandCode": false,
       "hideCommandResult": false,
       "iPythonMetadata": null,
       "inputWidgets": {},
       "isLockedInExamMode": false,
       "latestUser": "a user",
       "latestUserId": null,
       "listResultMetadata": null,
       "metadata": {},
       "nuid": "07c7ba4d-c7bb-4b75-a9cc-5d61084ae889",
       "origId": 0,
       "parentHierarchy": [],
       "pivotAggregation": null,
       "pivotColumns": null,
       "position": 9.5,
       "resultDbfsErrorMessage": null,
       "resultDbfsStatus": "INLINED_IN_TREE",
       "results": null,
       "showCommandTitle": false,
       "startTime": 0,
       "state": "input",
       "streamStates": {},
       "subcommandOptions": {
        "queryPlan": {
         "groups": [
          {
           "column": "local_atendimento",
           "type": "column"
          }
         ],
         "selects": [
          {
           "column": "local_atendimento",
           "type": "column"
          },
          {
           "alias": "column_ac6ac81f68",
           "args": [
            {
             "column": "TotalAtendimentos",
             "type": "column"
            }
           ],
           "function": "SUM",
           "type": "function"
          }
         ]
        }
       },
       "submitTime": 0,
       "subtype": "tableResultSubCmd.visualization",
       "tableResultIndex": 0,
       "tableResultSettingsMap": {},
       "useConsistentColors": false,
       "version": "CommandV1",
       "width": "auto",
       "workflows": [],
       "xColumns": null,
       "yColumns": null
      }
     },
     "output_type": "display_data"
    }
   ],
   "source": [
    "%sql\n",
    "SELECT local_atendimento, TotalAtendimentos\n",
    "FROM gold_atendimentos_por_local\n",
    "ORDER BY TotalAtendimentos DESC\n",
    "LIMIT 20 "
   ]
  },
  {
   "cell_type": "code",
   "execution_count": 0,
   "metadata": {
    "application/vnd.databricks.v1+cell": {
     "cellMetadata": {
      "byteLimit": 2048000,
      "implicitDf": true,
      "rowLimit": 10000
     },
     "collapsed": true,
     "inputWidgets": {},
     "nuid": "595a8cef-8f0a-46c4-b797-4b93c6be6298",
     "showTitle": false,
     "tableResultSettingsMap": {},
     "title": ""
    }
   },
   "outputs": [
    {
     "output_type": "display_data",
     "data": {
      "text/html": [
       "<style scoped>\n",
       "  .table-result-container {\n",
       "    max-height: 300px;\n",
       "    overflow: auto;\n",
       "  }\n",
       "  table, th, td {\n",
       "    border: 1px solid black;\n",
       "    border-collapse: collapse;\n",
       "  }\n",
       "  th, td {\n",
       "    padding: 5px;\n",
       "  }\n",
       "  th {\n",
       "    text-align: left;\n",
       "  }\n",
       "</style><div class='table-result-container'><table class='table-result'><thead style='background-color: white'><tr><th>Ano</th><th>Mes</th><th>TotalAtendimentos</th></tr></thead><tbody><tr><td>2020</td><td>5</td><td>662</td></tr><tr><td>2020</td><td>6</td><td>1676</td></tr><tr><td>2020</td><td>7</td><td>1724</td></tr><tr><td>2020</td><td>8</td><td>1709</td></tr><tr><td>2020</td><td>9</td><td>1614</td></tr><tr><td>2020</td><td>10</td><td>1657</td></tr><tr><td>2020</td><td>11</td><td>1689</td></tr><tr><td>2020</td><td>12</td><td>1756</td></tr><tr><td>2021</td><td>1</td><td>1627</td></tr><tr><td>2021</td><td>2</td><td>1510</td></tr><tr><td>2021</td><td>3</td><td>1715</td></tr><tr><td>2021</td><td>4</td><td>1662</td></tr><tr><td>2021</td><td>5</td><td>1663</td></tr><tr><td>2021</td><td>6</td><td>1692</td></tr><tr><td>2021</td><td>7</td><td>1720</td></tr><tr><td>2021</td><td>8</td><td>1721</td></tr><tr><td>2021</td><td>9</td><td>1617</td></tr><tr><td>2021</td><td>10</td><td>1692</td></tr><tr><td>2021</td><td>11</td><td>1684</td></tr><tr><td>2021</td><td>12</td><td>1720</td></tr><tr><td>2022</td><td>1</td><td>1678</td></tr><tr><td>2022</td><td>2</td><td>1595</td></tr><tr><td>2022</td><td>3</td><td>1607</td></tr><tr><td>2022</td><td>4</td><td>1655</td></tr><tr><td>2022</td><td>5</td><td>1729</td></tr><tr><td>2022</td><td>6</td><td>1622</td></tr><tr><td>2022</td><td>7</td><td>1766</td></tr><tr><td>2022</td><td>8</td><td>1701</td></tr><tr><td>2022</td><td>9</td><td>1648</td></tr><tr><td>2022</td><td>10</td><td>1716</td></tr><tr><td>2022</td><td>11</td><td>1696</td></tr><tr><td>2022</td><td>12</td><td>1672</td></tr><tr><td>2023</td><td>1</td><td>1718</td></tr><tr><td>2023</td><td>2</td><td>1552</td></tr><tr><td>2023</td><td>3</td><td>1698</td></tr><tr><td>2023</td><td>4</td><td>1655</td></tr><tr><td>2023</td><td>5</td><td>1709</td></tr><tr><td>2023</td><td>6</td><td>1587</td></tr><tr><td>2023</td><td>7</td><td>1720</td></tr><tr><td>2023</td><td>8</td><td>1719</td></tr><tr><td>2023</td><td>9</td><td>1733</td></tr><tr><td>2023</td><td>10</td><td>1679</td></tr><tr><td>2023</td><td>11</td><td>1579</td></tr><tr><td>2023</td><td>12</td><td>1681</td></tr><tr><td>2024</td><td>1</td><td>1700</td></tr><tr><td>2024</td><td>2</td><td>1638</td></tr><tr><td>2024</td><td>3</td><td>1665</td></tr><tr><td>2024</td><td>4</td><td>1612</td></tr><tr><td>2024</td><td>5</td><td>1671</td></tr><tr><td>2024</td><td>6</td><td>1625</td></tr><tr><td>2024</td><td>7</td><td>1731</td></tr><tr><td>2024</td><td>8</td><td>1748</td></tr><tr><td>2024</td><td>9</td><td>1594</td></tr><tr><td>2024</td><td>10</td><td>1683</td></tr><tr><td>2024</td><td>11</td><td>1605</td></tr><tr><td>2024</td><td>12</td><td>1667</td></tr><tr><td>2025</td><td>1</td><td>1675</td></tr><tr><td>2025</td><td>2</td><td>1451</td></tr><tr><td>2025</td><td>3</td><td>1712</td></tr><tr><td>2025</td><td>4</td><td>1607</td></tr><tr><td>2025</td><td>5</td><td>991</td></tr></tbody></table></div>"
      ]
     },
     "metadata": {
      "application/vnd.databricks.v1+output": {
       "addedWidgets": {},
       "aggData": [],
       "aggError": "",
       "aggOverflow": false,
       "aggSchema": [],
       "aggSeriesLimitReached": false,
       "aggType": "",
       "arguments": {},
       "columnCustomDisplayInfos": {},
       "data": [
        [
         2020,
         5,
         662
        ],
        [
         2020,
         6,
         1676
        ],
        [
         2020,
         7,
         1724
        ],
        [
         2020,
         8,
         1709
        ],
        [
         2020,
         9,
         1614
        ],
        [
         2020,
         10,
         1657
        ],
        [
         2020,
         11,
         1689
        ],
        [
         2020,
         12,
         1756
        ],
        [
         2021,
         1,
         1627
        ],
        [
         2021,
         2,
         1510
        ],
        [
         2021,
         3,
         1715
        ],
        [
         2021,
         4,
         1662
        ],
        [
         2021,
         5,
         1663
        ],
        [
         2021,
         6,
         1692
        ],
        [
         2021,
         7,
         1720
        ],
        [
         2021,
         8,
         1721
        ],
        [
         2021,
         9,
         1617
        ],
        [
         2021,
         10,
         1692
        ],
        [
         2021,
         11,
         1684
        ],
        [
         2021,
         12,
         1720
        ],
        [
         2022,
         1,
         1678
        ],
        [
         2022,
         2,
         1595
        ],
        [
         2022,
         3,
         1607
        ],
        [
         2022,
         4,
         1655
        ],
        [
         2022,
         5,
         1729
        ],
        [
         2022,
         6,
         1622
        ],
        [
         2022,
         7,
         1766
        ],
        [
         2022,
         8,
         1701
        ],
        [
         2022,
         9,
         1648
        ],
        [
         2022,
         10,
         1716
        ],
        [
         2022,
         11,
         1696
        ],
        [
         2022,
         12,
         1672
        ],
        [
         2023,
         1,
         1718
        ],
        [
         2023,
         2,
         1552
        ],
        [
         2023,
         3,
         1698
        ],
        [
         2023,
         4,
         1655
        ],
        [
         2023,
         5,
         1709
        ],
        [
         2023,
         6,
         1587
        ],
        [
         2023,
         7,
         1720
        ],
        [
         2023,
         8,
         1719
        ],
        [
         2023,
         9,
         1733
        ],
        [
         2023,
         10,
         1679
        ],
        [
         2023,
         11,
         1579
        ],
        [
         2023,
         12,
         1681
        ],
        [
         2024,
         1,
         1700
        ],
        [
         2024,
         2,
         1638
        ],
        [
         2024,
         3,
         1665
        ],
        [
         2024,
         4,
         1612
        ],
        [
         2024,
         5,
         1671
        ],
        [
         2024,
         6,
         1625
        ],
        [
         2024,
         7,
         1731
        ],
        [
         2024,
         8,
         1748
        ],
        [
         2024,
         9,
         1594
        ],
        [
         2024,
         10,
         1683
        ],
        [
         2024,
         11,
         1605
        ],
        [
         2024,
         12,
         1667
        ],
        [
         2025,
         1,
         1675
        ],
        [
         2025,
         2,
         1451
        ],
        [
         2025,
         3,
         1712
        ],
        [
         2025,
         4,
         1607
        ],
        [
         2025,
         5,
         991
        ]
       ],
       "datasetInfos": [],
       "dbfsResultPath": null,
       "isJsonSchema": true,
       "metadata": {},
       "overflow": false,
       "plotOptions": {
        "customPlotOptions": {},
        "displayType": "table",
        "pivotAggregation": null,
        "pivotColumns": null,
        "xColumns": null,
        "yColumns": null
       },
       "removedWidgets": [],
       "schema": [
        {
         "metadata": "{}",
         "name": "Ano",
         "type": "\"integer\""
        },
        {
         "metadata": "{}",
         "name": "Mes",
         "type": "\"integer\""
        },
        {
         "metadata": "{}",
         "name": "TotalAtendimentos",
         "type": "\"long\""
        }
       ],
       "type": "table"
      }
     },
     "output_type": "display_data"
    },
    {
     "output_type": "display_data",
     "data": {
      "text/plain": [
       "Databricks visualization. Run in Databricks to view."
      ]
     },
     "metadata": {
      "application/vnd.databricks.v1.subcommand+json": {
       "baseErrorDetails": null,
       "bindings": {},
       "collapsed": false,
       "command": "%sql\nSELECT Ano, Mes, TotalAtendimentos\nFROM gold_atendimentos_por_data_atendimento\nORDER BY Ano, Mes",
       "commandTitle": "DETALHADO",
       "commandType": "auto",
       "commandVersion": 0,
       "commentThread": [],
       "commentsVisible": false,
       "contentSha256Hex": null,
       "customPlotOptions": {
        "redashChart": [
         {
          "key": "type",
          "value": "DETAILS"
         },
         {
          "key": "options",
          "value": {
           "columns": [
            {
             "name": "Ano",
             "title": "Ano",
             "type": "integer"
            },
            {
             "name": "Mes",
             "title": "Mes",
             "type": "integer"
            },
            {
             "name": "TotalAtendimentos",
             "title": "TotalAtendimentos",
             "type": "integer"
            }
           ],
           "version": 1
          }
         }
        ]
       },
       "datasetPreviewNameToCmdIdMap": {},
       "diffDeletes": [],
       "diffInserts": [],
       "displayType": "redashChart",
       "error": null,
       "errorDetails": null,
       "errorSummary": null,
       "errorTraceType": null,
       "finishTime": 0,
       "globalVars": {},
       "guid": "",
       "height": "auto",
       "hideCommandCode": false,
       "hideCommandResult": false,
       "iPythonMetadata": null,
       "inputWidgets": {},
       "isLockedInExamMode": false,
       "latestUser": "a user",
       "latestUserId": null,
       "listResultMetadata": null,
       "metadata": {},
       "nuid": "ed365aae-f641-48f3-b9a5-719f5e3edffb",
       "origId": 0,
       "parentHierarchy": [],
       "pivotAggregation": null,
       "pivotColumns": null,
       "position": 9.5,
       "resultDbfsErrorMessage": null,
       "resultDbfsStatus": "INLINED_IN_TREE",
       "results": null,
       "showCommandTitle": false,
       "startTime": 0,
       "state": "input",
       "streamStates": {},
       "subcommandOptions": {},
       "submitTime": 0,
       "subtype": "tableResultSubCmd.visualization",
       "tableResultIndex": 0,
       "tableResultSettingsMap": {},
       "useConsistentColors": false,
       "version": "CommandV1",
       "width": "auto",
       "workflows": [],
       "xColumns": null,
       "yColumns": null
      }
     },
     "output_type": "display_data"
    }
   ],
   "source": [
    "%sql\n",
    "SELECT Ano, Mes, TotalAtendimentos\n",
    "FROM gold_atendimentos_por_data_atendimento\n",
    "ORDER BY Ano, Mes"
   ]
  },
  {
   "cell_type": "code",
   "execution_count": 0,
   "metadata": {
    "application/vnd.databricks.v1+cell": {
     "cellMetadata": {
      "byteLimit": 2048000,
      "implicitDf": true,
      "rowLimit": 10000
     },
     "inputWidgets": {},
     "nuid": "df5aef90-690f-4074-b394-bd900a50bcbe",
     "showTitle": false,
     "tableResultSettingsMap": {},
     "title": ""
    }
   },
   "outputs": [
    {
     "output_type": "display_data",
     "data": {
      "text/html": [
       "<style scoped>\n",
       "  .table-result-container {\n",
       "    max-height: 300px;\n",
       "    overflow: auto;\n",
       "  }\n",
       "  table, th, td {\n",
       "    border: 1px solid black;\n",
       "    border-collapse: collapse;\n",
       "  }\n",
       "  th, td {\n",
       "    padding: 5px;\n",
       "  }\n",
       "  th {\n",
       "    text-align: left;\n",
       "  }\n",
       "</style><div class='table-result-container'><table class='table-result'><thead style='background-color: white'><tr><th>NomeMedico</th><th>TotalAtendimentos</th></tr></thead><tbody><tr><td>Otávio Barros</td><td>11</td></tr><tr><td>Ana Laura Andrade</td><td>11</td></tr><tr><td>Fernando Albuquerque</td><td>11</td></tr><tr><td>Anthony Sousa</td><td>10</td></tr><tr><td>Nicolas Nunes</td><td>10</td></tr><tr><td>Levi Correia</td><td>10</td></tr><tr><td>Luiz Miguel Almeida</td><td>10</td></tr><tr><td>Marcelo Cavalcanti</td><td>10</td></tr><tr><td>Larissa Nunes</td><td>10</td></tr><tr><td>Luiz Henrique Nascimento</td><td>10</td></tr></tbody></table></div>"
      ]
     },
     "metadata": {
      "application/vnd.databricks.v1+output": {
       "addedWidgets": {},
       "aggData": [],
       "aggError": "",
       "aggOverflow": false,
       "aggSchema": [],
       "aggSeriesLimitReached": false,
       "aggType": "",
       "arguments": {},
       "columnCustomDisplayInfos": {},
       "data": [
        [
         "Otávio Barros",
         11
        ],
        [
         "Ana Laura Andrade",
         11
        ],
        [
         "Fernando Albuquerque",
         11
        ],
        [
         "Anthony Sousa",
         10
        ],
        [
         "Nicolas Nunes",
         10
        ],
        [
         "Levi Correia",
         10
        ],
        [
         "Luiz Miguel Almeida",
         10
        ],
        [
         "Marcelo Cavalcanti",
         10
        ],
        [
         "Larissa Nunes",
         10
        ],
        [
         "Luiz Henrique Nascimento",
         10
        ]
       ],
       "datasetInfos": [],
       "dbfsResultPath": null,
       "isJsonSchema": true,
       "metadata": {},
       "overflow": false,
       "plotOptions": {
        "customPlotOptions": {},
        "displayType": "table",
        "pivotAggregation": null,
        "pivotColumns": null,
        "xColumns": null,
        "yColumns": null
       },
       "removedWidgets": [],
       "schema": [
        {
         "metadata": "{}",
         "name": "NomeMedico",
         "type": "\"string\""
        },
        {
         "metadata": "{}",
         "name": "TotalAtendimentos",
         "type": "\"long\""
        }
       ],
       "type": "table"
      }
     },
     "output_type": "display_data"
    },
    {
     "output_type": "display_data",
     "data": {
      "text/plain": [
       "Databricks visualization. Run in Databricks to view."
      ]
     },
     "metadata": {
      "application/vnd.databricks.v1.subcommand+json": {
       "baseErrorDetails": null,
       "bindings": {},
       "collapsed": false,
       "command": "%sql WITH q AS (SELECT NomeMedico, TotalAtendimentos\nFROM gold_atendimentos_por_medico\nORDER BY TotalAtendimentos DESC\nLIMIT 10) SELECT `NomeMedico`,SUM(`TotalAtendimentos`) `column_ac6ac81f140` FROM q GROUP BY `NomeMedico`",
       "commandTitle": "DETALHADO",
       "commandType": "auto",
       "commandVersion": 0,
       "commentThread": [],
       "commentsVisible": false,
       "contentSha256Hex": null,
       "customPlotOptions": {
        "redashChart": [
         {
          "key": "type",
          "value": "DETAILS"
         },
         {
          "key": "options",
          "value": {
           "columns": [
            {
             "name": "NomeMedico",
             "title": "NomeMedico",
             "type": "string"
            },
            {
             "name": "TotalAtendimentos",
             "title": "TotalAtendimentos",
             "type": "integer"
            }
           ],
           "version": 1
          }
         }
        ]
       },
       "datasetPreviewNameToCmdIdMap": {},
       "diffDeletes": [],
       "diffInserts": [],
       "displayType": "redashChart",
       "error": null,
       "errorDetails": null,
       "errorSummary": null,
       "errorTraceType": null,
       "finishTime": 0,
       "globalVars": {},
       "guid": "",
       "height": "auto",
       "hideCommandCode": false,
       "hideCommandResult": false,
       "iPythonMetadata": null,
       "inputWidgets": {},
       "isLockedInExamMode": false,
       "latestUser": "a user",
       "latestUserId": null,
       "listResultMetadata": null,
       "metadata": {},
       "nuid": "7779d703-41c0-43ee-a18b-6eeef9a64d0c",
       "origId": 0,
       "parentHierarchy": [],
       "pivotAggregation": null,
       "pivotColumns": null,
       "position": 10.5,
       "resultDbfsErrorMessage": null,
       "resultDbfsStatus": "INLINED_IN_TREE",
       "results": null,
       "showCommandTitle": false,
       "startTime": 0,
       "state": "input",
       "streamStates": {},
       "subcommandOptions": {},
       "submitTime": 0,
       "subtype": "tableResultSubCmd.visualization",
       "tableResultIndex": 0,
       "tableResultSettingsMap": {},
       "useConsistentColors": false,
       "version": "CommandV1",
       "width": "auto",
       "workflows": [],
       "xColumns": null,
       "yColumns": null
      }
     },
     "output_type": "display_data"
    }
   ],
   "source": [
    "%sql\n",
    "SELECT NomeMedico, TotalAtendimentos\n",
    "FROM gold_atendimentos_por_medico\n",
    "ORDER BY TotalAtendimentos DESC\n",
    "LIMIT 10"
   ]
  }
 ],
 "metadata": {
  "application/vnd.databricks.v1+notebook": {
   "computePreferences": null,
   "dashboards": [],
   "environmentMetadata": null,
   "inputWidgetPreferences": null,
   "language": "python",
   "notebookMetadata": {
    "mostRecentlyExecutedCommandWithImplicitDF": {
     "commandId": 3746916072627189,
     "dataframes": [
      "_sqldf"
     ]
    },
    "pythonIndentUnit": 4
   },
   "notebookName": "NTTdata saude",
   "widgets": {}
  }
 },
 "nbformat": 4,
 "nbformat_minor": 0
}